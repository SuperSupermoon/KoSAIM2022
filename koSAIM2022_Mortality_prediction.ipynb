{
  "nbformat": 4,
  "nbformat_minor": 0,
  "metadata": {
    "kernelspec": {
      "name": "python3",
      "display_name": "Python 3"
    },
    "colab": {
      "name": "koSAIM2022_Mortality_prediction",
      "provenance": [],
      "collapsed_sections": [],
      "include_colab_link": true
    },
    "accelerator": "GPU",
    "language_info": {
      "name": "python"
    }
  },
  "cells": [
    {
      "cell_type": "markdown",
      "metadata": {
        "id": "view-in-github",
        "colab_type": "text"
      },
      "source": [
        "<a href=\"https://colab.research.google.com/github/SuperSupermoon/KoSAIM2022/blob/main/koSAIM2022_Mortality_prediction.ipynb\" target=\"_parent\"><img src=\"https://colab.research.google.com/assets/colab-badge.svg\" alt=\"Open In Colab\"/></a>"
      ]
    },
    {
      "cell_type": "markdown",
      "metadata": {
        "id": "XHIOrKy8pDFy"
      },
      "source": [
        "MIMIC demo Dataset downlod"
      ]
    },
    {
      "cell_type": "code",
      "metadata": {
        "colab": {
          "base_uri": "https://localhost:8080/"
        },
        "id": "JNVee3gNo3ky",
        "outputId": "2bf41338-f2e0-4e1a-d369-67eec28d87a0"
      },
      "source": [
        "#Demo dataset download\n",
        "!wget https://www.dropbox.com/s/akp9alsb90al94i/ICUSTAYS.csv\n",
        "!wget https://www.dropbox.com/s/hc9tov37gjnoux8/CHARTEVENTS.csv\n",
        "!wget https://www.dropbox.com/s/9xliua9uzb6mdp9/ADMISSIONS.csv"
      ],
      "execution_count": 3,
      "outputs": [
        {
          "output_type": "stream",
          "name": "stdout",
          "text": [
            "--2022-08-12 19:30:55--  https://www.dropbox.com/s/akp9alsb90al94i/ICUSTAYS.csv\n",
            "Resolving www.dropbox.com (www.dropbox.com)... 162.125.1.18, 2620:100:6016:18::a27d:112\n",
            "Connecting to www.dropbox.com (www.dropbox.com)|162.125.1.18|:443... connected.\n",
            "HTTP request sent, awaiting response... 301 Moved Permanently\n",
            "Location: /s/raw/akp9alsb90al94i/ICUSTAYS.csv [following]\n",
            "--2022-08-12 19:30:55--  https://www.dropbox.com/s/raw/akp9alsb90al94i/ICUSTAYS.csv\n",
            "Reusing existing connection to www.dropbox.com:443.\n",
            "HTTP request sent, awaiting response... 302 Found\n",
            "Location: https://uc4c324dcc0f1c21556a06da319f.dl.dropboxusercontent.com/cd/0/inline/Bq5yvprQJd4G7Rb4hbdTuWff5EmHvNAo-AYsG2lZhdAc3T5FnD3xYYyZiTjuoCcWFNIpfG3as7hKFGTJ0z2G9NT5uqo3FmaR_fbbjjg5KJMGdyKrM5QM8tQdm7qBNg2xHPryfgi4RlR2IbFZILN3a3hRAa6uCjScMw3AefTEcMyg6Q/file# [following]\n",
            "--2022-08-12 19:30:55--  https://uc4c324dcc0f1c21556a06da319f.dl.dropboxusercontent.com/cd/0/inline/Bq5yvprQJd4G7Rb4hbdTuWff5EmHvNAo-AYsG2lZhdAc3T5FnD3xYYyZiTjuoCcWFNIpfG3as7hKFGTJ0z2G9NT5uqo3FmaR_fbbjjg5KJMGdyKrM5QM8tQdm7qBNg2xHPryfgi4RlR2IbFZILN3a3hRAa6uCjScMw3AefTEcMyg6Q/file\n",
            "Resolving uc4c324dcc0f1c21556a06da319f.dl.dropboxusercontent.com (uc4c324dcc0f1c21556a06da319f.dl.dropboxusercontent.com)... 162.125.1.15, 2620:100:6016:15::a27d:10f\n",
            "Connecting to uc4c324dcc0f1c21556a06da319f.dl.dropboxusercontent.com (uc4c324dcc0f1c21556a06da319f.dl.dropboxusercontent.com)|162.125.1.15|:443... connected.\n",
            "HTTP request sent, awaiting response... 200 OK\n",
            "Length: 12759 (12K) [text/plain]\n",
            "Saving to: ‘ICUSTAYS.csv’\n",
            "\n",
            "ICUSTAYS.csv        100%[===================>]  12.46K  --.-KB/s    in 0s      \n",
            "\n",
            "2022-08-12 19:30:56 (336 MB/s) - ‘ICUSTAYS.csv’ saved [12759/12759]\n",
            "\n",
            "--2022-08-12 19:30:56--  https://www.dropbox.com/s/hc9tov37gjnoux8/CHARTEVENTS.csv\n",
            "Resolving www.dropbox.com (www.dropbox.com)... 162.125.1.18, 2620:100:6030:18::a27d:5012\n",
            "Connecting to www.dropbox.com (www.dropbox.com)|162.125.1.18|:443... connected.\n",
            "HTTP request sent, awaiting response... 301 Moved Permanently\n",
            "Location: /s/raw/hc9tov37gjnoux8/CHARTEVENTS.csv [following]\n",
            "--2022-08-12 19:30:56--  https://www.dropbox.com/s/raw/hc9tov37gjnoux8/CHARTEVENTS.csv\n",
            "Reusing existing connection to www.dropbox.com:443.\n",
            "HTTP request sent, awaiting response... 302 Found\n",
            "Location: https://uc24788dabfef5cef3d624cc7082.dl.dropboxusercontent.com/cd/0/inline/Bq7lrc0dwhiwJht5WIThDLYlP_tOZwaH9D19TcZa_BLKCQle1L_zDmlpmicTz9yrxzf6bT5JBvGtwBbf23lIVh85gl_x5nRQ7BUvunSGsN1BONwzAJL9N-fX4J0J5scYHho7jwVa2A-DNIcQvbKNNuyEIYj5XD7tGrobbcvnSq8rsg/file# [following]\n",
            "--2022-08-12 19:30:57--  https://uc24788dabfef5cef3d624cc7082.dl.dropboxusercontent.com/cd/0/inline/Bq7lrc0dwhiwJht5WIThDLYlP_tOZwaH9D19TcZa_BLKCQle1L_zDmlpmicTz9yrxzf6bT5JBvGtwBbf23lIVh85gl_x5nRQ7BUvunSGsN1BONwzAJL9N-fX4J0J5scYHho7jwVa2A-DNIcQvbKNNuyEIYj5XD7tGrobbcvnSq8rsg/file\n",
            "Resolving uc24788dabfef5cef3d624cc7082.dl.dropboxusercontent.com (uc24788dabfef5cef3d624cc7082.dl.dropboxusercontent.com)... 162.125.1.15, 2620:100:6030:15::a27d:500f\n",
            "Connecting to uc24788dabfef5cef3d624cc7082.dl.dropboxusercontent.com (uc24788dabfef5cef3d624cc7082.dl.dropboxusercontent.com)|162.125.1.15|:443... connected.\n",
            "HTTP request sent, awaiting response... 200 OK\n",
            "Length: 73029930 (70M) [text/plain]\n",
            "Saving to: ‘CHARTEVENTS.csv’\n",
            "\n",
            "CHARTEVENTS.csv     100%[===================>]  69.65M   149MB/s    in 0.5s    \n",
            "\n",
            "2022-08-12 19:30:58 (149 MB/s) - ‘CHARTEVENTS.csv’ saved [73029930/73029930]\n",
            "\n",
            "--2022-08-12 19:30:58--  https://www.dropbox.com/s/9xliua9uzb6mdp9/ADMISSIONS.csv\n",
            "Resolving www.dropbox.com (www.dropbox.com)... 162.125.1.18, 2620:100:6030:18::a27d:5012\n",
            "Connecting to www.dropbox.com (www.dropbox.com)|162.125.1.18|:443... connected.\n",
            "HTTP request sent, awaiting response... 301 Moved Permanently\n",
            "Location: /s/raw/9xliua9uzb6mdp9/ADMISSIONS.csv [following]\n",
            "--2022-08-12 19:30:58--  https://www.dropbox.com/s/raw/9xliua9uzb6mdp9/ADMISSIONS.csv\n",
            "Reusing existing connection to www.dropbox.com:443.\n",
            "HTTP request sent, awaiting response... 302 Found\n",
            "Location: https://uc43ee76208e2173036f942c503f.dl.dropboxusercontent.com/cd/0/inline/Bq44V0EY84mk0z9amBF6bQeCvrqtr9GlETQ1PIj5Jf38fwcCROTD04J7GUuWmb7yBd05sbuTYYj2_g8ocn43ij6KXMyTJ1QBPf5A707I3ns_3DA8TTFc0VPfXd4a8dTeqY8ZP4u31sWAyEtMu0uaG_VO7Sn0Z5vU2pkLebJPjb6zew/file# [following]\n",
            "--2022-08-12 19:30:59--  https://uc43ee76208e2173036f942c503f.dl.dropboxusercontent.com/cd/0/inline/Bq44V0EY84mk0z9amBF6bQeCvrqtr9GlETQ1PIj5Jf38fwcCROTD04J7GUuWmb7yBd05sbuTYYj2_g8ocn43ij6KXMyTJ1QBPf5A707I3ns_3DA8TTFc0VPfXd4a8dTeqY8ZP4u31sWAyEtMu0uaG_VO7Sn0Z5vU2pkLebJPjb6zew/file\n",
            "Resolving uc43ee76208e2173036f942c503f.dl.dropboxusercontent.com (uc43ee76208e2173036f942c503f.dl.dropboxusercontent.com)... 162.125.1.15, 2620:100:6016:15::a27d:10f\n",
            "Connecting to uc43ee76208e2173036f942c503f.dl.dropboxusercontent.com (uc43ee76208e2173036f942c503f.dl.dropboxusercontent.com)|162.125.1.15|:443... connected.\n",
            "HTTP request sent, awaiting response... 200 OK\n",
            "Length: 25393 (25K) [text/plain]\n",
            "Saving to: ‘ADMISSIONS.csv’\n",
            "\n",
            "ADMISSIONS.csv      100%[===================>]  24.80K  --.-KB/s    in 0.005s  \n",
            "\n",
            "2022-08-12 19:30:59 (4.93 MB/s) - ‘ADMISSIONS.csv’ saved [25393/25393]\n",
            "\n"
          ]
        }
      ]
    },
    {
      "cell_type": "code",
      "metadata": {
        "id": "xcIGqqQsoxbb"
      },
      "source": [
        "import pandas as pd\n",
        "import numpy as np\n",
        "import os\n",
        "import warnings\n",
        "warnings.filterwarnings( 'ignore' )"
      ],
      "execution_count": 1,
      "outputs": []
    },
    {
      "cell_type": "code",
      "metadata": {
        "colab": {
          "base_uri": "https://localhost:8080/",
          "height": 36
        },
        "id": "waLBFnPcoxbe",
        "outputId": "ca8ba8e7-30c1-4747-fe87-8156a6b25e1d"
      },
      "source": [
        "os.getcwd()"
      ],
      "execution_count": 2,
      "outputs": [
        {
          "output_type": "execute_result",
          "data": {
            "text/plain": [
              "'/content'"
            ],
            "application/vnd.google.colaboratory.intrinsic+json": {
              "type": "string"
            }
          },
          "metadata": {},
          "execution_count": 2
        }
      ]
    },
    {
      "cell_type": "code",
      "metadata": {
        "colab": {
          "base_uri": "https://localhost:8080/"
        },
        "id": "LmGAqOR9oxbf",
        "outputId": "5f74a80b-5fd1-484c-cdec-43a8cbb0ea91"
      },
      "source": [
        "!nvidia-smi"
      ],
      "execution_count": 4,
      "outputs": [
        {
          "output_type": "stream",
          "name": "stdout",
          "text": [
            "Fri Aug 12 19:30:59 2022       \n",
            "+-----------------------------------------------------------------------------+\n",
            "| NVIDIA-SMI 460.32.03    Driver Version: 460.32.03    CUDA Version: 11.2     |\n",
            "|-------------------------------+----------------------+----------------------+\n",
            "| GPU  Name        Persistence-M| Bus-Id        Disp.A | Volatile Uncorr. ECC |\n",
            "| Fan  Temp  Perf  Pwr:Usage/Cap|         Memory-Usage | GPU-Util  Compute M. |\n",
            "|                               |                      |               MIG M. |\n",
            "|===============================+======================+======================|\n",
            "|   0  Tesla T4            Off  | 00000000:00:04.0 Off |                    0 |\n",
            "| N/A   49C    P8    10W /  70W |      0MiB / 15109MiB |      0%      Default |\n",
            "|                               |                      |                  N/A |\n",
            "+-------------------------------+----------------------+----------------------+\n",
            "                                                                               \n",
            "+-----------------------------------------------------------------------------+\n",
            "| Processes:                                                                  |\n",
            "|  GPU   GI   CI        PID   Type   Process name                  GPU Memory |\n",
            "|        ID   ID                                                   Usage      |\n",
            "|=============================================================================|\n",
            "|  No running processes found                                                 |\n",
            "+-----------------------------------------------------------------------------+\n"
          ]
        }
      ]
    },
    {
      "cell_type": "markdown",
      "metadata": {
        "id": "UyeNupqIoxbg"
      },
      "source": [
        "# Table ICUSTAY"
      ]
    },
    {
      "cell_type": "code",
      "metadata": {
        "colab": {
          "base_uri": "https://localhost:8080/",
          "height": 53
        },
        "id": "4ut_1Z27oxbg",
        "outputId": "6df02a34-cc42-4361-ad21-85b6968398c8"
      },
      "source": [
        "df_icu = pd.read_csv('./ICUSTAYS.csv')\n",
        "df_icu\n",
        "print('ICUSTAYS file is loaded !')\n",
        "'''\n",
        "ICUSTAY ->  HADM_ID / ICUSTAY_ID / INTIME / OUTTIME / LOS\n",
        "'''"
      ],
      "execution_count": 5,
      "outputs": [
        {
          "output_type": "stream",
          "name": "stdout",
          "text": [
            "ICUSTAYS file is loaded !\n"
          ]
        },
        {
          "output_type": "execute_result",
          "data": {
            "text/plain": [
              "'\\nICUSTAY ->  HADM_ID / ICUSTAY_ID / INTIME / OUTTIME / LOS\\n'"
            ],
            "application/vnd.google.colaboratory.intrinsic+json": {
              "type": "string"
            }
          },
          "metadata": {},
          "execution_count": 5
        }
      ]
    },
    {
      "cell_type": "code",
      "metadata": {
        "colab": {
          "base_uri": "https://localhost:8080/"
        },
        "id": "OdwvtYxUoxbh",
        "outputId": "dad7b7c6-7b17-400c-d8d6-e3a4fece309c"
      },
      "source": [
        "print(df_icu.head())\n",
        "print(\"\")\n",
        "print(\"total length of ICUSTAYS\", len(df_icu))\n",
        "\n",
        "print(\"When you read original dataset!\")\n",
        "print(\"Dataset Size: 61,532.\")\n",
        "\n",
        "\n"
      ],
      "execution_count": 6,
      "outputs": [
        {
          "output_type": "stream",
          "name": "stdout",
          "text": [
            "   ROW_ID  SUBJECT_ID  HADM_ID  ICUSTAY_ID DBSOURCE FIRST_CAREUNIT  \\\n",
            "0   12742       10006   142345      206504  carevue           MICU   \n",
            "1   12747       10011   105331      232110  carevue           MICU   \n",
            "2   12749       10013   165520      264446  carevue           MICU   \n",
            "3   12754       10017   199207      204881  carevue            CCU   \n",
            "4   12755       10019   177759      228977  carevue           MICU   \n",
            "\n",
            "  LAST_CAREUNIT  FIRST_WARDID  LAST_WARDID            INTIME  \\\n",
            "0          MICU            52           52  2164-10-23 21:10   \n",
            "1          MICU            15           15  2126-08-14 22:34   \n",
            "2          MICU            15           15  2125-10-04 23:38   \n",
            "3           CCU             7            7  2149-05-29 18:52   \n",
            "4          MICU            15           15  2163-05-14 20:43   \n",
            "\n",
            "            OUTTIME      LOS  \n",
            "0  2164-10-25 12:21   1.6325  \n",
            "1  2126-08-28 18:59  13.8507  \n",
            "2  2125-10-07 15:13   2.6499  \n",
            "3  2149-05-31 22:19   2.1436  \n",
            "4   2163-05-16 3:47   1.2938  \n",
            "\n",
            "total length of ICUSTAYS 136\n",
            "When you read original dataset!\n",
            "Dataset Size: 61,532.\n"
          ]
        }
      ]
    },
    {
      "cell_type": "markdown",
      "metadata": {
        "id": "XS8aESGQoxbi"
      },
      "source": [
        "# Table ADMISSION"
      ]
    },
    {
      "cell_type": "code",
      "metadata": {
        "colab": {
          "base_uri": "https://localhost:8080/"
        },
        "id": "qbsdpcHjoxbj",
        "outputId": "7c151081-d0e3-4b79-c672-756ca02a27de"
      },
      "source": [
        "df_add = pd.read_csv('./ADMISSIONS.csv')\n",
        "\n",
        "print('ADMISSION file is loaded !')\n",
        "'''\n",
        "ADMISSION ->  HADM_ID / ADMITTIME / DSCHTIME /  DEATHTIME  /  ADDMISSION_TYPE   \n",
        "'''\n",
        "print(\"total length of ADMISSIONS\", len(df_add))\n",
        "\n",
        "print(\"When you read original dataset!\")\n",
        "print(\"Dataset Size: 58,976.\")"
      ],
      "execution_count": 7,
      "outputs": [
        {
          "output_type": "stream",
          "name": "stdout",
          "text": [
            "ADMISSION file is loaded !\n",
            "total length of ADMISSIONS 129\n",
            "When you read original dataset!\n",
            "Dataset Size: 58,976.\n"
          ]
        }
      ]
    },
    {
      "cell_type": "code",
      "metadata": {
        "colab": {
          "base_uri": "https://localhost:8080/",
          "height": 357
        },
        "id": "W4KrazzLoxbk",
        "outputId": "ba54f0a3-64cc-497e-b448-ab2479a3402d"
      },
      "source": [
        "df_add.head()\n",
        "#"
      ],
      "execution_count": 8,
      "outputs": [
        {
          "output_type": "execute_result",
          "data": {
            "text/plain": [
              "   ROW_ID  SUBJECT_ID  HADM_ID         ADMITTIME         DISCHTIME  \\\n",
              "0   12258       10006   142345  2164-10-23 21:09  2164-11-01 17:15   \n",
              "1   12263       10011   105331  2126-08-14 22:32  2126-08-28 18:59   \n",
              "2   12265       10013   165520  2125-10-04 23:36  2125-10-07 15:13   \n",
              "3   12269       10017   199207  2149-05-26 17:19  2149-06-03 18:42   \n",
              "4   12270       10019   177759  2163-05-14 20:43  2163-05-15 12:00   \n",
              "\n",
              "          DEATHTIME ADMISSION_TYPE         ADMISSION_LOCATION  \\\n",
              "0               NaN      EMERGENCY       EMERGENCY ROOM ADMIT   \n",
              "1  2126-08-28 18:59      EMERGENCY  TRANSFER FROM HOSP/EXTRAM   \n",
              "2  2125-10-07 15:13      EMERGENCY  TRANSFER FROM HOSP/EXTRAM   \n",
              "3               NaN      EMERGENCY       EMERGENCY ROOM ADMIT   \n",
              "4  2163-05-15 12:00      EMERGENCY  TRANSFER FROM HOSP/EXTRAM   \n",
              "\n",
              "  DISCHARGE_LOCATION INSURANCE LANGUAGE  RELIGION MARITAL_STATUS  \\\n",
              "0   HOME HEALTH CARE  Medicare      NaN  CATHOLIC      SEPARATED   \n",
              "1       DEAD/EXPIRED   Private      NaN  CATHOLIC         SINGLE   \n",
              "2       DEAD/EXPIRED  Medicare      NaN  CATHOLIC            NaN   \n",
              "3                SNF  Medicare      NaN  CATHOLIC       DIVORCED   \n",
              "4       DEAD/EXPIRED  Medicare      NaN  CATHOLIC       DIVORCED   \n",
              "\n",
              "                ETHNICITY         EDREGTIME         EDOUTTIME  \\\n",
              "0  BLACK/AFRICAN AMERICAN  2164-10-23 16:43  2164-10-23 23:00   \n",
              "1   UNKNOWN/NOT SPECIFIED               NaN               NaN   \n",
              "2   UNKNOWN/NOT SPECIFIED               NaN               NaN   \n",
              "3                   WHITE  2149-05-26 12:08  2149-05-26 19:45   \n",
              "4                   WHITE               NaN               NaN   \n",
              "\n",
              "             DIAGNOSIS  HOSPITAL_EXPIRE_FLAG  HAS_CHARTEVENTS_DATA  \n",
              "0               SEPSIS                     0                     1  \n",
              "1          HEPATITIS B                     1                     1  \n",
              "2               SEPSIS                     1                     1  \n",
              "3     HUMERAL FRACTURE                     0                     1  \n",
              "4  ALCOHOLIC HEPATITIS                     1                     1  "
            ],
            "text/html": [
              "\n",
              "  <div id=\"df-c07f19e9-a68a-48cc-b8bc-3c68ebd8c471\">\n",
              "    <div class=\"colab-df-container\">\n",
              "      <div>\n",
              "<style scoped>\n",
              "    .dataframe tbody tr th:only-of-type {\n",
              "        vertical-align: middle;\n",
              "    }\n",
              "\n",
              "    .dataframe tbody tr th {\n",
              "        vertical-align: top;\n",
              "    }\n",
              "\n",
              "    .dataframe thead th {\n",
              "        text-align: right;\n",
              "    }\n",
              "</style>\n",
              "<table border=\"1\" class=\"dataframe\">\n",
              "  <thead>\n",
              "    <tr style=\"text-align: right;\">\n",
              "      <th></th>\n",
              "      <th>ROW_ID</th>\n",
              "      <th>SUBJECT_ID</th>\n",
              "      <th>HADM_ID</th>\n",
              "      <th>ADMITTIME</th>\n",
              "      <th>DISCHTIME</th>\n",
              "      <th>DEATHTIME</th>\n",
              "      <th>ADMISSION_TYPE</th>\n",
              "      <th>ADMISSION_LOCATION</th>\n",
              "      <th>DISCHARGE_LOCATION</th>\n",
              "      <th>INSURANCE</th>\n",
              "      <th>LANGUAGE</th>\n",
              "      <th>RELIGION</th>\n",
              "      <th>MARITAL_STATUS</th>\n",
              "      <th>ETHNICITY</th>\n",
              "      <th>EDREGTIME</th>\n",
              "      <th>EDOUTTIME</th>\n",
              "      <th>DIAGNOSIS</th>\n",
              "      <th>HOSPITAL_EXPIRE_FLAG</th>\n",
              "      <th>HAS_CHARTEVENTS_DATA</th>\n",
              "    </tr>\n",
              "  </thead>\n",
              "  <tbody>\n",
              "    <tr>\n",
              "      <th>0</th>\n",
              "      <td>12258</td>\n",
              "      <td>10006</td>\n",
              "      <td>142345</td>\n",
              "      <td>2164-10-23 21:09</td>\n",
              "      <td>2164-11-01 17:15</td>\n",
              "      <td>NaN</td>\n",
              "      <td>EMERGENCY</td>\n",
              "      <td>EMERGENCY ROOM ADMIT</td>\n",
              "      <td>HOME HEALTH CARE</td>\n",
              "      <td>Medicare</td>\n",
              "      <td>NaN</td>\n",
              "      <td>CATHOLIC</td>\n",
              "      <td>SEPARATED</td>\n",
              "      <td>BLACK/AFRICAN AMERICAN</td>\n",
              "      <td>2164-10-23 16:43</td>\n",
              "      <td>2164-10-23 23:00</td>\n",
              "      <td>SEPSIS</td>\n",
              "      <td>0</td>\n",
              "      <td>1</td>\n",
              "    </tr>\n",
              "    <tr>\n",
              "      <th>1</th>\n",
              "      <td>12263</td>\n",
              "      <td>10011</td>\n",
              "      <td>105331</td>\n",
              "      <td>2126-08-14 22:32</td>\n",
              "      <td>2126-08-28 18:59</td>\n",
              "      <td>2126-08-28 18:59</td>\n",
              "      <td>EMERGENCY</td>\n",
              "      <td>TRANSFER FROM HOSP/EXTRAM</td>\n",
              "      <td>DEAD/EXPIRED</td>\n",
              "      <td>Private</td>\n",
              "      <td>NaN</td>\n",
              "      <td>CATHOLIC</td>\n",
              "      <td>SINGLE</td>\n",
              "      <td>UNKNOWN/NOT SPECIFIED</td>\n",
              "      <td>NaN</td>\n",
              "      <td>NaN</td>\n",
              "      <td>HEPATITIS B</td>\n",
              "      <td>1</td>\n",
              "      <td>1</td>\n",
              "    </tr>\n",
              "    <tr>\n",
              "      <th>2</th>\n",
              "      <td>12265</td>\n",
              "      <td>10013</td>\n",
              "      <td>165520</td>\n",
              "      <td>2125-10-04 23:36</td>\n",
              "      <td>2125-10-07 15:13</td>\n",
              "      <td>2125-10-07 15:13</td>\n",
              "      <td>EMERGENCY</td>\n",
              "      <td>TRANSFER FROM HOSP/EXTRAM</td>\n",
              "      <td>DEAD/EXPIRED</td>\n",
              "      <td>Medicare</td>\n",
              "      <td>NaN</td>\n",
              "      <td>CATHOLIC</td>\n",
              "      <td>NaN</td>\n",
              "      <td>UNKNOWN/NOT SPECIFIED</td>\n",
              "      <td>NaN</td>\n",
              "      <td>NaN</td>\n",
              "      <td>SEPSIS</td>\n",
              "      <td>1</td>\n",
              "      <td>1</td>\n",
              "    </tr>\n",
              "    <tr>\n",
              "      <th>3</th>\n",
              "      <td>12269</td>\n",
              "      <td>10017</td>\n",
              "      <td>199207</td>\n",
              "      <td>2149-05-26 17:19</td>\n",
              "      <td>2149-06-03 18:42</td>\n",
              "      <td>NaN</td>\n",
              "      <td>EMERGENCY</td>\n",
              "      <td>EMERGENCY ROOM ADMIT</td>\n",
              "      <td>SNF</td>\n",
              "      <td>Medicare</td>\n",
              "      <td>NaN</td>\n",
              "      <td>CATHOLIC</td>\n",
              "      <td>DIVORCED</td>\n",
              "      <td>WHITE</td>\n",
              "      <td>2149-05-26 12:08</td>\n",
              "      <td>2149-05-26 19:45</td>\n",
              "      <td>HUMERAL FRACTURE</td>\n",
              "      <td>0</td>\n",
              "      <td>1</td>\n",
              "    </tr>\n",
              "    <tr>\n",
              "      <th>4</th>\n",
              "      <td>12270</td>\n",
              "      <td>10019</td>\n",
              "      <td>177759</td>\n",
              "      <td>2163-05-14 20:43</td>\n",
              "      <td>2163-05-15 12:00</td>\n",
              "      <td>2163-05-15 12:00</td>\n",
              "      <td>EMERGENCY</td>\n",
              "      <td>TRANSFER FROM HOSP/EXTRAM</td>\n",
              "      <td>DEAD/EXPIRED</td>\n",
              "      <td>Medicare</td>\n",
              "      <td>NaN</td>\n",
              "      <td>CATHOLIC</td>\n",
              "      <td>DIVORCED</td>\n",
              "      <td>WHITE</td>\n",
              "      <td>NaN</td>\n",
              "      <td>NaN</td>\n",
              "      <td>ALCOHOLIC HEPATITIS</td>\n",
              "      <td>1</td>\n",
              "      <td>1</td>\n",
              "    </tr>\n",
              "  </tbody>\n",
              "</table>\n",
              "</div>\n",
              "      <button class=\"colab-df-convert\" onclick=\"convertToInteractive('df-c07f19e9-a68a-48cc-b8bc-3c68ebd8c471')\"\n",
              "              title=\"Convert this dataframe to an interactive table.\"\n",
              "              style=\"display:none;\">\n",
              "        \n",
              "  <svg xmlns=\"http://www.w3.org/2000/svg\" height=\"24px\"viewBox=\"0 0 24 24\"\n",
              "       width=\"24px\">\n",
              "    <path d=\"M0 0h24v24H0V0z\" fill=\"none\"/>\n",
              "    <path d=\"M18.56 5.44l.94 2.06.94-2.06 2.06-.94-2.06-.94-.94-2.06-.94 2.06-2.06.94zm-11 1L8.5 8.5l.94-2.06 2.06-.94-2.06-.94L8.5 2.5l-.94 2.06-2.06.94zm10 10l.94 2.06.94-2.06 2.06-.94-2.06-.94-.94-2.06-.94 2.06-2.06.94z\"/><path d=\"M17.41 7.96l-1.37-1.37c-.4-.4-.92-.59-1.43-.59-.52 0-1.04.2-1.43.59L10.3 9.45l-7.72 7.72c-.78.78-.78 2.05 0 2.83L4 21.41c.39.39.9.59 1.41.59.51 0 1.02-.2 1.41-.59l7.78-7.78 2.81-2.81c.8-.78.8-2.07 0-2.86zM5.41 20L4 18.59l7.72-7.72 1.47 1.35L5.41 20z\"/>\n",
              "  </svg>\n",
              "      </button>\n",
              "      \n",
              "  <style>\n",
              "    .colab-df-container {\n",
              "      display:flex;\n",
              "      flex-wrap:wrap;\n",
              "      gap: 12px;\n",
              "    }\n",
              "\n",
              "    .colab-df-convert {\n",
              "      background-color: #E8F0FE;\n",
              "      border: none;\n",
              "      border-radius: 50%;\n",
              "      cursor: pointer;\n",
              "      display: none;\n",
              "      fill: #1967D2;\n",
              "      height: 32px;\n",
              "      padding: 0 0 0 0;\n",
              "      width: 32px;\n",
              "    }\n",
              "\n",
              "    .colab-df-convert:hover {\n",
              "      background-color: #E2EBFA;\n",
              "      box-shadow: 0px 1px 2px rgba(60, 64, 67, 0.3), 0px 1px 3px 1px rgba(60, 64, 67, 0.15);\n",
              "      fill: #174EA6;\n",
              "    }\n",
              "\n",
              "    [theme=dark] .colab-df-convert {\n",
              "      background-color: #3B4455;\n",
              "      fill: #D2E3FC;\n",
              "    }\n",
              "\n",
              "    [theme=dark] .colab-df-convert:hover {\n",
              "      background-color: #434B5C;\n",
              "      box-shadow: 0px 1px 3px 1px rgba(0, 0, 0, 0.15);\n",
              "      filter: drop-shadow(0px 1px 2px rgba(0, 0, 0, 0.3));\n",
              "      fill: #FFFFFF;\n",
              "    }\n",
              "  </style>\n",
              "\n",
              "      <script>\n",
              "        const buttonEl =\n",
              "          document.querySelector('#df-c07f19e9-a68a-48cc-b8bc-3c68ebd8c471 button.colab-df-convert');\n",
              "        buttonEl.style.display =\n",
              "          google.colab.kernel.accessAllowed ? 'block' : 'none';\n",
              "\n",
              "        async function convertToInteractive(key) {\n",
              "          const element = document.querySelector('#df-c07f19e9-a68a-48cc-b8bc-3c68ebd8c471');\n",
              "          const dataTable =\n",
              "            await google.colab.kernel.invokeFunction('convertToInteractive',\n",
              "                                                     [key], {});\n",
              "          if (!dataTable) return;\n",
              "\n",
              "          const docLinkHtml = 'Like what you see? Visit the ' +\n",
              "            '<a target=\"_blank\" href=https://colab.research.google.com/notebooks/data_table.ipynb>data table notebook</a>'\n",
              "            + ' to learn more about interactive tables.';\n",
              "          element.innerHTML = '';\n",
              "          dataTable['output_type'] = 'display_data';\n",
              "          await google.colab.output.renderOutput(dataTable, element);\n",
              "          const docLink = document.createElement('div');\n",
              "          docLink.innerHTML = docLinkHtml;\n",
              "          element.appendChild(docLink);\n",
              "        }\n",
              "      </script>\n",
              "    </div>\n",
              "  </div>\n",
              "  "
            ]
          },
          "metadata": {},
          "execution_count": 8
        }
      ]
    },
    {
      "cell_type": "markdown",
      "metadata": {
        "id": "ywSnEExloxbl"
      },
      "source": [
        "# Table CHARTTIME"
      ]
    },
    {
      "cell_type": "code",
      "metadata": {
        "colab": {
          "base_uri": "https://localhost:8080/"
        },
        "id": "nbNmXx-aoxbl",
        "outputId": "b65400aa-1403-4015-e295-a30ec4419167"
      },
      "source": [
        "df_char = pd.read_csv('./CHARTEVENTS.csv')\n",
        "print(\"Total length of Demo dataset CHARTEVENTS\", len(df_char))\n",
        "print('CHARTTIME loading is finished !')\n",
        "print(\"\")\n",
        "print(\"When you read original dataset!\")\n",
        "print(\"Dataset Size: 330,712,483.  Reading time: about 20 min, Pre-processing: 66 hours (longer than 2days..)\")\n",
        "print(\"If you are interested in processing chartevents, and you want to do it faster than line-by-line fashion\",)\n",
        "print(\"there are a couple of options: 1) Use Spark 2) Use Pandas' chunksize option.\")\n",
        "\n",
        "\n"
      ],
      "execution_count": 9,
      "outputs": [
        {
          "output_type": "stream",
          "name": "stdout",
          "text": [
            "Total length of Demo dataset CHARTEVENTS 758355\n",
            "CHARTTIME loading is finished !\n",
            "\n",
            "When you read original dataset!\n",
            "Dataset Size: 330,712,483.  Reading time: about 20 min, Pre-processing: 66 hours (longer than 2days..)\n",
            "If you are interested in processing chartevents, and you want to do it faster than line-by-line fashion\n",
            "there are a couple of options: 1) Use Spark 2) Use Pandas' chunksize option.\n"
          ]
        }
      ]
    },
    {
      "cell_type": "code",
      "metadata": {
        "colab": {
          "base_uri": "https://localhost:8080/",
          "height": 357
        },
        "id": "rmpOjAH0oxbm",
        "outputId": "94e416c5-e51f-48be-aa58-57254d28eae3"
      },
      "source": [
        "df_char.head()"
      ],
      "execution_count": 10,
      "outputs": [
        {
          "output_type": "execute_result",
          "data": {
            "text/plain": [
              "    ROW_ID  SUBJECT_ID  HADM_ID  ICUSTAY_ID  ITEMID        CHARTTIME  \\\n",
              "0  5279021       40124   126179    279554.0  223761  2130-02-04 4:00   \n",
              "1  5279022       40124   126179    279554.0  224695  2130-02-04 4:25   \n",
              "2  5279023       40124   126179    279554.0  220210  2130-02-04 4:30   \n",
              "3  5279024       40124   126179    279554.0  220045  2130-02-04 4:32   \n",
              "4  5279025       40124   126179    279554.0  220179  2130-02-04 4:32   \n",
              "\n",
              "         STORETIME   CGID      VALUE   VALUENUM  VALUEUOM  WARNING  ERROR  \\\n",
              "0  2130-02-04 4:35  19085       95.9       95.9        ?F      0.0    0.0   \n",
              "1  2130-02-04 5:55  18999  2222221.7  2222221.7     cmH2O      0.0    0.0   \n",
              "2  2130-02-04 4:43  21452       15.0       15.0  insp/min      0.0    0.0   \n",
              "3  2130-02-04 4:43  21452       94.0       94.0       bpm      0.0    0.0   \n",
              "4  2130-02-04 4:43  21452      163.0      163.0      mmHg      0.0    0.0   \n",
              "\n",
              "  RESULTSTATUS STOPPED  \n",
              "0          NaN     NaN  \n",
              "1          NaN     NaN  \n",
              "2          NaN     NaN  \n",
              "3          NaN     NaN  \n",
              "4          NaN     NaN  "
            ],
            "text/html": [
              "\n",
              "  <div id=\"df-bb1eae5e-c34f-47f2-be27-f4b4b0955c16\">\n",
              "    <div class=\"colab-df-container\">\n",
              "      <div>\n",
              "<style scoped>\n",
              "    .dataframe tbody tr th:only-of-type {\n",
              "        vertical-align: middle;\n",
              "    }\n",
              "\n",
              "    .dataframe tbody tr th {\n",
              "        vertical-align: top;\n",
              "    }\n",
              "\n",
              "    .dataframe thead th {\n",
              "        text-align: right;\n",
              "    }\n",
              "</style>\n",
              "<table border=\"1\" class=\"dataframe\">\n",
              "  <thead>\n",
              "    <tr style=\"text-align: right;\">\n",
              "      <th></th>\n",
              "      <th>ROW_ID</th>\n",
              "      <th>SUBJECT_ID</th>\n",
              "      <th>HADM_ID</th>\n",
              "      <th>ICUSTAY_ID</th>\n",
              "      <th>ITEMID</th>\n",
              "      <th>CHARTTIME</th>\n",
              "      <th>STORETIME</th>\n",
              "      <th>CGID</th>\n",
              "      <th>VALUE</th>\n",
              "      <th>VALUENUM</th>\n",
              "      <th>VALUEUOM</th>\n",
              "      <th>WARNING</th>\n",
              "      <th>ERROR</th>\n",
              "      <th>RESULTSTATUS</th>\n",
              "      <th>STOPPED</th>\n",
              "    </tr>\n",
              "  </thead>\n",
              "  <tbody>\n",
              "    <tr>\n",
              "      <th>0</th>\n",
              "      <td>5279021</td>\n",
              "      <td>40124</td>\n",
              "      <td>126179</td>\n",
              "      <td>279554.0</td>\n",
              "      <td>223761</td>\n",
              "      <td>2130-02-04 4:00</td>\n",
              "      <td>2130-02-04 4:35</td>\n",
              "      <td>19085</td>\n",
              "      <td>95.9</td>\n",
              "      <td>95.9</td>\n",
              "      <td>?F</td>\n",
              "      <td>0.0</td>\n",
              "      <td>0.0</td>\n",
              "      <td>NaN</td>\n",
              "      <td>NaN</td>\n",
              "    </tr>\n",
              "    <tr>\n",
              "      <th>1</th>\n",
              "      <td>5279022</td>\n",
              "      <td>40124</td>\n",
              "      <td>126179</td>\n",
              "      <td>279554.0</td>\n",
              "      <td>224695</td>\n",
              "      <td>2130-02-04 4:25</td>\n",
              "      <td>2130-02-04 5:55</td>\n",
              "      <td>18999</td>\n",
              "      <td>2222221.7</td>\n",
              "      <td>2222221.7</td>\n",
              "      <td>cmH2O</td>\n",
              "      <td>0.0</td>\n",
              "      <td>0.0</td>\n",
              "      <td>NaN</td>\n",
              "      <td>NaN</td>\n",
              "    </tr>\n",
              "    <tr>\n",
              "      <th>2</th>\n",
              "      <td>5279023</td>\n",
              "      <td>40124</td>\n",
              "      <td>126179</td>\n",
              "      <td>279554.0</td>\n",
              "      <td>220210</td>\n",
              "      <td>2130-02-04 4:30</td>\n",
              "      <td>2130-02-04 4:43</td>\n",
              "      <td>21452</td>\n",
              "      <td>15.0</td>\n",
              "      <td>15.0</td>\n",
              "      <td>insp/min</td>\n",
              "      <td>0.0</td>\n",
              "      <td>0.0</td>\n",
              "      <td>NaN</td>\n",
              "      <td>NaN</td>\n",
              "    </tr>\n",
              "    <tr>\n",
              "      <th>3</th>\n",
              "      <td>5279024</td>\n",
              "      <td>40124</td>\n",
              "      <td>126179</td>\n",
              "      <td>279554.0</td>\n",
              "      <td>220045</td>\n",
              "      <td>2130-02-04 4:32</td>\n",
              "      <td>2130-02-04 4:43</td>\n",
              "      <td>21452</td>\n",
              "      <td>94.0</td>\n",
              "      <td>94.0</td>\n",
              "      <td>bpm</td>\n",
              "      <td>0.0</td>\n",
              "      <td>0.0</td>\n",
              "      <td>NaN</td>\n",
              "      <td>NaN</td>\n",
              "    </tr>\n",
              "    <tr>\n",
              "      <th>4</th>\n",
              "      <td>5279025</td>\n",
              "      <td>40124</td>\n",
              "      <td>126179</td>\n",
              "      <td>279554.0</td>\n",
              "      <td>220179</td>\n",
              "      <td>2130-02-04 4:32</td>\n",
              "      <td>2130-02-04 4:43</td>\n",
              "      <td>21452</td>\n",
              "      <td>163.0</td>\n",
              "      <td>163.0</td>\n",
              "      <td>mmHg</td>\n",
              "      <td>0.0</td>\n",
              "      <td>0.0</td>\n",
              "      <td>NaN</td>\n",
              "      <td>NaN</td>\n",
              "    </tr>\n",
              "  </tbody>\n",
              "</table>\n",
              "</div>\n",
              "      <button class=\"colab-df-convert\" onclick=\"convertToInteractive('df-bb1eae5e-c34f-47f2-be27-f4b4b0955c16')\"\n",
              "              title=\"Convert this dataframe to an interactive table.\"\n",
              "              style=\"display:none;\">\n",
              "        \n",
              "  <svg xmlns=\"http://www.w3.org/2000/svg\" height=\"24px\"viewBox=\"0 0 24 24\"\n",
              "       width=\"24px\">\n",
              "    <path d=\"M0 0h24v24H0V0z\" fill=\"none\"/>\n",
              "    <path d=\"M18.56 5.44l.94 2.06.94-2.06 2.06-.94-2.06-.94-.94-2.06-.94 2.06-2.06.94zm-11 1L8.5 8.5l.94-2.06 2.06-.94-2.06-.94L8.5 2.5l-.94 2.06-2.06.94zm10 10l.94 2.06.94-2.06 2.06-.94-2.06-.94-.94-2.06-.94 2.06-2.06.94z\"/><path d=\"M17.41 7.96l-1.37-1.37c-.4-.4-.92-.59-1.43-.59-.52 0-1.04.2-1.43.59L10.3 9.45l-7.72 7.72c-.78.78-.78 2.05 0 2.83L4 21.41c.39.39.9.59 1.41.59.51 0 1.02-.2 1.41-.59l7.78-7.78 2.81-2.81c.8-.78.8-2.07 0-2.86zM5.41 20L4 18.59l7.72-7.72 1.47 1.35L5.41 20z\"/>\n",
              "  </svg>\n",
              "      </button>\n",
              "      \n",
              "  <style>\n",
              "    .colab-df-container {\n",
              "      display:flex;\n",
              "      flex-wrap:wrap;\n",
              "      gap: 12px;\n",
              "    }\n",
              "\n",
              "    .colab-df-convert {\n",
              "      background-color: #E8F0FE;\n",
              "      border: none;\n",
              "      border-radius: 50%;\n",
              "      cursor: pointer;\n",
              "      display: none;\n",
              "      fill: #1967D2;\n",
              "      height: 32px;\n",
              "      padding: 0 0 0 0;\n",
              "      width: 32px;\n",
              "    }\n",
              "\n",
              "    .colab-df-convert:hover {\n",
              "      background-color: #E2EBFA;\n",
              "      box-shadow: 0px 1px 2px rgba(60, 64, 67, 0.3), 0px 1px 3px 1px rgba(60, 64, 67, 0.15);\n",
              "      fill: #174EA6;\n",
              "    }\n",
              "\n",
              "    [theme=dark] .colab-df-convert {\n",
              "      background-color: #3B4455;\n",
              "      fill: #D2E3FC;\n",
              "    }\n",
              "\n",
              "    [theme=dark] .colab-df-convert:hover {\n",
              "      background-color: #434B5C;\n",
              "      box-shadow: 0px 1px 3px 1px rgba(0, 0, 0, 0.15);\n",
              "      filter: drop-shadow(0px 1px 2px rgba(0, 0, 0, 0.3));\n",
              "      fill: #FFFFFF;\n",
              "    }\n",
              "  </style>\n",
              "\n",
              "      <script>\n",
              "        const buttonEl =\n",
              "          document.querySelector('#df-bb1eae5e-c34f-47f2-be27-f4b4b0955c16 button.colab-df-convert');\n",
              "        buttonEl.style.display =\n",
              "          google.colab.kernel.accessAllowed ? 'block' : 'none';\n",
              "\n",
              "        async function convertToInteractive(key) {\n",
              "          const element = document.querySelector('#df-bb1eae5e-c34f-47f2-be27-f4b4b0955c16');\n",
              "          const dataTable =\n",
              "            await google.colab.kernel.invokeFunction('convertToInteractive',\n",
              "                                                     [key], {});\n",
              "          if (!dataTable) return;\n",
              "\n",
              "          const docLinkHtml = 'Like what you see? Visit the ' +\n",
              "            '<a target=\"_blank\" href=https://colab.research.google.com/notebooks/data_table.ipynb>data table notebook</a>'\n",
              "            + ' to learn more about interactive tables.';\n",
              "          element.innerHTML = '';\n",
              "          dataTable['output_type'] = 'display_data';\n",
              "          await google.colab.output.renderOutput(dataTable, element);\n",
              "          const docLink = document.createElement('div');\n",
              "          docLink.innerHTML = docLinkHtml;\n",
              "          element.appendChild(docLink);\n",
              "        }\n",
              "      </script>\n",
              "    </div>\n",
              "  </div>\n",
              "  "
            ]
          },
          "metadata": {},
          "execution_count": 10
        }
      ]
    },
    {
      "cell_type": "code",
      "metadata": {
        "colab": {
          "base_uri": "https://localhost:8080/",
          "height": 53
        },
        "id": "t1mh61eAoxbm",
        "outputId": "36cdb390-cc80-4210-be2f-6e815cce5e71"
      },
      "source": [
        "'''\n",
        "ICUSTAY ->  HADM_ID / ICUSTAY_ID / INTIME / OUTTIME / LOS\n",
        "ADMISSION ->  HADM_ID / ADMITTIME / DSCHTIME /  DEATHTIME  /   \n",
        "CARTTIME -> ICUSTAY_ID / ITEMID /  CHARTTIME  /  WARNING / ERROR / STOPPED /  \n",
        "'''"
      ],
      "execution_count": 11,
      "outputs": [
        {
          "output_type": "execute_result",
          "data": {
            "text/plain": [
              "'\\nICUSTAY ->  HADM_ID / ICUSTAY_ID / INTIME / OUTTIME / LOS\\nADMISSION ->  HADM_ID / ADMITTIME / DSCHTIME /  DEATHTIME  /   \\nCARTTIME -> ICUSTAY_ID / ITEMID /  CHARTTIME  /  WARNING / ERROR / STOPPED /  \\n'"
            ],
            "application/vnd.google.colaboratory.intrinsic+json": {
              "type": "string"
            }
          },
          "metadata": {},
          "execution_count": 11
        }
      ]
    },
    {
      "cell_type": "markdown",
      "metadata": {
        "id": "-My3qdovoxbn"
      },
      "source": [
        "# Preprocess\n",
        "## 전처리 조건 \n",
        "\n",
        "1.   입원 기간 (Length of stay; LOS) 1day 이상 2day 이하 \n",
        "2.   ICU 입원 후 3 시간 내에 있는 정보만 사용\n",
        "3.   최대 100개의 이벤트까지 사용 가능\n",
        "4.   ICUSTAY ID  제일 끝번호가 8, 9 로 끝나는 환자는 test set 그 외는 train set 으로 사용 -> 전체 dataset의 약 20%"
      ]
    },
    {
      "cell_type": "code",
      "metadata": {
        "colab": {
          "base_uri": "https://localhost:8080/",
          "height": 406
        },
        "id": "EDPN0BPxDVmV",
        "outputId": "c3cc7b17-03d8-4937-b622-6a73912a8f22"
      },
      "source": [
        "df_icu.head()"
      ],
      "execution_count": 12,
      "outputs": [
        {
          "output_type": "execute_result",
          "data": {
            "text/plain": [
              "   ROW_ID  SUBJECT_ID  HADM_ID  ICUSTAY_ID DBSOURCE FIRST_CAREUNIT  \\\n",
              "0   12742       10006   142345      206504  carevue           MICU   \n",
              "1   12747       10011   105331      232110  carevue           MICU   \n",
              "2   12749       10013   165520      264446  carevue           MICU   \n",
              "3   12754       10017   199207      204881  carevue            CCU   \n",
              "4   12755       10019   177759      228977  carevue           MICU   \n",
              "\n",
              "  LAST_CAREUNIT  FIRST_WARDID  LAST_WARDID            INTIME  \\\n",
              "0          MICU            52           52  2164-10-23 21:10   \n",
              "1          MICU            15           15  2126-08-14 22:34   \n",
              "2          MICU            15           15  2125-10-04 23:38   \n",
              "3           CCU             7            7  2149-05-29 18:52   \n",
              "4          MICU            15           15  2163-05-14 20:43   \n",
              "\n",
              "            OUTTIME      LOS  \n",
              "0  2164-10-25 12:21   1.6325  \n",
              "1  2126-08-28 18:59  13.8507  \n",
              "2  2125-10-07 15:13   2.6499  \n",
              "3  2149-05-31 22:19   2.1436  \n",
              "4   2163-05-16 3:47   1.2938  "
            ],
            "text/html": [
              "\n",
              "  <div id=\"df-a5a00d9c-07d5-4ea3-a657-8e27c1b54d44\">\n",
              "    <div class=\"colab-df-container\">\n",
              "      <div>\n",
              "<style scoped>\n",
              "    .dataframe tbody tr th:only-of-type {\n",
              "        vertical-align: middle;\n",
              "    }\n",
              "\n",
              "    .dataframe tbody tr th {\n",
              "        vertical-align: top;\n",
              "    }\n",
              "\n",
              "    .dataframe thead th {\n",
              "        text-align: right;\n",
              "    }\n",
              "</style>\n",
              "<table border=\"1\" class=\"dataframe\">\n",
              "  <thead>\n",
              "    <tr style=\"text-align: right;\">\n",
              "      <th></th>\n",
              "      <th>ROW_ID</th>\n",
              "      <th>SUBJECT_ID</th>\n",
              "      <th>HADM_ID</th>\n",
              "      <th>ICUSTAY_ID</th>\n",
              "      <th>DBSOURCE</th>\n",
              "      <th>FIRST_CAREUNIT</th>\n",
              "      <th>LAST_CAREUNIT</th>\n",
              "      <th>FIRST_WARDID</th>\n",
              "      <th>LAST_WARDID</th>\n",
              "      <th>INTIME</th>\n",
              "      <th>OUTTIME</th>\n",
              "      <th>LOS</th>\n",
              "    </tr>\n",
              "  </thead>\n",
              "  <tbody>\n",
              "    <tr>\n",
              "      <th>0</th>\n",
              "      <td>12742</td>\n",
              "      <td>10006</td>\n",
              "      <td>142345</td>\n",
              "      <td>206504</td>\n",
              "      <td>carevue</td>\n",
              "      <td>MICU</td>\n",
              "      <td>MICU</td>\n",
              "      <td>52</td>\n",
              "      <td>52</td>\n",
              "      <td>2164-10-23 21:10</td>\n",
              "      <td>2164-10-25 12:21</td>\n",
              "      <td>1.6325</td>\n",
              "    </tr>\n",
              "    <tr>\n",
              "      <th>1</th>\n",
              "      <td>12747</td>\n",
              "      <td>10011</td>\n",
              "      <td>105331</td>\n",
              "      <td>232110</td>\n",
              "      <td>carevue</td>\n",
              "      <td>MICU</td>\n",
              "      <td>MICU</td>\n",
              "      <td>15</td>\n",
              "      <td>15</td>\n",
              "      <td>2126-08-14 22:34</td>\n",
              "      <td>2126-08-28 18:59</td>\n",
              "      <td>13.8507</td>\n",
              "    </tr>\n",
              "    <tr>\n",
              "      <th>2</th>\n",
              "      <td>12749</td>\n",
              "      <td>10013</td>\n",
              "      <td>165520</td>\n",
              "      <td>264446</td>\n",
              "      <td>carevue</td>\n",
              "      <td>MICU</td>\n",
              "      <td>MICU</td>\n",
              "      <td>15</td>\n",
              "      <td>15</td>\n",
              "      <td>2125-10-04 23:38</td>\n",
              "      <td>2125-10-07 15:13</td>\n",
              "      <td>2.6499</td>\n",
              "    </tr>\n",
              "    <tr>\n",
              "      <th>3</th>\n",
              "      <td>12754</td>\n",
              "      <td>10017</td>\n",
              "      <td>199207</td>\n",
              "      <td>204881</td>\n",
              "      <td>carevue</td>\n",
              "      <td>CCU</td>\n",
              "      <td>CCU</td>\n",
              "      <td>7</td>\n",
              "      <td>7</td>\n",
              "      <td>2149-05-29 18:52</td>\n",
              "      <td>2149-05-31 22:19</td>\n",
              "      <td>2.1436</td>\n",
              "    </tr>\n",
              "    <tr>\n",
              "      <th>4</th>\n",
              "      <td>12755</td>\n",
              "      <td>10019</td>\n",
              "      <td>177759</td>\n",
              "      <td>228977</td>\n",
              "      <td>carevue</td>\n",
              "      <td>MICU</td>\n",
              "      <td>MICU</td>\n",
              "      <td>15</td>\n",
              "      <td>15</td>\n",
              "      <td>2163-05-14 20:43</td>\n",
              "      <td>2163-05-16 3:47</td>\n",
              "      <td>1.2938</td>\n",
              "    </tr>\n",
              "  </tbody>\n",
              "</table>\n",
              "</div>\n",
              "      <button class=\"colab-df-convert\" onclick=\"convertToInteractive('df-a5a00d9c-07d5-4ea3-a657-8e27c1b54d44')\"\n",
              "              title=\"Convert this dataframe to an interactive table.\"\n",
              "              style=\"display:none;\">\n",
              "        \n",
              "  <svg xmlns=\"http://www.w3.org/2000/svg\" height=\"24px\"viewBox=\"0 0 24 24\"\n",
              "       width=\"24px\">\n",
              "    <path d=\"M0 0h24v24H0V0z\" fill=\"none\"/>\n",
              "    <path d=\"M18.56 5.44l.94 2.06.94-2.06 2.06-.94-2.06-.94-.94-2.06-.94 2.06-2.06.94zm-11 1L8.5 8.5l.94-2.06 2.06-.94-2.06-.94L8.5 2.5l-.94 2.06-2.06.94zm10 10l.94 2.06.94-2.06 2.06-.94-2.06-.94-.94-2.06-.94 2.06-2.06.94z\"/><path d=\"M17.41 7.96l-1.37-1.37c-.4-.4-.92-.59-1.43-.59-.52 0-1.04.2-1.43.59L10.3 9.45l-7.72 7.72c-.78.78-.78 2.05 0 2.83L4 21.41c.39.39.9.59 1.41.59.51 0 1.02-.2 1.41-.59l7.78-7.78 2.81-2.81c.8-.78.8-2.07 0-2.86zM5.41 20L4 18.59l7.72-7.72 1.47 1.35L5.41 20z\"/>\n",
              "  </svg>\n",
              "      </button>\n",
              "      \n",
              "  <style>\n",
              "    .colab-df-container {\n",
              "      display:flex;\n",
              "      flex-wrap:wrap;\n",
              "      gap: 12px;\n",
              "    }\n",
              "\n",
              "    .colab-df-convert {\n",
              "      background-color: #E8F0FE;\n",
              "      border: none;\n",
              "      border-radius: 50%;\n",
              "      cursor: pointer;\n",
              "      display: none;\n",
              "      fill: #1967D2;\n",
              "      height: 32px;\n",
              "      padding: 0 0 0 0;\n",
              "      width: 32px;\n",
              "    }\n",
              "\n",
              "    .colab-df-convert:hover {\n",
              "      background-color: #E2EBFA;\n",
              "      box-shadow: 0px 1px 2px rgba(60, 64, 67, 0.3), 0px 1px 3px 1px rgba(60, 64, 67, 0.15);\n",
              "      fill: #174EA6;\n",
              "    }\n",
              "\n",
              "    [theme=dark] .colab-df-convert {\n",
              "      background-color: #3B4455;\n",
              "      fill: #D2E3FC;\n",
              "    }\n",
              "\n",
              "    [theme=dark] .colab-df-convert:hover {\n",
              "      background-color: #434B5C;\n",
              "      box-shadow: 0px 1px 3px 1px rgba(0, 0, 0, 0.15);\n",
              "      filter: drop-shadow(0px 1px 2px rgba(0, 0, 0, 0.3));\n",
              "      fill: #FFFFFF;\n",
              "    }\n",
              "  </style>\n",
              "\n",
              "      <script>\n",
              "        const buttonEl =\n",
              "          document.querySelector('#df-a5a00d9c-07d5-4ea3-a657-8e27c1b54d44 button.colab-df-convert');\n",
              "        buttonEl.style.display =\n",
              "          google.colab.kernel.accessAllowed ? 'block' : 'none';\n",
              "\n",
              "        async function convertToInteractive(key) {\n",
              "          const element = document.querySelector('#df-a5a00d9c-07d5-4ea3-a657-8e27c1b54d44');\n",
              "          const dataTable =\n",
              "            await google.colab.kernel.invokeFunction('convertToInteractive',\n",
              "                                                     [key], {});\n",
              "          if (!dataTable) return;\n",
              "\n",
              "          const docLinkHtml = 'Like what you see? Visit the ' +\n",
              "            '<a target=\"_blank\" href=https://colab.research.google.com/notebooks/data_table.ipynb>data table notebook</a>'\n",
              "            + ' to learn more about interactive tables.';\n",
              "          element.innerHTML = '';\n",
              "          dataTable['output_type'] = 'display_data';\n",
              "          await google.colab.output.renderOutput(dataTable, element);\n",
              "          const docLink = document.createElement('div');\n",
              "          docLink.innerHTML = docLinkHtml;\n",
              "          element.appendChild(docLink);\n",
              "        }\n",
              "      </script>\n",
              "    </div>\n",
              "  </div>\n",
              "  "
            ]
          },
          "metadata": {},
          "execution_count": 12
        }
      ]
    },
    {
      "cell_type": "code",
      "metadata": {
        "colab": {
          "base_uri": "https://localhost:8080/"
        },
        "id": "RcLkNka7oxbn",
        "outputId": "b9157bd0-6ae3-4f8b-c8f6-910749ffe9ca"
      },
      "source": [
        "#ICU_STAY   1=<LOS <=2   \n",
        "print('Length of stay filter for ICUSTAYS ...')\n",
        "df_icu_los = df_icu[(df_icu['LOS']>=1) & (df_icu['LOS']<=2)]"
      ],
      "execution_count": 13,
      "outputs": [
        {
          "output_type": "stream",
          "name": "stdout",
          "text": [
            "Length of stay filter for ICUSTAYS ...\n"
          ]
        }
      ]
    },
    {
      "cell_type": "code",
      "metadata": {
        "colab": {
          "base_uri": "https://localhost:8080/"
        },
        "id": "XdPPzy6MDoi3",
        "outputId": "fcbe1281-0f75-4dda-c2a9-dfdbdd90bca8"
      },
      "source": [
        "print(df_icu_los.head())\n",
        "print(f\"After filtering: {len(df_icu)} -> {len(df_icu_los)}\")\n",
        "\n",
        "print(\"df_icu columns and rows\", df_icu.shape)\n",
        "print(\"df_icu_los columns and rows\",df_icu_los.shape)"
      ],
      "execution_count": 14,
      "outputs": [
        {
          "output_type": "stream",
          "name": "stdout",
          "text": [
            "    ROW_ID  SUBJECT_ID  HADM_ID  ICUSTAY_ID DBSOURCE FIRST_CAREUNIT  \\\n",
            "0    12742       10006   142345      206504  carevue           MICU   \n",
            "4    12755       10019   177759      228977  carevue           MICU   \n",
            "9    12768       10033   157235      254543  carevue           SICU   \n",
            "10   12770       10035   110244      296804  carevue           SICU   \n",
            "11   12771       10036   189483      227834  carevue           MICU   \n",
            "\n",
            "   LAST_CAREUNIT  FIRST_WARDID  LAST_WARDID            INTIME  \\\n",
            "0           MICU            52           52  2164-10-23 21:10   \n",
            "4           MICU            15           15  2163-05-14 20:43   \n",
            "9           SICU            33           33  2132-12-05 13:13   \n",
            "10          SICU            23           23  2129-03-04 13:40   \n",
            "11          MICU            12           12  2185-03-24 16:57   \n",
            "\n",
            "             OUTTIME     LOS  \n",
            "0   2164-10-25 12:21  1.6325  \n",
            "4    2163-05-16 3:47  1.2938  \n",
            "9   2132-12-06 14:53  1.0695  \n",
            "10  2129-03-05 22:40  1.3755  \n",
            "11  2185-03-26 12:18  1.8068  \n",
            "After filtering: 136 -> 41\n",
            "df_icu columns and rows (136, 12)\n",
            "df_icu_los columns and rows (41, 12)\n"
          ]
        }
      ]
    },
    {
      "cell_type": "markdown",
      "source": [
        "![image.png](data:image/png;base64,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) \n",
        "\n",
        "ADMISSION.csv내 HADM_ID\b 기준으로 death or survival 획득:\n",
        " - Admission time\n",
        " - Discharge time\n",
        " - Death time\n",
        "\n",
        "Admission & Death time을 고려하기 위해,LOS filtering된 결과에 상응하는 admission내 hadm_id을 filtering.\n",
        "\n",
        "*one HADM_ID can have multiple ICUSTAYs\n"
      ],
      "metadata": {
        "id": "A2ya2VL9n5o2"
      }
    },
    {
      "cell_type": "code",
      "metadata": {
        "colab": {
          "base_uri": "https://localhost:8080/"
        },
        "id": "6TzJ24pooxbo",
        "outputId": "77ec4878-0ab3-40ca-a947-75421b2e303c"
      },
      "source": [
        "# ADMISSION HADM ID filter following LOS filtered ICUSTAYS HADM_ID\n",
        "print('HADM_ID filter on admission file...')\n",
        "before = df_add\n",
        "df_add = df_add[df_add['HADM_ID'].isin(df_icu_los['HADM_ID'].unique())]\n",
        "\n",
        "print(f\"After filtering: {len(before)} -> {len(df_add)}\")\n",
        "\n"
      ],
      "execution_count": 15,
      "outputs": [
        {
          "output_type": "stream",
          "name": "stdout",
          "text": [
            "HADM_ID filter on admission file...\n",
            "After filtering: 129 -> 39\n"
          ]
        }
      ]
    },
    {
      "cell_type": "code",
      "metadata": {
        "colab": {
          "base_uri": "https://localhost:8080/"
        },
        "id": "m2VNwqT0oxbo",
        "outputId": "97ee2885-8910-486e-faad-0935c879d277"
      },
      "source": [
        "# Admission table에서 HADM_ID 기준으로 'ADMITTIME','DISCHTIME','DEATHTIME'column extract and 왼쪽부터 merge.\n",
        "\n",
        "print('merge ICUSTAYS and ADMISSION')\n",
        "df_icu_add = pd.merge(df_icu_los, df_add[['HADM_ID','ADMITTIME','DISCHTIME','DEATHTIME']], how='left', on='HADM_ID')\n",
        "\n",
        "print(\"df_icu_add\", len(df_icu_add))"
      ],
      "execution_count": 16,
      "outputs": [
        {
          "output_type": "stream",
          "name": "stdout",
          "text": [
            "merge ICUSTAYS and ADMISSION\n",
            "df_icu_add 41\n"
          ]
        }
      ]
    },
    {
      "cell_type": "code",
      "metadata": {
        "colab": {
          "base_uri": "https://localhost:8080/"
        },
        "id": "F3eY0PKt79HT",
        "outputId": "cdb1c7d5-215b-4856-cd0a-b78946359408"
      },
      "source": [
        "print(df_add.columns)\n",
        "print(df_icu_los.columns)\n",
        "print(df_icu_add.columns)\n"
      ],
      "execution_count": 17,
      "outputs": [
        {
          "output_type": "stream",
          "name": "stdout",
          "text": [
            "Index(['ROW_ID', 'SUBJECT_ID', 'HADM_ID', 'ADMITTIME', 'DISCHTIME',\n",
            "       'DEATHTIME', 'ADMISSION_TYPE', 'ADMISSION_LOCATION',\n",
            "       'DISCHARGE_LOCATION', 'INSURANCE', 'LANGUAGE', 'RELIGION',\n",
            "       'MARITAL_STATUS', 'ETHNICITY', 'EDREGTIME', 'EDOUTTIME', 'DIAGNOSIS',\n",
            "       'HOSPITAL_EXPIRE_FLAG', 'HAS_CHARTEVENTS_DATA'],\n",
            "      dtype='object')\n",
            "Index(['ROW_ID', 'SUBJECT_ID', 'HADM_ID', 'ICUSTAY_ID', 'DBSOURCE',\n",
            "       'FIRST_CAREUNIT', 'LAST_CAREUNIT', 'FIRST_WARDID', 'LAST_WARDID',\n",
            "       'INTIME', 'OUTTIME', 'LOS'],\n",
            "      dtype='object')\n",
            "Index(['ROW_ID', 'SUBJECT_ID', 'HADM_ID', 'ICUSTAY_ID', 'DBSOURCE',\n",
            "       'FIRST_CAREUNIT', 'LAST_CAREUNIT', 'FIRST_WARDID', 'LAST_WARDID',\n",
            "       'INTIME', 'OUTTIME', 'LOS', 'ADMITTIME', 'DISCHTIME', 'DEATHTIME'],\n",
            "      dtype='object')\n"
          ]
        }
      ]
    },
    {
      "cell_type": "code",
      "metadata": {
        "colab": {
          "base_uri": "https://localhost:8080/",
          "height": 426
        },
        "id": "cu0uz5g2oxbo",
        "outputId": "40ee2ae6-6ec8-49c2-d64a-f3c551a98f60"
      },
      "source": [
        "df_icu_add.head()"
      ],
      "execution_count": 18,
      "outputs": [
        {
          "output_type": "execute_result",
          "data": {
            "text/plain": [
              "   ROW_ID  SUBJECT_ID  HADM_ID  ICUSTAY_ID DBSOURCE FIRST_CAREUNIT  \\\n",
              "0   12742       10006   142345      206504  carevue           MICU   \n",
              "1   12755       10019   177759      228977  carevue           MICU   \n",
              "2   12768       10033   157235      254543  carevue           SICU   \n",
              "3   12770       10035   110244      296804  carevue           SICU   \n",
              "4   12771       10036   189483      227834  carevue           MICU   \n",
              "\n",
              "  LAST_CAREUNIT  FIRST_WARDID  LAST_WARDID            INTIME  \\\n",
              "0          MICU            52           52  2164-10-23 21:10   \n",
              "1          MICU            15           15  2163-05-14 20:43   \n",
              "2          SICU            33           33  2132-12-05 13:13   \n",
              "3          SICU            23           23  2129-03-04 13:40   \n",
              "4          MICU            12           12  2185-03-24 16:57   \n",
              "\n",
              "            OUTTIME     LOS         ADMITTIME         DISCHTIME  \\\n",
              "0  2164-10-25 12:21  1.6325  2164-10-23 21:09  2164-11-01 17:15   \n",
              "1   2163-05-16 3:47  1.2938  2163-05-14 20:43  2163-05-15 12:00   \n",
              "2  2132-12-06 14:53  1.0695   2132-12-05 2:46  2132-12-08 15:15   \n",
              "3  2129-03-05 22:40  1.3755  2129-03-03 16:06  2129-03-07 18:19   \n",
              "4  2185-03-26 12:18  1.8068  2185-03-24 16:56   2185-03-26 9:15   \n",
              "\n",
              "          DEATHTIME  \n",
              "0               NaN  \n",
              "1  2163-05-15 12:00  \n",
              "2               NaN  \n",
              "3               NaN  \n",
              "4   2185-03-26 9:15  "
            ],
            "text/html": [
              "\n",
              "  <div id=\"df-1b936c22-7e06-4646-bf63-7f96a08e60bb\">\n",
              "    <div class=\"colab-df-container\">\n",
              "      <div>\n",
              "<style scoped>\n",
              "    .dataframe tbody tr th:only-of-type {\n",
              "        vertical-align: middle;\n",
              "    }\n",
              "\n",
              "    .dataframe tbody tr th {\n",
              "        vertical-align: top;\n",
              "    }\n",
              "\n",
              "    .dataframe thead th {\n",
              "        text-align: right;\n",
              "    }\n",
              "</style>\n",
              "<table border=\"1\" class=\"dataframe\">\n",
              "  <thead>\n",
              "    <tr style=\"text-align: right;\">\n",
              "      <th></th>\n",
              "      <th>ROW_ID</th>\n",
              "      <th>SUBJECT_ID</th>\n",
              "      <th>HADM_ID</th>\n",
              "      <th>ICUSTAY_ID</th>\n",
              "      <th>DBSOURCE</th>\n",
              "      <th>FIRST_CAREUNIT</th>\n",
              "      <th>LAST_CAREUNIT</th>\n",
              "      <th>FIRST_WARDID</th>\n",
              "      <th>LAST_WARDID</th>\n",
              "      <th>INTIME</th>\n",
              "      <th>OUTTIME</th>\n",
              "      <th>LOS</th>\n",
              "      <th>ADMITTIME</th>\n",
              "      <th>DISCHTIME</th>\n",
              "      <th>DEATHTIME</th>\n",
              "    </tr>\n",
              "  </thead>\n",
              "  <tbody>\n",
              "    <tr>\n",
              "      <th>0</th>\n",
              "      <td>12742</td>\n",
              "      <td>10006</td>\n",
              "      <td>142345</td>\n",
              "      <td>206504</td>\n",
              "      <td>carevue</td>\n",
              "      <td>MICU</td>\n",
              "      <td>MICU</td>\n",
              "      <td>52</td>\n",
              "      <td>52</td>\n",
              "      <td>2164-10-23 21:10</td>\n",
              "      <td>2164-10-25 12:21</td>\n",
              "      <td>1.6325</td>\n",
              "      <td>2164-10-23 21:09</td>\n",
              "      <td>2164-11-01 17:15</td>\n",
              "      <td>NaN</td>\n",
              "    </tr>\n",
              "    <tr>\n",
              "      <th>1</th>\n",
              "      <td>12755</td>\n",
              "      <td>10019</td>\n",
              "      <td>177759</td>\n",
              "      <td>228977</td>\n",
              "      <td>carevue</td>\n",
              "      <td>MICU</td>\n",
              "      <td>MICU</td>\n",
              "      <td>15</td>\n",
              "      <td>15</td>\n",
              "      <td>2163-05-14 20:43</td>\n",
              "      <td>2163-05-16 3:47</td>\n",
              "      <td>1.2938</td>\n",
              "      <td>2163-05-14 20:43</td>\n",
              "      <td>2163-05-15 12:00</td>\n",
              "      <td>2163-05-15 12:00</td>\n",
              "    </tr>\n",
              "    <tr>\n",
              "      <th>2</th>\n",
              "      <td>12768</td>\n",
              "      <td>10033</td>\n",
              "      <td>157235</td>\n",
              "      <td>254543</td>\n",
              "      <td>carevue</td>\n",
              "      <td>SICU</td>\n",
              "      <td>SICU</td>\n",
              "      <td>33</td>\n",
              "      <td>33</td>\n",
              "      <td>2132-12-05 13:13</td>\n",
              "      <td>2132-12-06 14:53</td>\n",
              "      <td>1.0695</td>\n",
              "      <td>2132-12-05 2:46</td>\n",
              "      <td>2132-12-08 15:15</td>\n",
              "      <td>NaN</td>\n",
              "    </tr>\n",
              "    <tr>\n",
              "      <th>3</th>\n",
              "      <td>12770</td>\n",
              "      <td>10035</td>\n",
              "      <td>110244</td>\n",
              "      <td>296804</td>\n",
              "      <td>carevue</td>\n",
              "      <td>SICU</td>\n",
              "      <td>SICU</td>\n",
              "      <td>23</td>\n",
              "      <td>23</td>\n",
              "      <td>2129-03-04 13:40</td>\n",
              "      <td>2129-03-05 22:40</td>\n",
              "      <td>1.3755</td>\n",
              "      <td>2129-03-03 16:06</td>\n",
              "      <td>2129-03-07 18:19</td>\n",
              "      <td>NaN</td>\n",
              "    </tr>\n",
              "    <tr>\n",
              "      <th>4</th>\n",
              "      <td>12771</td>\n",
              "      <td>10036</td>\n",
              "      <td>189483</td>\n",
              "      <td>227834</td>\n",
              "      <td>carevue</td>\n",
              "      <td>MICU</td>\n",
              "      <td>MICU</td>\n",
              "      <td>12</td>\n",
              "      <td>12</td>\n",
              "      <td>2185-03-24 16:57</td>\n",
              "      <td>2185-03-26 12:18</td>\n",
              "      <td>1.8068</td>\n",
              "      <td>2185-03-24 16:56</td>\n",
              "      <td>2185-03-26 9:15</td>\n",
              "      <td>2185-03-26 9:15</td>\n",
              "    </tr>\n",
              "  </tbody>\n",
              "</table>\n",
              "</div>\n",
              "      <button class=\"colab-df-convert\" onclick=\"convertToInteractive('df-1b936c22-7e06-4646-bf63-7f96a08e60bb')\"\n",
              "              title=\"Convert this dataframe to an interactive table.\"\n",
              "              style=\"display:none;\">\n",
              "        \n",
              "  <svg xmlns=\"http://www.w3.org/2000/svg\" height=\"24px\"viewBox=\"0 0 24 24\"\n",
              "       width=\"24px\">\n",
              "    <path d=\"M0 0h24v24H0V0z\" fill=\"none\"/>\n",
              "    <path d=\"M18.56 5.44l.94 2.06.94-2.06 2.06-.94-2.06-.94-.94-2.06-.94 2.06-2.06.94zm-11 1L8.5 8.5l.94-2.06 2.06-.94-2.06-.94L8.5 2.5l-.94 2.06-2.06.94zm10 10l.94 2.06.94-2.06 2.06-.94-2.06-.94-.94-2.06-.94 2.06-2.06.94z\"/><path d=\"M17.41 7.96l-1.37-1.37c-.4-.4-.92-.59-1.43-.59-.52 0-1.04.2-1.43.59L10.3 9.45l-7.72 7.72c-.78.78-.78 2.05 0 2.83L4 21.41c.39.39.9.59 1.41.59.51 0 1.02-.2 1.41-.59l7.78-7.78 2.81-2.81c.8-.78.8-2.07 0-2.86zM5.41 20L4 18.59l7.72-7.72 1.47 1.35L5.41 20z\"/>\n",
              "  </svg>\n",
              "      </button>\n",
              "      \n",
              "  <style>\n",
              "    .colab-df-container {\n",
              "      display:flex;\n",
              "      flex-wrap:wrap;\n",
              "      gap: 12px;\n",
              "    }\n",
              "\n",
              "    .colab-df-convert {\n",
              "      background-color: #E8F0FE;\n",
              "      border: none;\n",
              "      border-radius: 50%;\n",
              "      cursor: pointer;\n",
              "      display: none;\n",
              "      fill: #1967D2;\n",
              "      height: 32px;\n",
              "      padding: 0 0 0 0;\n",
              "      width: 32px;\n",
              "    }\n",
              "\n",
              "    .colab-df-convert:hover {\n",
              "      background-color: #E2EBFA;\n",
              "      box-shadow: 0px 1px 2px rgba(60, 64, 67, 0.3), 0px 1px 3px 1px rgba(60, 64, 67, 0.15);\n",
              "      fill: #174EA6;\n",
              "    }\n",
              "\n",
              "    [theme=dark] .colab-df-convert {\n",
              "      background-color: #3B4455;\n",
              "      fill: #D2E3FC;\n",
              "    }\n",
              "\n",
              "    [theme=dark] .colab-df-convert:hover {\n",
              "      background-color: #434B5C;\n",
              "      box-shadow: 0px 1px 3px 1px rgba(0, 0, 0, 0.15);\n",
              "      filter: drop-shadow(0px 1px 2px rgba(0, 0, 0, 0.3));\n",
              "      fill: #FFFFFF;\n",
              "    }\n",
              "  </style>\n",
              "\n",
              "      <script>\n",
              "        const buttonEl =\n",
              "          document.querySelector('#df-1b936c22-7e06-4646-bf63-7f96a08e60bb button.colab-df-convert');\n",
              "        buttonEl.style.display =\n",
              "          google.colab.kernel.accessAllowed ? 'block' : 'none';\n",
              "\n",
              "        async function convertToInteractive(key) {\n",
              "          const element = document.querySelector('#df-1b936c22-7e06-4646-bf63-7f96a08e60bb');\n",
              "          const dataTable =\n",
              "            await google.colab.kernel.invokeFunction('convertToInteractive',\n",
              "                                                     [key], {});\n",
              "          if (!dataTable) return;\n",
              "\n",
              "          const docLinkHtml = 'Like what you see? Visit the ' +\n",
              "            '<a target=\"_blank\" href=https://colab.research.google.com/notebooks/data_table.ipynb>data table notebook</a>'\n",
              "            + ' to learn more about interactive tables.';\n",
              "          element.innerHTML = '';\n",
              "          dataTable['output_type'] = 'display_data';\n",
              "          await google.colab.output.renderOutput(dataTable, element);\n",
              "          const docLink = document.createElement('div');\n",
              "          docLink.innerHTML = docLinkHtml;\n",
              "          element.appendChild(docLink);\n",
              "        }\n",
              "      </script>\n",
              "    </div>\n",
              "  </div>\n",
              "  "
            ]
          },
          "metadata": {},
          "execution_count": 18
        }
      ]
    },
    {
      "cell_type": "code",
      "metadata": {
        "colab": {
          "base_uri": "https://localhost:8080/",
          "height": 206
        },
        "id": "KFmTipAW8L_i",
        "outputId": "90439536-e7ef-4072-abf8-9e8be21fe9b9"
      },
      "source": [
        "df_icu_add[['INTIME','OUTTIME','DEATHTIME']].head()"
      ],
      "execution_count": 19,
      "outputs": [
        {
          "output_type": "execute_result",
          "data": {
            "text/plain": [
              "             INTIME           OUTTIME         DEATHTIME\n",
              "0  2164-10-23 21:10  2164-10-25 12:21               NaN\n",
              "1  2163-05-14 20:43   2163-05-16 3:47  2163-05-15 12:00\n",
              "2  2132-12-05 13:13  2132-12-06 14:53               NaN\n",
              "3  2129-03-04 13:40  2129-03-05 22:40               NaN\n",
              "4  2185-03-24 16:57  2185-03-26 12:18   2185-03-26 9:15"
            ],
            "text/html": [
              "\n",
              "  <div id=\"df-4eefff0d-2cb2-462c-99a5-6e663ee327a0\">\n",
              "    <div class=\"colab-df-container\">\n",
              "      <div>\n",
              "<style scoped>\n",
              "    .dataframe tbody tr th:only-of-type {\n",
              "        vertical-align: middle;\n",
              "    }\n",
              "\n",
              "    .dataframe tbody tr th {\n",
              "        vertical-align: top;\n",
              "    }\n",
              "\n",
              "    .dataframe thead th {\n",
              "        text-align: right;\n",
              "    }\n",
              "</style>\n",
              "<table border=\"1\" class=\"dataframe\">\n",
              "  <thead>\n",
              "    <tr style=\"text-align: right;\">\n",
              "      <th></th>\n",
              "      <th>INTIME</th>\n",
              "      <th>OUTTIME</th>\n",
              "      <th>DEATHTIME</th>\n",
              "    </tr>\n",
              "  </thead>\n",
              "  <tbody>\n",
              "    <tr>\n",
              "      <th>0</th>\n",
              "      <td>2164-10-23 21:10</td>\n",
              "      <td>2164-10-25 12:21</td>\n",
              "      <td>NaN</td>\n",
              "    </tr>\n",
              "    <tr>\n",
              "      <th>1</th>\n",
              "      <td>2163-05-14 20:43</td>\n",
              "      <td>2163-05-16 3:47</td>\n",
              "      <td>2163-05-15 12:00</td>\n",
              "    </tr>\n",
              "    <tr>\n",
              "      <th>2</th>\n",
              "      <td>2132-12-05 13:13</td>\n",
              "      <td>2132-12-06 14:53</td>\n",
              "      <td>NaN</td>\n",
              "    </tr>\n",
              "    <tr>\n",
              "      <th>3</th>\n",
              "      <td>2129-03-04 13:40</td>\n",
              "      <td>2129-03-05 22:40</td>\n",
              "      <td>NaN</td>\n",
              "    </tr>\n",
              "    <tr>\n",
              "      <th>4</th>\n",
              "      <td>2185-03-24 16:57</td>\n",
              "      <td>2185-03-26 12:18</td>\n",
              "      <td>2185-03-26 9:15</td>\n",
              "    </tr>\n",
              "  </tbody>\n",
              "</table>\n",
              "</div>\n",
              "      <button class=\"colab-df-convert\" onclick=\"convertToInteractive('df-4eefff0d-2cb2-462c-99a5-6e663ee327a0')\"\n",
              "              title=\"Convert this dataframe to an interactive table.\"\n",
              "              style=\"display:none;\">\n",
              "        \n",
              "  <svg xmlns=\"http://www.w3.org/2000/svg\" height=\"24px\"viewBox=\"0 0 24 24\"\n",
              "       width=\"24px\">\n",
              "    <path d=\"M0 0h24v24H0V0z\" fill=\"none\"/>\n",
              "    <path d=\"M18.56 5.44l.94 2.06.94-2.06 2.06-.94-2.06-.94-.94-2.06-.94 2.06-2.06.94zm-11 1L8.5 8.5l.94-2.06 2.06-.94-2.06-.94L8.5 2.5l-.94 2.06-2.06.94zm10 10l.94 2.06.94-2.06 2.06-.94-2.06-.94-.94-2.06-.94 2.06-2.06.94z\"/><path d=\"M17.41 7.96l-1.37-1.37c-.4-.4-.92-.59-1.43-.59-.52 0-1.04.2-1.43.59L10.3 9.45l-7.72 7.72c-.78.78-.78 2.05 0 2.83L4 21.41c.39.39.9.59 1.41.59.51 0 1.02-.2 1.41-.59l7.78-7.78 2.81-2.81c.8-.78.8-2.07 0-2.86zM5.41 20L4 18.59l7.72-7.72 1.47 1.35L5.41 20z\"/>\n",
              "  </svg>\n",
              "      </button>\n",
              "      \n",
              "  <style>\n",
              "    .colab-df-container {\n",
              "      display:flex;\n",
              "      flex-wrap:wrap;\n",
              "      gap: 12px;\n",
              "    }\n",
              "\n",
              "    .colab-df-convert {\n",
              "      background-color: #E8F0FE;\n",
              "      border: none;\n",
              "      border-radius: 50%;\n",
              "      cursor: pointer;\n",
              "      display: none;\n",
              "      fill: #1967D2;\n",
              "      height: 32px;\n",
              "      padding: 0 0 0 0;\n",
              "      width: 32px;\n",
              "    }\n",
              "\n",
              "    .colab-df-convert:hover {\n",
              "      background-color: #E2EBFA;\n",
              "      box-shadow: 0px 1px 2px rgba(60, 64, 67, 0.3), 0px 1px 3px 1px rgba(60, 64, 67, 0.15);\n",
              "      fill: #174EA6;\n",
              "    }\n",
              "\n",
              "    [theme=dark] .colab-df-convert {\n",
              "      background-color: #3B4455;\n",
              "      fill: #D2E3FC;\n",
              "    }\n",
              "\n",
              "    [theme=dark] .colab-df-convert:hover {\n",
              "      background-color: #434B5C;\n",
              "      box-shadow: 0px 1px 3px 1px rgba(0, 0, 0, 0.15);\n",
              "      filter: drop-shadow(0px 1px 2px rgba(0, 0, 0, 0.3));\n",
              "      fill: #FFFFFF;\n",
              "    }\n",
              "  </style>\n",
              "\n",
              "      <script>\n",
              "        const buttonEl =\n",
              "          document.querySelector('#df-4eefff0d-2cb2-462c-99a5-6e663ee327a0 button.colab-df-convert');\n",
              "        buttonEl.style.display =\n",
              "          google.colab.kernel.accessAllowed ? 'block' : 'none';\n",
              "\n",
              "        async function convertToInteractive(key) {\n",
              "          const element = document.querySelector('#df-4eefff0d-2cb2-462c-99a5-6e663ee327a0');\n",
              "          const dataTable =\n",
              "            await google.colab.kernel.invokeFunction('convertToInteractive',\n",
              "                                                     [key], {});\n",
              "          if (!dataTable) return;\n",
              "\n",
              "          const docLinkHtml = 'Like what you see? Visit the ' +\n",
              "            '<a target=\"_blank\" href=https://colab.research.google.com/notebooks/data_table.ipynb>data table notebook</a>'\n",
              "            + ' to learn more about interactive tables.';\n",
              "          element.innerHTML = '';\n",
              "          dataTable['output_type'] = 'display_data';\n",
              "          await google.colab.output.renderOutput(dataTable, element);\n",
              "          const docLink = document.createElement('div');\n",
              "          docLink.innerHTML = docLinkHtml;\n",
              "          element.appendChild(docLink);\n",
              "        }\n",
              "      </script>\n",
              "    </div>\n",
              "  </div>\n",
              "  "
            ]
          },
          "metadata": {},
          "execution_count": 19
        }
      ]
    },
    {
      "cell_type": "code",
      "metadata": {
        "colab": {
          "base_uri": "https://localhost:8080/"
        },
        "id": "ane04A5Ooxbp",
        "outputId": "e63508c7-8f87-4561-c7cb-f305e98a982e"
      },
      "source": [
        "print('Time data (\"object\" type) to \"datetime\" type')\n",
        "print(\"date time types:\", df_icu_add['INTIME'].dtypes)\n",
        "\n",
        "time_cols = ['INTIME','OUTTIME','DEATHTIME']\n",
        "for col_name in time_cols: \n",
        "    df_icu_add[col_name] = pd.to_datetime(df_icu_add[col_name])\n",
        "\n",
        "print(\"Changed types of date time:\", df_icu_add['INTIME'].dtypes)\n"
      ],
      "execution_count": 20,
      "outputs": [
        {
          "output_type": "stream",
          "name": "stdout",
          "text": [
            "Time data (\"object\" type) to \"datetime\" type\n",
            "date time types: object\n",
            "Changed types of date time: datetime64[ns]\n"
          ]
        }
      ]
    },
    {
      "cell_type": "code",
      "metadata": {
        "colab": {
          "base_uri": "https://localhost:8080/",
          "height": 206
        },
        "id": "uHSPUmTI82Q_",
        "outputId": "f61fe64f-7c41-4b7d-b74a-3762da9ef6d9"
      },
      "source": [
        "# Time data에 대해 type 전환 후, 숫자 -> 날짜로 인식.\n",
        "# NaN (Not a number) -> NaT (Not a time)\n",
        "df_icu_add[['INTIME','OUTTIME','DEATHTIME']].head()\n",
        "\n"
      ],
      "execution_count": 21,
      "outputs": [
        {
          "output_type": "execute_result",
          "data": {
            "text/plain": [
              "               INTIME             OUTTIME           DEATHTIME\n",
              "0 2164-10-23 21:10:00 2164-10-25 12:21:00                 NaT\n",
              "1 2163-05-14 20:43:00 2163-05-16 03:47:00 2163-05-15 12:00:00\n",
              "2 2132-12-05 13:13:00 2132-12-06 14:53:00                 NaT\n",
              "3 2129-03-04 13:40:00 2129-03-05 22:40:00                 NaT\n",
              "4 2185-03-24 16:57:00 2185-03-26 12:18:00 2185-03-26 09:15:00"
            ],
            "text/html": [
              "\n",
              "  <div id=\"df-932cbf80-f643-4e49-a4d2-8f68b7a03364\">\n",
              "    <div class=\"colab-df-container\">\n",
              "      <div>\n",
              "<style scoped>\n",
              "    .dataframe tbody tr th:only-of-type {\n",
              "        vertical-align: middle;\n",
              "    }\n",
              "\n",
              "    .dataframe tbody tr th {\n",
              "        vertical-align: top;\n",
              "    }\n",
              "\n",
              "    .dataframe thead th {\n",
              "        text-align: right;\n",
              "    }\n",
              "</style>\n",
              "<table border=\"1\" class=\"dataframe\">\n",
              "  <thead>\n",
              "    <tr style=\"text-align: right;\">\n",
              "      <th></th>\n",
              "      <th>INTIME</th>\n",
              "      <th>OUTTIME</th>\n",
              "      <th>DEATHTIME</th>\n",
              "    </tr>\n",
              "  </thead>\n",
              "  <tbody>\n",
              "    <tr>\n",
              "      <th>0</th>\n",
              "      <td>2164-10-23 21:10:00</td>\n",
              "      <td>2164-10-25 12:21:00</td>\n",
              "      <td>NaT</td>\n",
              "    </tr>\n",
              "    <tr>\n",
              "      <th>1</th>\n",
              "      <td>2163-05-14 20:43:00</td>\n",
              "      <td>2163-05-16 03:47:00</td>\n",
              "      <td>2163-05-15 12:00:00</td>\n",
              "    </tr>\n",
              "    <tr>\n",
              "      <th>2</th>\n",
              "      <td>2132-12-05 13:13:00</td>\n",
              "      <td>2132-12-06 14:53:00</td>\n",
              "      <td>NaT</td>\n",
              "    </tr>\n",
              "    <tr>\n",
              "      <th>3</th>\n",
              "      <td>2129-03-04 13:40:00</td>\n",
              "      <td>2129-03-05 22:40:00</td>\n",
              "      <td>NaT</td>\n",
              "    </tr>\n",
              "    <tr>\n",
              "      <th>4</th>\n",
              "      <td>2185-03-24 16:57:00</td>\n",
              "      <td>2185-03-26 12:18:00</td>\n",
              "      <td>2185-03-26 09:15:00</td>\n",
              "    </tr>\n",
              "  </tbody>\n",
              "</table>\n",
              "</div>\n",
              "      <button class=\"colab-df-convert\" onclick=\"convertToInteractive('df-932cbf80-f643-4e49-a4d2-8f68b7a03364')\"\n",
              "              title=\"Convert this dataframe to an interactive table.\"\n",
              "              style=\"display:none;\">\n",
              "        \n",
              "  <svg xmlns=\"http://www.w3.org/2000/svg\" height=\"24px\"viewBox=\"0 0 24 24\"\n",
              "       width=\"24px\">\n",
              "    <path d=\"M0 0h24v24H0V0z\" fill=\"none\"/>\n",
              "    <path d=\"M18.56 5.44l.94 2.06.94-2.06 2.06-.94-2.06-.94-.94-2.06-.94 2.06-2.06.94zm-11 1L8.5 8.5l.94-2.06 2.06-.94-2.06-.94L8.5 2.5l-.94 2.06-2.06.94zm10 10l.94 2.06.94-2.06 2.06-.94-2.06-.94-.94-2.06-.94 2.06-2.06.94z\"/><path d=\"M17.41 7.96l-1.37-1.37c-.4-.4-.92-.59-1.43-.59-.52 0-1.04.2-1.43.59L10.3 9.45l-7.72 7.72c-.78.78-.78 2.05 0 2.83L4 21.41c.39.39.9.59 1.41.59.51 0 1.02-.2 1.41-.59l7.78-7.78 2.81-2.81c.8-.78.8-2.07 0-2.86zM5.41 20L4 18.59l7.72-7.72 1.47 1.35L5.41 20z\"/>\n",
              "  </svg>\n",
              "      </button>\n",
              "      \n",
              "  <style>\n",
              "    .colab-df-container {\n",
              "      display:flex;\n",
              "      flex-wrap:wrap;\n",
              "      gap: 12px;\n",
              "    }\n",
              "\n",
              "    .colab-df-convert {\n",
              "      background-color: #E8F0FE;\n",
              "      border: none;\n",
              "      border-radius: 50%;\n",
              "      cursor: pointer;\n",
              "      display: none;\n",
              "      fill: #1967D2;\n",
              "      height: 32px;\n",
              "      padding: 0 0 0 0;\n",
              "      width: 32px;\n",
              "    }\n",
              "\n",
              "    .colab-df-convert:hover {\n",
              "      background-color: #E2EBFA;\n",
              "      box-shadow: 0px 1px 2px rgba(60, 64, 67, 0.3), 0px 1px 3px 1px rgba(60, 64, 67, 0.15);\n",
              "      fill: #174EA6;\n",
              "    }\n",
              "\n",
              "    [theme=dark] .colab-df-convert {\n",
              "      background-color: #3B4455;\n",
              "      fill: #D2E3FC;\n",
              "    }\n",
              "\n",
              "    [theme=dark] .colab-df-convert:hover {\n",
              "      background-color: #434B5C;\n",
              "      box-shadow: 0px 1px 3px 1px rgba(0, 0, 0, 0.15);\n",
              "      filter: drop-shadow(0px 1px 2px rgba(0, 0, 0, 0.3));\n",
              "      fill: #FFFFFF;\n",
              "    }\n",
              "  </style>\n",
              "\n",
              "      <script>\n",
              "        const buttonEl =\n",
              "          document.querySelector('#df-932cbf80-f643-4e49-a4d2-8f68b7a03364 button.colab-df-convert');\n",
              "        buttonEl.style.display =\n",
              "          google.colab.kernel.accessAllowed ? 'block' : 'none';\n",
              "\n",
              "        async function convertToInteractive(key) {\n",
              "          const element = document.querySelector('#df-932cbf80-f643-4e49-a4d2-8f68b7a03364');\n",
              "          const dataTable =\n",
              "            await google.colab.kernel.invokeFunction('convertToInteractive',\n",
              "                                                     [key], {});\n",
              "          if (!dataTable) return;\n",
              "\n",
              "          const docLinkHtml = 'Like what you see? Visit the ' +\n",
              "            '<a target=\"_blank\" href=https://colab.research.google.com/notebooks/data_table.ipynb>data table notebook</a>'\n",
              "            + ' to learn more about interactive tables.';\n",
              "          element.innerHTML = '';\n",
              "          dataTable['output_type'] = 'display_data';\n",
              "          await google.colab.output.renderOutput(dataTable, element);\n",
              "          const docLink = document.createElement('div');\n",
              "          docLink.innerHTML = docLinkHtml;\n",
              "          element.appendChild(docLink);\n",
              "        }\n",
              "      </script>\n",
              "    </div>\n",
              "  </div>\n",
              "  "
            ]
          },
          "metadata": {},
          "execution_count": 21
        }
      ]
    },
    {
      "cell_type": "code",
      "metadata": {
        "id": "jYGo-cj0oxbp",
        "colab": {
          "base_uri": "https://localhost:8080/"
        },
        "outputId": "74f6de1d-e1f3-410d-849f-491628c11f8d"
      },
      "source": [
        "print('y label survive = 0  dead = 1')\n",
        "# df_icu_add.reset_index(inplace=True)\n",
        "df_icu_add['y'] = pd.Series(list(np.zeros(len(df_icu_add))))"
      ],
      "execution_count": 22,
      "outputs": [
        {
          "output_type": "stream",
          "name": "stdout",
          "text": [
            "y label survive = 0  dead = 1\n"
          ]
        }
      ]
    },
    {
      "cell_type": "code",
      "metadata": {
        "colab": {
          "base_uri": "https://localhost:8080/",
          "height": 444
        },
        "id": "GjC_7Yuioxbp",
        "outputId": "72ed3b66-b0f1-4fe4-b3e3-3488e2fb5d8e"
      },
      "source": [
        "df_icu_add.head()"
      ],
      "execution_count": 23,
      "outputs": [
        {
          "output_type": "execute_result",
          "data": {
            "text/plain": [
              "   ROW_ID  SUBJECT_ID  HADM_ID  ICUSTAY_ID DBSOURCE FIRST_CAREUNIT  \\\n",
              "0   12742       10006   142345      206504  carevue           MICU   \n",
              "1   12755       10019   177759      228977  carevue           MICU   \n",
              "2   12768       10033   157235      254543  carevue           SICU   \n",
              "3   12770       10035   110244      296804  carevue           SICU   \n",
              "4   12771       10036   189483      227834  carevue           MICU   \n",
              "\n",
              "  LAST_CAREUNIT  FIRST_WARDID  LAST_WARDID              INTIME  \\\n",
              "0          MICU            52           52 2164-10-23 21:10:00   \n",
              "1          MICU            15           15 2163-05-14 20:43:00   \n",
              "2          SICU            33           33 2132-12-05 13:13:00   \n",
              "3          SICU            23           23 2129-03-04 13:40:00   \n",
              "4          MICU            12           12 2185-03-24 16:57:00   \n",
              "\n",
              "              OUTTIME     LOS         ADMITTIME         DISCHTIME  \\\n",
              "0 2164-10-25 12:21:00  1.6325  2164-10-23 21:09  2164-11-01 17:15   \n",
              "1 2163-05-16 03:47:00  1.2938  2163-05-14 20:43  2163-05-15 12:00   \n",
              "2 2132-12-06 14:53:00  1.0695   2132-12-05 2:46  2132-12-08 15:15   \n",
              "3 2129-03-05 22:40:00  1.3755  2129-03-03 16:06  2129-03-07 18:19   \n",
              "4 2185-03-26 12:18:00  1.8068  2185-03-24 16:56   2185-03-26 9:15   \n",
              "\n",
              "            DEATHTIME    y  \n",
              "0                 NaT  0.0  \n",
              "1 2163-05-15 12:00:00  0.0  \n",
              "2                 NaT  0.0  \n",
              "3                 NaT  0.0  \n",
              "4 2185-03-26 09:15:00  0.0  "
            ],
            "text/html": [
              "\n",
              "  <div id=\"df-3755676e-c491-4395-a7bd-27d5a31856a4\">\n",
              "    <div class=\"colab-df-container\">\n",
              "      <div>\n",
              "<style scoped>\n",
              "    .dataframe tbody tr th:only-of-type {\n",
              "        vertical-align: middle;\n",
              "    }\n",
              "\n",
              "    .dataframe tbody tr th {\n",
              "        vertical-align: top;\n",
              "    }\n",
              "\n",
              "    .dataframe thead th {\n",
              "        text-align: right;\n",
              "    }\n",
              "</style>\n",
              "<table border=\"1\" class=\"dataframe\">\n",
              "  <thead>\n",
              "    <tr style=\"text-align: right;\">\n",
              "      <th></th>\n",
              "      <th>ROW_ID</th>\n",
              "      <th>SUBJECT_ID</th>\n",
              "      <th>HADM_ID</th>\n",
              "      <th>ICUSTAY_ID</th>\n",
              "      <th>DBSOURCE</th>\n",
              "      <th>FIRST_CAREUNIT</th>\n",
              "      <th>LAST_CAREUNIT</th>\n",
              "      <th>FIRST_WARDID</th>\n",
              "      <th>LAST_WARDID</th>\n",
              "      <th>INTIME</th>\n",
              "      <th>OUTTIME</th>\n",
              "      <th>LOS</th>\n",
              "      <th>ADMITTIME</th>\n",
              "      <th>DISCHTIME</th>\n",
              "      <th>DEATHTIME</th>\n",
              "      <th>y</th>\n",
              "    </tr>\n",
              "  </thead>\n",
              "  <tbody>\n",
              "    <tr>\n",
              "      <th>0</th>\n",
              "      <td>12742</td>\n",
              "      <td>10006</td>\n",
              "      <td>142345</td>\n",
              "      <td>206504</td>\n",
              "      <td>carevue</td>\n",
              "      <td>MICU</td>\n",
              "      <td>MICU</td>\n",
              "      <td>52</td>\n",
              "      <td>52</td>\n",
              "      <td>2164-10-23 21:10:00</td>\n",
              "      <td>2164-10-25 12:21:00</td>\n",
              "      <td>1.6325</td>\n",
              "      <td>2164-10-23 21:09</td>\n",
              "      <td>2164-11-01 17:15</td>\n",
              "      <td>NaT</td>\n",
              "      <td>0.0</td>\n",
              "    </tr>\n",
              "    <tr>\n",
              "      <th>1</th>\n",
              "      <td>12755</td>\n",
              "      <td>10019</td>\n",
              "      <td>177759</td>\n",
              "      <td>228977</td>\n",
              "      <td>carevue</td>\n",
              "      <td>MICU</td>\n",
              "      <td>MICU</td>\n",
              "      <td>15</td>\n",
              "      <td>15</td>\n",
              "      <td>2163-05-14 20:43:00</td>\n",
              "      <td>2163-05-16 03:47:00</td>\n",
              "      <td>1.2938</td>\n",
              "      <td>2163-05-14 20:43</td>\n",
              "      <td>2163-05-15 12:00</td>\n",
              "      <td>2163-05-15 12:00:00</td>\n",
              "      <td>0.0</td>\n",
              "    </tr>\n",
              "    <tr>\n",
              "      <th>2</th>\n",
              "      <td>12768</td>\n",
              "      <td>10033</td>\n",
              "      <td>157235</td>\n",
              "      <td>254543</td>\n",
              "      <td>carevue</td>\n",
              "      <td>SICU</td>\n",
              "      <td>SICU</td>\n",
              "      <td>33</td>\n",
              "      <td>33</td>\n",
              "      <td>2132-12-05 13:13:00</td>\n",
              "      <td>2132-12-06 14:53:00</td>\n",
              "      <td>1.0695</td>\n",
              "      <td>2132-12-05 2:46</td>\n",
              "      <td>2132-12-08 15:15</td>\n",
              "      <td>NaT</td>\n",
              "      <td>0.0</td>\n",
              "    </tr>\n",
              "    <tr>\n",
              "      <th>3</th>\n",
              "      <td>12770</td>\n",
              "      <td>10035</td>\n",
              "      <td>110244</td>\n",
              "      <td>296804</td>\n",
              "      <td>carevue</td>\n",
              "      <td>SICU</td>\n",
              "      <td>SICU</td>\n",
              "      <td>23</td>\n",
              "      <td>23</td>\n",
              "      <td>2129-03-04 13:40:00</td>\n",
              "      <td>2129-03-05 22:40:00</td>\n",
              "      <td>1.3755</td>\n",
              "      <td>2129-03-03 16:06</td>\n",
              "      <td>2129-03-07 18:19</td>\n",
              "      <td>NaT</td>\n",
              "      <td>0.0</td>\n",
              "    </tr>\n",
              "    <tr>\n",
              "      <th>4</th>\n",
              "      <td>12771</td>\n",
              "      <td>10036</td>\n",
              "      <td>189483</td>\n",
              "      <td>227834</td>\n",
              "      <td>carevue</td>\n",
              "      <td>MICU</td>\n",
              "      <td>MICU</td>\n",
              "      <td>12</td>\n",
              "      <td>12</td>\n",
              "      <td>2185-03-24 16:57:00</td>\n",
              "      <td>2185-03-26 12:18:00</td>\n",
              "      <td>1.8068</td>\n",
              "      <td>2185-03-24 16:56</td>\n",
              "      <td>2185-03-26 9:15</td>\n",
              "      <td>2185-03-26 09:15:00</td>\n",
              "      <td>0.0</td>\n",
              "    </tr>\n",
              "  </tbody>\n",
              "</table>\n",
              "</div>\n",
              "      <button class=\"colab-df-convert\" onclick=\"convertToInteractive('df-3755676e-c491-4395-a7bd-27d5a31856a4')\"\n",
              "              title=\"Convert this dataframe to an interactive table.\"\n",
              "              style=\"display:none;\">\n",
              "        \n",
              "  <svg xmlns=\"http://www.w3.org/2000/svg\" height=\"24px\"viewBox=\"0 0 24 24\"\n",
              "       width=\"24px\">\n",
              "    <path d=\"M0 0h24v24H0V0z\" fill=\"none\"/>\n",
              "    <path d=\"M18.56 5.44l.94 2.06.94-2.06 2.06-.94-2.06-.94-.94-2.06-.94 2.06-2.06.94zm-11 1L8.5 8.5l.94-2.06 2.06-.94-2.06-.94L8.5 2.5l-.94 2.06-2.06.94zm10 10l.94 2.06.94-2.06 2.06-.94-2.06-.94-.94-2.06-.94 2.06-2.06.94z\"/><path d=\"M17.41 7.96l-1.37-1.37c-.4-.4-.92-.59-1.43-.59-.52 0-1.04.2-1.43.59L10.3 9.45l-7.72 7.72c-.78.78-.78 2.05 0 2.83L4 21.41c.39.39.9.59 1.41.59.51 0 1.02-.2 1.41-.59l7.78-7.78 2.81-2.81c.8-.78.8-2.07 0-2.86zM5.41 20L4 18.59l7.72-7.72 1.47 1.35L5.41 20z\"/>\n",
              "  </svg>\n",
              "      </button>\n",
              "      \n",
              "  <style>\n",
              "    .colab-df-container {\n",
              "      display:flex;\n",
              "      flex-wrap:wrap;\n",
              "      gap: 12px;\n",
              "    }\n",
              "\n",
              "    .colab-df-convert {\n",
              "      background-color: #E8F0FE;\n",
              "      border: none;\n",
              "      border-radius: 50%;\n",
              "      cursor: pointer;\n",
              "      display: none;\n",
              "      fill: #1967D2;\n",
              "      height: 32px;\n",
              "      padding: 0 0 0 0;\n",
              "      width: 32px;\n",
              "    }\n",
              "\n",
              "    .colab-df-convert:hover {\n",
              "      background-color: #E2EBFA;\n",
              "      box-shadow: 0px 1px 2px rgba(60, 64, 67, 0.3), 0px 1px 3px 1px rgba(60, 64, 67, 0.15);\n",
              "      fill: #174EA6;\n",
              "    }\n",
              "\n",
              "    [theme=dark] .colab-df-convert {\n",
              "      background-color: #3B4455;\n",
              "      fill: #D2E3FC;\n",
              "    }\n",
              "\n",
              "    [theme=dark] .colab-df-convert:hover {\n",
              "      background-color: #434B5C;\n",
              "      box-shadow: 0px 1px 3px 1px rgba(0, 0, 0, 0.15);\n",
              "      filter: drop-shadow(0px 1px 2px rgba(0, 0, 0, 0.3));\n",
              "      fill: #FFFFFF;\n",
              "    }\n",
              "  </style>\n",
              "\n",
              "      <script>\n",
              "        const buttonEl =\n",
              "          document.querySelector('#df-3755676e-c491-4395-a7bd-27d5a31856a4 button.colab-df-convert');\n",
              "        buttonEl.style.display =\n",
              "          google.colab.kernel.accessAllowed ? 'block' : 'none';\n",
              "\n",
              "        async function convertToInteractive(key) {\n",
              "          const element = document.querySelector('#df-3755676e-c491-4395-a7bd-27d5a31856a4');\n",
              "          const dataTable =\n",
              "            await google.colab.kernel.invokeFunction('convertToInteractive',\n",
              "                                                     [key], {});\n",
              "          if (!dataTable) return;\n",
              "\n",
              "          const docLinkHtml = 'Like what you see? Visit the ' +\n",
              "            '<a target=\"_blank\" href=https://colab.research.google.com/notebooks/data_table.ipynb>data table notebook</a>'\n",
              "            + ' to learn more about interactive tables.';\n",
              "          element.innerHTML = '';\n",
              "          dataTable['output_type'] = 'display_data';\n",
              "          await google.colab.output.renderOutput(dataTable, element);\n",
              "          const docLink = document.createElement('div');\n",
              "          docLink.innerHTML = docLinkHtml;\n",
              "          element.appendChild(docLink);\n",
              "        }\n",
              "      </script>\n",
              "    </div>\n",
              "  </div>\n",
              "  "
            ]
          },
          "metadata": {},
          "execution_count": 23
        }
      ]
    },
    {
      "cell_type": "code",
      "metadata": {
        "colab": {
          "base_uri": "https://localhost:8080/"
        },
        "id": "NVxQYhdooxbq",
        "outputId": "be0b4190-65c8-4d4f-8ba2-9464cdaee93b"
      },
      "source": [
        "# 1st filtering ICU 입원전 사망. label = 2 \n",
        "df_icu_add.loc[df_icu_add['DEATHTIME'] <= df_icu_add['INTIME'],'y']=2 #DEATHTIME early than INTIME -> y label 2  will be delted later\n",
        "\n",
        "# ICU에서 사망: ICU Intime ~ outtime \n",
        "df_icu_add.loc[(df_icu_add['DEATHTIME'] >=df_icu_add['INTIME']) & (df_icu_add['DEATHTIME']<=df_icu_add['OUTTIME']),'y']=1\n",
        "\n",
        "# sub dataset에는 2에 해당하는 outlier는 존재 하지 않음. \n",
        "print(df_icu_add['y'].value_counts())"
      ],
      "execution_count": 24,
      "outputs": [
        {
          "output_type": "stream",
          "name": "stdout",
          "text": [
            "0.0    37\n",
            "1.0     4\n",
            "Name: y, dtype: int64\n"
          ]
        }
      ]
    },
    {
      "cell_type": "code",
      "metadata": {
        "id": "s8hVzvWboxbr",
        "colab": {
          "base_uri": "https://localhost:8080/"
        },
        "outputId": "979266e6-b656-42ef-a128-3c4722cebe49"
      },
      "source": [
        "df_icu_add = df_icu_add[df_icu_add['y']!=2]\n",
        "print(\"len of df_icu_add\", len(df_icu_add))"
      ],
      "execution_count": 25,
      "outputs": [
        {
          "output_type": "stream",
          "name": "stdout",
          "text": [
            "len of df_icu_add 41\n"
          ]
        }
      ]
    },
    {
      "cell_type": "code",
      "metadata": {
        "colab": {
          "base_uri": "https://localhost:8080/",
          "height": 444
        },
        "id": "u4aqqNDx_eAz",
        "outputId": "5af76be4-5fcc-4ea3-b4a8-4024f1fc1e13"
      },
      "source": [
        "df_icu_add.head()"
      ],
      "execution_count": 26,
      "outputs": [
        {
          "output_type": "execute_result",
          "data": {
            "text/plain": [
              "   ROW_ID  SUBJECT_ID  HADM_ID  ICUSTAY_ID DBSOURCE FIRST_CAREUNIT  \\\n",
              "0   12742       10006   142345      206504  carevue           MICU   \n",
              "1   12755       10019   177759      228977  carevue           MICU   \n",
              "2   12768       10033   157235      254543  carevue           SICU   \n",
              "3   12770       10035   110244      296804  carevue           SICU   \n",
              "4   12771       10036   189483      227834  carevue           MICU   \n",
              "\n",
              "  LAST_CAREUNIT  FIRST_WARDID  LAST_WARDID              INTIME  \\\n",
              "0          MICU            52           52 2164-10-23 21:10:00   \n",
              "1          MICU            15           15 2163-05-14 20:43:00   \n",
              "2          SICU            33           33 2132-12-05 13:13:00   \n",
              "3          SICU            23           23 2129-03-04 13:40:00   \n",
              "4          MICU            12           12 2185-03-24 16:57:00   \n",
              "\n",
              "              OUTTIME     LOS         ADMITTIME         DISCHTIME  \\\n",
              "0 2164-10-25 12:21:00  1.6325  2164-10-23 21:09  2164-11-01 17:15   \n",
              "1 2163-05-16 03:47:00  1.2938  2163-05-14 20:43  2163-05-15 12:00   \n",
              "2 2132-12-06 14:53:00  1.0695   2132-12-05 2:46  2132-12-08 15:15   \n",
              "3 2129-03-05 22:40:00  1.3755  2129-03-03 16:06  2129-03-07 18:19   \n",
              "4 2185-03-26 12:18:00  1.8068  2185-03-24 16:56   2185-03-26 9:15   \n",
              "\n",
              "            DEATHTIME    y  \n",
              "0                 NaT  0.0  \n",
              "1 2163-05-15 12:00:00  1.0  \n",
              "2                 NaT  0.0  \n",
              "3                 NaT  0.0  \n",
              "4 2185-03-26 09:15:00  1.0  "
            ],
            "text/html": [
              "\n",
              "  <div id=\"df-3dcc3f9a-e5ee-4ab5-87ff-df41d26d1e43\">\n",
              "    <div class=\"colab-df-container\">\n",
              "      <div>\n",
              "<style scoped>\n",
              "    .dataframe tbody tr th:only-of-type {\n",
              "        vertical-align: middle;\n",
              "    }\n",
              "\n",
              "    .dataframe tbody tr th {\n",
              "        vertical-align: top;\n",
              "    }\n",
              "\n",
              "    .dataframe thead th {\n",
              "        text-align: right;\n",
              "    }\n",
              "</style>\n",
              "<table border=\"1\" class=\"dataframe\">\n",
              "  <thead>\n",
              "    <tr style=\"text-align: right;\">\n",
              "      <th></th>\n",
              "      <th>ROW_ID</th>\n",
              "      <th>SUBJECT_ID</th>\n",
              "      <th>HADM_ID</th>\n",
              "      <th>ICUSTAY_ID</th>\n",
              "      <th>DBSOURCE</th>\n",
              "      <th>FIRST_CAREUNIT</th>\n",
              "      <th>LAST_CAREUNIT</th>\n",
              "      <th>FIRST_WARDID</th>\n",
              "      <th>LAST_WARDID</th>\n",
              "      <th>INTIME</th>\n",
              "      <th>OUTTIME</th>\n",
              "      <th>LOS</th>\n",
              "      <th>ADMITTIME</th>\n",
              "      <th>DISCHTIME</th>\n",
              "      <th>DEATHTIME</th>\n",
              "      <th>y</th>\n",
              "    </tr>\n",
              "  </thead>\n",
              "  <tbody>\n",
              "    <tr>\n",
              "      <th>0</th>\n",
              "      <td>12742</td>\n",
              "      <td>10006</td>\n",
              "      <td>142345</td>\n",
              "      <td>206504</td>\n",
              "      <td>carevue</td>\n",
              "      <td>MICU</td>\n",
              "      <td>MICU</td>\n",
              "      <td>52</td>\n",
              "      <td>52</td>\n",
              "      <td>2164-10-23 21:10:00</td>\n",
              "      <td>2164-10-25 12:21:00</td>\n",
              "      <td>1.6325</td>\n",
              "      <td>2164-10-23 21:09</td>\n",
              "      <td>2164-11-01 17:15</td>\n",
              "      <td>NaT</td>\n",
              "      <td>0.0</td>\n",
              "    </tr>\n",
              "    <tr>\n",
              "      <th>1</th>\n",
              "      <td>12755</td>\n",
              "      <td>10019</td>\n",
              "      <td>177759</td>\n",
              "      <td>228977</td>\n",
              "      <td>carevue</td>\n",
              "      <td>MICU</td>\n",
              "      <td>MICU</td>\n",
              "      <td>15</td>\n",
              "      <td>15</td>\n",
              "      <td>2163-05-14 20:43:00</td>\n",
              "      <td>2163-05-16 03:47:00</td>\n",
              "      <td>1.2938</td>\n",
              "      <td>2163-05-14 20:43</td>\n",
              "      <td>2163-05-15 12:00</td>\n",
              "      <td>2163-05-15 12:00:00</td>\n",
              "      <td>1.0</td>\n",
              "    </tr>\n",
              "    <tr>\n",
              "      <th>2</th>\n",
              "      <td>12768</td>\n",
              "      <td>10033</td>\n",
              "      <td>157235</td>\n",
              "      <td>254543</td>\n",
              "      <td>carevue</td>\n",
              "      <td>SICU</td>\n",
              "      <td>SICU</td>\n",
              "      <td>33</td>\n",
              "      <td>33</td>\n",
              "      <td>2132-12-05 13:13:00</td>\n",
              "      <td>2132-12-06 14:53:00</td>\n",
              "      <td>1.0695</td>\n",
              "      <td>2132-12-05 2:46</td>\n",
              "      <td>2132-12-08 15:15</td>\n",
              "      <td>NaT</td>\n",
              "      <td>0.0</td>\n",
              "    </tr>\n",
              "    <tr>\n",
              "      <th>3</th>\n",
              "      <td>12770</td>\n",
              "      <td>10035</td>\n",
              "      <td>110244</td>\n",
              "      <td>296804</td>\n",
              "      <td>carevue</td>\n",
              "      <td>SICU</td>\n",
              "      <td>SICU</td>\n",
              "      <td>23</td>\n",
              "      <td>23</td>\n",
              "      <td>2129-03-04 13:40:00</td>\n",
              "      <td>2129-03-05 22:40:00</td>\n",
              "      <td>1.3755</td>\n",
              "      <td>2129-03-03 16:06</td>\n",
              "      <td>2129-03-07 18:19</td>\n",
              "      <td>NaT</td>\n",
              "      <td>0.0</td>\n",
              "    </tr>\n",
              "    <tr>\n",
              "      <th>4</th>\n",
              "      <td>12771</td>\n",
              "      <td>10036</td>\n",
              "      <td>189483</td>\n",
              "      <td>227834</td>\n",
              "      <td>carevue</td>\n",
              "      <td>MICU</td>\n",
              "      <td>MICU</td>\n",
              "      <td>12</td>\n",
              "      <td>12</td>\n",
              "      <td>2185-03-24 16:57:00</td>\n",
              "      <td>2185-03-26 12:18:00</td>\n",
              "      <td>1.8068</td>\n",
              "      <td>2185-03-24 16:56</td>\n",
              "      <td>2185-03-26 9:15</td>\n",
              "      <td>2185-03-26 09:15:00</td>\n",
              "      <td>1.0</td>\n",
              "    </tr>\n",
              "  </tbody>\n",
              "</table>\n",
              "</div>\n",
              "      <button class=\"colab-df-convert\" onclick=\"convertToInteractive('df-3dcc3f9a-e5ee-4ab5-87ff-df41d26d1e43')\"\n",
              "              title=\"Convert this dataframe to an interactive table.\"\n",
              "              style=\"display:none;\">\n",
              "        \n",
              "  <svg xmlns=\"http://www.w3.org/2000/svg\" height=\"24px\"viewBox=\"0 0 24 24\"\n",
              "       width=\"24px\">\n",
              "    <path d=\"M0 0h24v24H0V0z\" fill=\"none\"/>\n",
              "    <path d=\"M18.56 5.44l.94 2.06.94-2.06 2.06-.94-2.06-.94-.94-2.06-.94 2.06-2.06.94zm-11 1L8.5 8.5l.94-2.06 2.06-.94-2.06-.94L8.5 2.5l-.94 2.06-2.06.94zm10 10l.94 2.06.94-2.06 2.06-.94-2.06-.94-.94-2.06-.94 2.06-2.06.94z\"/><path d=\"M17.41 7.96l-1.37-1.37c-.4-.4-.92-.59-1.43-.59-.52 0-1.04.2-1.43.59L10.3 9.45l-7.72 7.72c-.78.78-.78 2.05 0 2.83L4 21.41c.39.39.9.59 1.41.59.51 0 1.02-.2 1.41-.59l7.78-7.78 2.81-2.81c.8-.78.8-2.07 0-2.86zM5.41 20L4 18.59l7.72-7.72 1.47 1.35L5.41 20z\"/>\n",
              "  </svg>\n",
              "      </button>\n",
              "      \n",
              "  <style>\n",
              "    .colab-df-container {\n",
              "      display:flex;\n",
              "      flex-wrap:wrap;\n",
              "      gap: 12px;\n",
              "    }\n",
              "\n",
              "    .colab-df-convert {\n",
              "      background-color: #E8F0FE;\n",
              "      border: none;\n",
              "      border-radius: 50%;\n",
              "      cursor: pointer;\n",
              "      display: none;\n",
              "      fill: #1967D2;\n",
              "      height: 32px;\n",
              "      padding: 0 0 0 0;\n",
              "      width: 32px;\n",
              "    }\n",
              "\n",
              "    .colab-df-convert:hover {\n",
              "      background-color: #E2EBFA;\n",
              "      box-shadow: 0px 1px 2px rgba(60, 64, 67, 0.3), 0px 1px 3px 1px rgba(60, 64, 67, 0.15);\n",
              "      fill: #174EA6;\n",
              "    }\n",
              "\n",
              "    [theme=dark] .colab-df-convert {\n",
              "      background-color: #3B4455;\n",
              "      fill: #D2E3FC;\n",
              "    }\n",
              "\n",
              "    [theme=dark] .colab-df-convert:hover {\n",
              "      background-color: #434B5C;\n",
              "      box-shadow: 0px 1px 3px 1px rgba(0, 0, 0, 0.15);\n",
              "      filter: drop-shadow(0px 1px 2px rgba(0, 0, 0, 0.3));\n",
              "      fill: #FFFFFF;\n",
              "    }\n",
              "  </style>\n",
              "\n",
              "      <script>\n",
              "        const buttonEl =\n",
              "          document.querySelector('#df-3dcc3f9a-e5ee-4ab5-87ff-df41d26d1e43 button.colab-df-convert');\n",
              "        buttonEl.style.display =\n",
              "          google.colab.kernel.accessAllowed ? 'block' : 'none';\n",
              "\n",
              "        async function convertToInteractive(key) {\n",
              "          const element = document.querySelector('#df-3dcc3f9a-e5ee-4ab5-87ff-df41d26d1e43');\n",
              "          const dataTable =\n",
              "            await google.colab.kernel.invokeFunction('convertToInteractive',\n",
              "                                                     [key], {});\n",
              "          if (!dataTable) return;\n",
              "\n",
              "          const docLinkHtml = 'Like what you see? Visit the ' +\n",
              "            '<a target=\"_blank\" href=https://colab.research.google.com/notebooks/data_table.ipynb>data table notebook</a>'\n",
              "            + ' to learn more about interactive tables.';\n",
              "          element.innerHTML = '';\n",
              "          dataTable['output_type'] = 'display_data';\n",
              "          await google.colab.output.renderOutput(dataTable, element);\n",
              "          const docLink = document.createElement('div');\n",
              "          docLink.innerHTML = docLinkHtml;\n",
              "          element.appendChild(docLink);\n",
              "        }\n",
              "      </script>\n",
              "    </div>\n",
              "  </div>\n",
              "  "
            ]
          },
          "metadata": {},
          "execution_count": 26
        }
      ]
    },
    {
      "cell_type": "code",
      "metadata": {
        "colab": {
          "base_uri": "https://localhost:8080/"
        },
        "id": "yC5psa21oxbr",
        "outputId": "0094f5fd-cecf-4edf-f75c-9faca039a106"
      },
      "source": [
        "df_icu_add['fold']=0\n",
        "print('about 20% of whole data used as Test set. We select index for last ICUSTAY_ID number is 8 or 9.')\n",
        "test_index = (df_icu_add['ICUSTAY_ID'].astype(str).map(lambda x : x[-1]) == '8') |(df_icu_add['ICUSTAY_ID'].astype(str).map(lambda x : x[-1]) == '9')\n",
        "\n",
        "df_icu_add.loc[test_index, 'fold'] = 1\n",
        "\n",
        "print('Fold 0 -> train set  Fold 1 -> test set')\n",
        "print(df_icu_add['fold'].value_counts())"
      ],
      "execution_count": 27,
      "outputs": [
        {
          "output_type": "stream",
          "name": "stdout",
          "text": [
            "about 20% of whole data used as Test set. We select index for last ICUSTAY_ID number is 8 or 9.\n",
            "Fold 0 -> train set  Fold 1 -> test set\n",
            "0    35\n",
            "1     6\n",
            "Name: fold, dtype: int64\n"
          ]
        }
      ]
    },
    {
      "cell_type": "code",
      "metadata": {
        "id": "cmPxzc-Boxbs"
      },
      "source": [
        "df_char_icu = df_char[df_char['ICUSTAY_ID'].isin(df_icu_add['ICUSTAY_ID'].values)]"
      ],
      "execution_count": 28,
      "outputs": []
    },
    {
      "cell_type": "code",
      "metadata": {
        "colab": {
          "base_uri": "https://localhost:8080/",
          "height": 661
        },
        "id": "ZIVeNWgDoxbs",
        "outputId": "6ade9c8a-3e16-4a75-e437-a26ca5b24d29"
      },
      "source": [
        "df_char_icu"
      ],
      "execution_count": 29,
      "outputs": [
        {
          "output_type": "execute_result",
          "data": {
            "text/plain": [
              "           ROW_ID  SUBJECT_ID  HADM_ID  ICUSTAY_ID  ITEMID         CHARTTIME  \\\n",
              "1791      5295815       40177   198480    236120.0  220045  2169-05-06 23:17   \n",
              "1792      5295816       40177   198480    236120.0  220210  2169-05-06 23:17   \n",
              "1793      5295817       40177   198480    236120.0  220277  2169-05-06 23:19   \n",
              "1794      5295818       40177   198480    236120.0  220045  2169-05-06 23:43   \n",
              "1795      5295819       40177   198480    236120.0  220046  2169-05-06 23:43   \n",
              "...           ...         ...      ...         ...     ...               ...   \n",
              "755326  274489370       44222   192189    238186.0  226381  2180-07-20 14:48   \n",
              "755327  274489371       44222   192189    238186.0  226543  2180-07-20 14:48   \n",
              "755328  274489372       44222   192189    238186.0  226544  2180-07-20 14:48   \n",
              "755329  274489373       44222   192189    238186.0  226545  2180-07-20 14:48   \n",
              "755330  274489374       44222   192189    238186.0  227378  2180-07-20 14:48   \n",
              "\n",
              "               STORETIME   CGID           VALUE  VALUENUM  VALUEUOM  WARNING  \\\n",
              "1791    2169-05-06 23:44  19152            86.0      86.0       bpm      0.0   \n",
              "1792    2169-05-06 23:44  19152            16.0      16.0  insp/min      0.0   \n",
              "1793    2169-05-06 23:44  19152            98.0      98.0         %      0.0   \n",
              "1794    2169-05-06 23:43  19152            74.0      74.0       bpm      0.0   \n",
              "1795    2169-05-06 23:44  19152           120.0     120.0       bpm      0.0   \n",
              "...                  ...    ...             ...       ...       ...      ...   \n",
              "755326  2180-07-20 14:48  20889          Single       1.0       NaN      0.0   \n",
              "755327  2180-07-20 14:48  20889  Roman Catholic      13.0       NaN      0.0   \n",
              "755328  2180-07-20 14:48  20889         English       1.0       NaN      0.0   \n",
              "755329  2180-07-20 14:48  20889           White       NaN       NaN      0.0   \n",
              "755330  2180-07-20 14:48  20889            FA6B       NaN       NaN      0.0   \n",
              "\n",
              "        ERROR RESULTSTATUS STOPPED  \n",
              "1791      0.0          NaN     NaN  \n",
              "1792      0.0          NaN     NaN  \n",
              "1793      0.0          NaN     NaN  \n",
              "1794      0.0          NaN     NaN  \n",
              "1795      0.0          NaN     NaN  \n",
              "...       ...          ...     ...  \n",
              "755326    0.0          NaN     NaN  \n",
              "755327    0.0          NaN     NaN  \n",
              "755328    0.0          NaN     NaN  \n",
              "755329    0.0          NaN     NaN  \n",
              "755330    0.0          NaN     NaN  \n",
              "\n",
              "[56999 rows x 15 columns]"
            ],
            "text/html": [
              "\n",
              "  <div id=\"df-ae9f93f3-5c7f-4d23-98ab-c3dd2a3ba055\">\n",
              "    <div class=\"colab-df-container\">\n",
              "      <div>\n",
              "<style scoped>\n",
              "    .dataframe tbody tr th:only-of-type {\n",
              "        vertical-align: middle;\n",
              "    }\n",
              "\n",
              "    .dataframe tbody tr th {\n",
              "        vertical-align: top;\n",
              "    }\n",
              "\n",
              "    .dataframe thead th {\n",
              "        text-align: right;\n",
              "    }\n",
              "</style>\n",
              "<table border=\"1\" class=\"dataframe\">\n",
              "  <thead>\n",
              "    <tr style=\"text-align: right;\">\n",
              "      <th></th>\n",
              "      <th>ROW_ID</th>\n",
              "      <th>SUBJECT_ID</th>\n",
              "      <th>HADM_ID</th>\n",
              "      <th>ICUSTAY_ID</th>\n",
              "      <th>ITEMID</th>\n",
              "      <th>CHARTTIME</th>\n",
              "      <th>STORETIME</th>\n",
              "      <th>CGID</th>\n",
              "      <th>VALUE</th>\n",
              "      <th>VALUENUM</th>\n",
              "      <th>VALUEUOM</th>\n",
              "      <th>WARNING</th>\n",
              "      <th>ERROR</th>\n",
              "      <th>RESULTSTATUS</th>\n",
              "      <th>STOPPED</th>\n",
              "    </tr>\n",
              "  </thead>\n",
              "  <tbody>\n",
              "    <tr>\n",
              "      <th>1791</th>\n",
              "      <td>5295815</td>\n",
              "      <td>40177</td>\n",
              "      <td>198480</td>\n",
              "      <td>236120.0</td>\n",
              "      <td>220045</td>\n",
              "      <td>2169-05-06 23:17</td>\n",
              "      <td>2169-05-06 23:44</td>\n",
              "      <td>19152</td>\n",
              "      <td>86.0</td>\n",
              "      <td>86.0</td>\n",
              "      <td>bpm</td>\n",
              "      <td>0.0</td>\n",
              "      <td>0.0</td>\n",
              "      <td>NaN</td>\n",
              "      <td>NaN</td>\n",
              "    </tr>\n",
              "    <tr>\n",
              "      <th>1792</th>\n",
              "      <td>5295816</td>\n",
              "      <td>40177</td>\n",
              "      <td>198480</td>\n",
              "      <td>236120.0</td>\n",
              "      <td>220210</td>\n",
              "      <td>2169-05-06 23:17</td>\n",
              "      <td>2169-05-06 23:44</td>\n",
              "      <td>19152</td>\n",
              "      <td>16.0</td>\n",
              "      <td>16.0</td>\n",
              "      <td>insp/min</td>\n",
              "      <td>0.0</td>\n",
              "      <td>0.0</td>\n",
              "      <td>NaN</td>\n",
              "      <td>NaN</td>\n",
              "    </tr>\n",
              "    <tr>\n",
              "      <th>1793</th>\n",
              "      <td>5295817</td>\n",
              "      <td>40177</td>\n",
              "      <td>198480</td>\n",
              "      <td>236120.0</td>\n",
              "      <td>220277</td>\n",
              "      <td>2169-05-06 23:19</td>\n",
              "      <td>2169-05-06 23:44</td>\n",
              "      <td>19152</td>\n",
              "      <td>98.0</td>\n",
              "      <td>98.0</td>\n",
              "      <td>%</td>\n",
              "      <td>0.0</td>\n",
              "      <td>0.0</td>\n",
              "      <td>NaN</td>\n",
              "      <td>NaN</td>\n",
              "    </tr>\n",
              "    <tr>\n",
              "      <th>1794</th>\n",
              "      <td>5295818</td>\n",
              "      <td>40177</td>\n",
              "      <td>198480</td>\n",
              "      <td>236120.0</td>\n",
              "      <td>220045</td>\n",
              "      <td>2169-05-06 23:43</td>\n",
              "      <td>2169-05-06 23:43</td>\n",
              "      <td>19152</td>\n",
              "      <td>74.0</td>\n",
              "      <td>74.0</td>\n",
              "      <td>bpm</td>\n",
              "      <td>0.0</td>\n",
              "      <td>0.0</td>\n",
              "      <td>NaN</td>\n",
              "      <td>NaN</td>\n",
              "    </tr>\n",
              "    <tr>\n",
              "      <th>1795</th>\n",
              "      <td>5295819</td>\n",
              "      <td>40177</td>\n",
              "      <td>198480</td>\n",
              "      <td>236120.0</td>\n",
              "      <td>220046</td>\n",
              "      <td>2169-05-06 23:43</td>\n",
              "      <td>2169-05-06 23:44</td>\n",
              "      <td>19152</td>\n",
              "      <td>120.0</td>\n",
              "      <td>120.0</td>\n",
              "      <td>bpm</td>\n",
              "      <td>0.0</td>\n",
              "      <td>0.0</td>\n",
              "      <td>NaN</td>\n",
              "      <td>NaN</td>\n",
              "    </tr>\n",
              "    <tr>\n",
              "      <th>...</th>\n",
              "      <td>...</td>\n",
              "      <td>...</td>\n",
              "      <td>...</td>\n",
              "      <td>...</td>\n",
              "      <td>...</td>\n",
              "      <td>...</td>\n",
              "      <td>...</td>\n",
              "      <td>...</td>\n",
              "      <td>...</td>\n",
              "      <td>...</td>\n",
              "      <td>...</td>\n",
              "      <td>...</td>\n",
              "      <td>...</td>\n",
              "      <td>...</td>\n",
              "      <td>...</td>\n",
              "    </tr>\n",
              "    <tr>\n",
              "      <th>755326</th>\n",
              "      <td>274489370</td>\n",
              "      <td>44222</td>\n",
              "      <td>192189</td>\n",
              "      <td>238186.0</td>\n",
              "      <td>226381</td>\n",
              "      <td>2180-07-20 14:48</td>\n",
              "      <td>2180-07-20 14:48</td>\n",
              "      <td>20889</td>\n",
              "      <td>Single</td>\n",
              "      <td>1.0</td>\n",
              "      <td>NaN</td>\n",
              "      <td>0.0</td>\n",
              "      <td>0.0</td>\n",
              "      <td>NaN</td>\n",
              "      <td>NaN</td>\n",
              "    </tr>\n",
              "    <tr>\n",
              "      <th>755327</th>\n",
              "      <td>274489371</td>\n",
              "      <td>44222</td>\n",
              "      <td>192189</td>\n",
              "      <td>238186.0</td>\n",
              "      <td>226543</td>\n",
              "      <td>2180-07-20 14:48</td>\n",
              "      <td>2180-07-20 14:48</td>\n",
              "      <td>20889</td>\n",
              "      <td>Roman Catholic</td>\n",
              "      <td>13.0</td>\n",
              "      <td>NaN</td>\n",
              "      <td>0.0</td>\n",
              "      <td>0.0</td>\n",
              "      <td>NaN</td>\n",
              "      <td>NaN</td>\n",
              "    </tr>\n",
              "    <tr>\n",
              "      <th>755328</th>\n",
              "      <td>274489372</td>\n",
              "      <td>44222</td>\n",
              "      <td>192189</td>\n",
              "      <td>238186.0</td>\n",
              "      <td>226544</td>\n",
              "      <td>2180-07-20 14:48</td>\n",
              "      <td>2180-07-20 14:48</td>\n",
              "      <td>20889</td>\n",
              "      <td>English</td>\n",
              "      <td>1.0</td>\n",
              "      <td>NaN</td>\n",
              "      <td>0.0</td>\n",
              "      <td>0.0</td>\n",
              "      <td>NaN</td>\n",
              "      <td>NaN</td>\n",
              "    </tr>\n",
              "    <tr>\n",
              "      <th>755329</th>\n",
              "      <td>274489373</td>\n",
              "      <td>44222</td>\n",
              "      <td>192189</td>\n",
              "      <td>238186.0</td>\n",
              "      <td>226545</td>\n",
              "      <td>2180-07-20 14:48</td>\n",
              "      <td>2180-07-20 14:48</td>\n",
              "      <td>20889</td>\n",
              "      <td>White</td>\n",
              "      <td>NaN</td>\n",
              "      <td>NaN</td>\n",
              "      <td>0.0</td>\n",
              "      <td>0.0</td>\n",
              "      <td>NaN</td>\n",
              "      <td>NaN</td>\n",
              "    </tr>\n",
              "    <tr>\n",
              "      <th>755330</th>\n",
              "      <td>274489374</td>\n",
              "      <td>44222</td>\n",
              "      <td>192189</td>\n",
              "      <td>238186.0</td>\n",
              "      <td>227378</td>\n",
              "      <td>2180-07-20 14:48</td>\n",
              "      <td>2180-07-20 14:48</td>\n",
              "      <td>20889</td>\n",
              "      <td>FA6B</td>\n",
              "      <td>NaN</td>\n",
              "      <td>NaN</td>\n",
              "      <td>0.0</td>\n",
              "      <td>0.0</td>\n",
              "      <td>NaN</td>\n",
              "      <td>NaN</td>\n",
              "    </tr>\n",
              "  </tbody>\n",
              "</table>\n",
              "<p>56999 rows × 15 columns</p>\n",
              "</div>\n",
              "      <button class=\"colab-df-convert\" onclick=\"convertToInteractive('df-ae9f93f3-5c7f-4d23-98ab-c3dd2a3ba055')\"\n",
              "              title=\"Convert this dataframe to an interactive table.\"\n",
              "              style=\"display:none;\">\n",
              "        \n",
              "  <svg xmlns=\"http://www.w3.org/2000/svg\" height=\"24px\"viewBox=\"0 0 24 24\"\n",
              "       width=\"24px\">\n",
              "    <path d=\"M0 0h24v24H0V0z\" fill=\"none\"/>\n",
              "    <path d=\"M18.56 5.44l.94 2.06.94-2.06 2.06-.94-2.06-.94-.94-2.06-.94 2.06-2.06.94zm-11 1L8.5 8.5l.94-2.06 2.06-.94-2.06-.94L8.5 2.5l-.94 2.06-2.06.94zm10 10l.94 2.06.94-2.06 2.06-.94-2.06-.94-.94-2.06-.94 2.06-2.06.94z\"/><path d=\"M17.41 7.96l-1.37-1.37c-.4-.4-.92-.59-1.43-.59-.52 0-1.04.2-1.43.59L10.3 9.45l-7.72 7.72c-.78.78-.78 2.05 0 2.83L4 21.41c.39.39.9.59 1.41.59.51 0 1.02-.2 1.41-.59l7.78-7.78 2.81-2.81c.8-.78.8-2.07 0-2.86zM5.41 20L4 18.59l7.72-7.72 1.47 1.35L5.41 20z\"/>\n",
              "  </svg>\n",
              "      </button>\n",
              "      \n",
              "  <style>\n",
              "    .colab-df-container {\n",
              "      display:flex;\n",
              "      flex-wrap:wrap;\n",
              "      gap: 12px;\n",
              "    }\n",
              "\n",
              "    .colab-df-convert {\n",
              "      background-color: #E8F0FE;\n",
              "      border: none;\n",
              "      border-radius: 50%;\n",
              "      cursor: pointer;\n",
              "      display: none;\n",
              "      fill: #1967D2;\n",
              "      height: 32px;\n",
              "      padding: 0 0 0 0;\n",
              "      width: 32px;\n",
              "    }\n",
              "\n",
              "    .colab-df-convert:hover {\n",
              "      background-color: #E2EBFA;\n",
              "      box-shadow: 0px 1px 2px rgba(60, 64, 67, 0.3), 0px 1px 3px 1px rgba(60, 64, 67, 0.15);\n",
              "      fill: #174EA6;\n",
              "    }\n",
              "\n",
              "    [theme=dark] .colab-df-convert {\n",
              "      background-color: #3B4455;\n",
              "      fill: #D2E3FC;\n",
              "    }\n",
              "\n",
              "    [theme=dark] .colab-df-convert:hover {\n",
              "      background-color: #434B5C;\n",
              "      box-shadow: 0px 1px 3px 1px rgba(0, 0, 0, 0.15);\n",
              "      filter: drop-shadow(0px 1px 2px rgba(0, 0, 0, 0.3));\n",
              "      fill: #FFFFFF;\n",
              "    }\n",
              "  </style>\n",
              "\n",
              "      <script>\n",
              "        const buttonEl =\n",
              "          document.querySelector('#df-ae9f93f3-5c7f-4d23-98ab-c3dd2a3ba055 button.colab-df-convert');\n",
              "        buttonEl.style.display =\n",
              "          google.colab.kernel.accessAllowed ? 'block' : 'none';\n",
              "\n",
              "        async function convertToInteractive(key) {\n",
              "          const element = document.querySelector('#df-ae9f93f3-5c7f-4d23-98ab-c3dd2a3ba055');\n",
              "          const dataTable =\n",
              "            await google.colab.kernel.invokeFunction('convertToInteractive',\n",
              "                                                     [key], {});\n",
              "          if (!dataTable) return;\n",
              "\n",
              "          const docLinkHtml = 'Like what you see? Visit the ' +\n",
              "            '<a target=\"_blank\" href=https://colab.research.google.com/notebooks/data_table.ipynb>data table notebook</a>'\n",
              "            + ' to learn more about interactive tables.';\n",
              "          element.innerHTML = '';\n",
              "          dataTable['output_type'] = 'display_data';\n",
              "          await google.colab.output.renderOutput(dataTable, element);\n",
              "          const docLink = document.createElement('div');\n",
              "          docLink.innerHTML = docLinkHtml;\n",
              "          element.appendChild(docLink);\n",
              "        }\n",
              "      </script>\n",
              "    </div>\n",
              "  </div>\n",
              "  "
            ]
          },
          "metadata": {},
          "execution_count": 29
        }
      ]
    },
    {
      "cell_type": "code",
      "source": [
        "print(f\"After filtering: {len(df_char)} -> {len(df_char_icu)}\")"
      ],
      "metadata": {
        "colab": {
          "base_uri": "https://localhost:8080/"
        },
        "id": "FTeBty-16ll8",
        "outputId": "989706d8-37db-46b2-da47-107039ff108d"
      },
      "execution_count": 30,
      "outputs": [
        {
          "output_type": "stream",
          "name": "stdout",
          "text": [
            "After filtering: 758355 -> 56999\n"
          ]
        }
      ]
    },
    {
      "cell_type": "code",
      "metadata": {
        "id": "2YsHDPE4oxbt"
      },
      "source": [
        "# Filter CHARRTIME (실제 이벤트 측정한 시간 e.g., heart rate 측정 시간.) < 3h ours from INTIME\n",
        "\n"
      ],
      "execution_count": 31,
      "outputs": []
    },
    {
      "cell_type": "code",
      "metadata": {
        "id": "32VsZXX4oxbs",
        "colab": {
          "base_uri": "https://localhost:8080/"
        },
        "outputId": "62c274f8-310f-46ff-ad33-e806caa929c6"
      },
      "source": [
        "df_char_icu['CHARTTIME'] = pd.to_datetime(df_char_icu['CHARTTIME'])\n",
        "print(df_char_icu.columns)\n",
        "print(df_icu_add.columns)\n",
        "df_char_icu['ICUSTAY_ID']"
      ],
      "execution_count": 32,
      "outputs": [
        {
          "output_type": "stream",
          "name": "stdout",
          "text": [
            "Index(['ROW_ID', 'SUBJECT_ID', 'HADM_ID', 'ICUSTAY_ID', 'ITEMID', 'CHARTTIME',\n",
            "       'STORETIME', 'CGID', 'VALUE', 'VALUENUM', 'VALUEUOM', 'WARNING',\n",
            "       'ERROR', 'RESULTSTATUS', 'STOPPED'],\n",
            "      dtype='object')\n",
            "Index(['ROW_ID', 'SUBJECT_ID', 'HADM_ID', 'ICUSTAY_ID', 'DBSOURCE',\n",
            "       'FIRST_CAREUNIT', 'LAST_CAREUNIT', 'FIRST_WARDID', 'LAST_WARDID',\n",
            "       'INTIME', 'OUTTIME', 'LOS', 'ADMITTIME', 'DISCHTIME', 'DEATHTIME', 'y',\n",
            "       'fold'],\n",
            "      dtype='object')\n"
          ]
        },
        {
          "output_type": "execute_result",
          "data": {
            "text/plain": [
              "1791      236120.0\n",
              "1792      236120.0\n",
              "1793      236120.0\n",
              "1794      236120.0\n",
              "1795      236120.0\n",
              "            ...   \n",
              "755326    238186.0\n",
              "755327    238186.0\n",
              "755328    238186.0\n",
              "755329    238186.0\n",
              "755330    238186.0\n",
              "Name: ICUSTAY_ID, Length: 56999, dtype: float64"
            ]
          },
          "metadata": {},
          "execution_count": 32
        }
      ]
    },
    {
      "cell_type": "code",
      "metadata": {
        "id": "gQPXLSe1oxbt"
      },
      "source": [
        "df_char_icu= pd.merge(df_char_icu, df_icu_add[['ICUSTAY_ID','INTIME']], how='left', on='ICUSTAY_ID')"
      ],
      "execution_count": 33,
      "outputs": []
    },
    {
      "cell_type": "code",
      "metadata": {
        "colab": {
          "base_uri": "https://localhost:8080/"
        },
        "id": "PtUK6S8BBewc",
        "outputId": "5663741d-314b-42f7-bb37-19ade7e10fe3"
      },
      "source": [
        "print(df_char_icu.columns)\n",
        "df_char_icu['ICUSTAY_ID']"
      ],
      "execution_count": 34,
      "outputs": [
        {
          "output_type": "stream",
          "name": "stdout",
          "text": [
            "Index(['ROW_ID', 'SUBJECT_ID', 'HADM_ID', 'ICUSTAY_ID', 'ITEMID', 'CHARTTIME',\n",
            "       'STORETIME', 'CGID', 'VALUE', 'VALUENUM', 'VALUEUOM', 'WARNING',\n",
            "       'ERROR', 'RESULTSTATUS', 'STOPPED', 'INTIME'],\n",
            "      dtype='object')\n"
          ]
        },
        {
          "output_type": "execute_result",
          "data": {
            "text/plain": [
              "0        236120.0\n",
              "1        236120.0\n",
              "2        236120.0\n",
              "3        236120.0\n",
              "4        236120.0\n",
              "           ...   \n",
              "56994    238186.0\n",
              "56995    238186.0\n",
              "56996    238186.0\n",
              "56997    238186.0\n",
              "56998    238186.0\n",
              "Name: ICUSTAY_ID, Length: 56999, dtype: float64"
            ]
          },
          "metadata": {},
          "execution_count": 34
        }
      ]
    },
    {
      "cell_type": "code",
      "metadata": {
        "colab": {
          "base_uri": "https://localhost:8080/",
          "height": 282
        },
        "id": "HBguCjCRoxbt",
        "outputId": "dbd50146-b7a9-43d4-b37f-fd1f941c48b8"
      },
      "source": [
        "# vital sign 측정 시간 - icu 입원 시간. 초단위 계산 후, hour로 전환. (초단위 계산 / (60 min x 60 sec))\n",
        "# historgram for item time offset from INTTIME\n",
        "\n",
        "((df_char_icu['CHARTTIME'] - df_char_icu['INTIME']).dt.total_seconds()/(60*60)).hist()"
      ],
      "execution_count": 35,
      "outputs": [
        {
          "output_type": "execute_result",
          "data": {
            "text/plain": [
              "<matplotlib.axes._subplots.AxesSubplot at 0x7fe9b9853390>"
            ]
          },
          "metadata": {},
          "execution_count": 35
        },
        {
          "output_type": "display_data",
          "data": {
            "text/plain": [
              "<Figure size 432x288 with 1 Axes>"
            ],
            "image/png": "[encoded data removed]"
          },
          "metadata": {
            "needs_background": "light"
          }
        }
      ]
    },
    {
      "cell_type": "code",
      "metadata": {
        "id": "Pfj74bMioxbt"
      },
      "source": [
        "# 3시간 이내의 인덱스.\n",
        "hours_index=((df_char_icu['CHARTTIME'] - df_char_icu['INTIME']).dt.total_seconds()/(60*60))<=3\n",
        "\n",
        "# icu에서 측정된 인덱스.\n",
        "intime_index = (df_char_icu['CHARTTIME'] >=df_char_icu['INTIME'])"
      ],
      "execution_count": 36,
      "outputs": []
    },
    {
      "cell_type": "code",
      "metadata": {
        "id": "jk-cUkkpoxbt"
      },
      "source": [
        "df_char_icu = df_char_icu[hours_index & intime_index]"
      ],
      "execution_count": 37,
      "outputs": []
    },
    {
      "cell_type": "code",
      "metadata": {
        "colab": {
          "base_uri": "https://localhost:8080/",
          "height": 282
        },
        "id": "VEe43Cmkoxbt",
        "outputId": "d9757293-40aa-48c2-b94f-202790048f56"
      },
      "source": [
        "#After filter charttime\n",
        "# ICU 입원 후, 3시간 이내의 기록.\n",
        "((df_char_icu['CHARTTIME'] - df_char_icu['INTIME']).dt.total_seconds()/(60*60)).hist()"
      ],
      "execution_count": 38,
      "outputs": [
        {
          "output_type": "execute_result",
          "data": {
            "text/plain": [
              "<matplotlib.axes._subplots.AxesSubplot at 0x7fe9b9880c90>"
            ]
          },
          "metadata": {},
          "execution_count": 38
        },
        {
          "output_type": "display_data",
          "data": {
            "text/plain": [
              "<Figure size 432x288 with 1 Axes>"
            ],
            "image/png": "[encoded data removed]"
          },
          "metadata": {
            "needs_background": "light"
          }
        }
      ]
    },
    {
      "cell_type": "code",
      "metadata": {
        "colab": {
          "base_uri": "https://localhost:8080/",
          "height": 904
        },
        "id": "mzKcyiJzIplt",
        "outputId": "030910b5-43af-4075-c293-0e270ee84e4f"
      },
      "source": [
        "df_char_icu"
      ],
      "execution_count": 39,
      "outputs": [
        {
          "output_type": "execute_result",
          "data": {
            "text/plain": [
              "          ROW_ID  SUBJECT_ID  HADM_ID  ICUSTAY_ID  ITEMID           CHARTTIME  \\\n",
              "0        5295815       40177   198480    236120.0  220045 2169-05-06 23:17:00   \n",
              "1        5295816       40177   198480    236120.0  220210 2169-05-06 23:17:00   \n",
              "2        5295817       40177   198480    236120.0  220277 2169-05-06 23:19:00   \n",
              "3        5295818       40177   198480    236120.0  220045 2169-05-06 23:43:00   \n",
              "4        5295819       40177   198480    236120.0  220046 2169-05-06 23:43:00   \n",
              "...          ...         ...      ...         ...     ...                 ...   \n",
              "56516  274488892       44222   192189    238186.0  225099 2180-07-19 09:36:00   \n",
              "56517  274488893       44222   192189    238186.0  225101 2180-07-19 09:36:00   \n",
              "56518  274488894       44222   192189    238186.0  225120 2180-07-19 09:36:00   \n",
              "56519  274488895       44222   192189    238186.0  225131 2180-07-19 09:36:00   \n",
              "56520  274488896       44222   192189    238186.0  227687 2180-07-19 09:36:00   \n",
              "\n",
              "              STORETIME   CGID                                       VALUE  \\\n",
              "0      2169-05-06 23:44  19152                                        86.0   \n",
              "1      2169-05-06 23:44  19152                                        16.0   \n",
              "2      2169-05-06 23:44  19152                                        98.0   \n",
              "3      2169-05-06 23:43  19152                                        74.0   \n",
              "4      2169-05-06 23:44  19152                                       120.0   \n",
              "...                 ...    ...                                         ...   \n",
              "56516   2180-07-19 9:39  15029                                      Intact   \n",
              "56517   2180-07-19 9:39  15029                                          No   \n",
              "56518   2180-07-19 9:39  15029                                        Good   \n",
              "56519   2180-07-19 9:39  15029                                     Patient   \n",
              "56520   2180-07-19 9:39  15029  Former user - stopped more than 1 year ago   \n",
              "\n",
              "       VALUENUM  VALUEUOM  WARNING  ERROR RESULTSTATUS STOPPED  \\\n",
              "0          86.0       bpm      0.0    0.0          NaN     NaN   \n",
              "1          16.0  insp/min      0.0    0.0          NaN     NaN   \n",
              "2          98.0         %      0.0    0.0          NaN     NaN   \n",
              "3          74.0       bpm      0.0    0.0          NaN     NaN   \n",
              "4         120.0       bpm      0.0    0.0          NaN     NaN   \n",
              "...         ...       ...      ...    ...          ...     ...   \n",
              "56516       NaN       NaN      0.0    0.0          NaN     NaN   \n",
              "56517       NaN       NaN      0.0    0.0          NaN     NaN   \n",
              "56518       NaN       NaN      0.0    0.0          NaN     NaN   \n",
              "56519       NaN       NaN      0.0    0.0          NaN     NaN   \n",
              "56520       NaN       NaN      0.0    0.0          NaN     NaN   \n",
              "\n",
              "                   INTIME  \n",
              "0     2169-05-06 23:17:00  \n",
              "1     2169-05-06 23:17:00  \n",
              "2     2169-05-06 23:17:00  \n",
              "3     2169-05-06 23:17:00  \n",
              "4     2169-05-06 23:17:00  \n",
              "...                   ...  \n",
              "56516 2180-07-19 06:56:00  \n",
              "56517 2180-07-19 06:56:00  \n",
              "56518 2180-07-19 06:56:00  \n",
              "56519 2180-07-19 06:56:00  \n",
              "56520 2180-07-19 06:56:00  \n",
              "\n",
              "[7246 rows x 16 columns]"
            ],
            "text/html": [
              "\n",
              "  <div id=\"df-f03ead97-4a0d-4c47-a704-e78995ea9ba6\">\n",
              "    <div class=\"colab-df-container\">\n",
              "      <div>\n",
              "<style scoped>\n",
              "    .dataframe tbody tr th:only-of-type {\n",
              "        vertical-align: middle;\n",
              "    }\n",
              "\n",
              "    .dataframe tbody tr th {\n",
              "        vertical-align: top;\n",
              "    }\n",
              "\n",
              "    .dataframe thead th {\n",
              "        text-align: right;\n",
              "    }\n",
              "</style>\n",
              "<table border=\"1\" class=\"dataframe\">\n",
              "  <thead>\n",
              "    <tr style=\"text-align: right;\">\n",
              "      <th></th>\n",
              "      <th>ROW_ID</th>\n",
              "      <th>SUBJECT_ID</th>\n",
              "      <th>HADM_ID</th>\n",
              "      <th>ICUSTAY_ID</th>\n",
              "      <th>ITEMID</th>\n",
              "      <th>CHARTTIME</th>\n",
              "      <th>STORETIME</th>\n",
              "      <th>CGID</th>\n",
              "      <th>VALUE</th>\n",
              "      <th>VALUENUM</th>\n",
              "      <th>VALUEUOM</th>\n",
              "      <th>WARNING</th>\n",
              "      <th>ERROR</th>\n",
              "      <th>RESULTSTATUS</th>\n",
              "      <th>STOPPED</th>\n",
              "      <th>INTIME</th>\n",
              "    </tr>\n",
              "  </thead>\n",
              "  <tbody>\n",
              "    <tr>\n",
              "      <th>0</th>\n",
              "      <td>5295815</td>\n",
              "      <td>40177</td>\n",
              "      <td>198480</td>\n",
              "      <td>236120.0</td>\n",
              "      <td>220045</td>\n",
              "      <td>2169-05-06 23:17:00</td>\n",
              "      <td>2169-05-06 23:44</td>\n",
              "      <td>19152</td>\n",
              "      <td>86.0</td>\n",
              "      <td>86.0</td>\n",
              "      <td>bpm</td>\n",
              "      <td>0.0</td>\n",
              "      <td>0.0</td>\n",
              "      <td>NaN</td>\n",
              "      <td>NaN</td>\n",
              "      <td>2169-05-06 23:17:00</td>\n",
              "    </tr>\n",
              "    <tr>\n",
              "      <th>1</th>\n",
              "      <td>5295816</td>\n",
              "      <td>40177</td>\n",
              "      <td>198480</td>\n",
              "      <td>236120.0</td>\n",
              "      <td>220210</td>\n",
              "      <td>2169-05-06 23:17:00</td>\n",
              "      <td>2169-05-06 23:44</td>\n",
              "      <td>19152</td>\n",
              "      <td>16.0</td>\n",
              "      <td>16.0</td>\n",
              "      <td>insp/min</td>\n",
              "      <td>0.0</td>\n",
              "      <td>0.0</td>\n",
              "      <td>NaN</td>\n",
              "      <td>NaN</td>\n",
              "      <td>2169-05-06 23:17:00</td>\n",
              "    </tr>\n",
              "    <tr>\n",
              "      <th>2</th>\n",
              "      <td>5295817</td>\n",
              "      <td>40177</td>\n",
              "      <td>198480</td>\n",
              "      <td>236120.0</td>\n",
              "      <td>220277</td>\n",
              "      <td>2169-05-06 23:19:00</td>\n",
              "      <td>2169-05-06 23:44</td>\n",
              "      <td>19152</td>\n",
              "      <td>98.0</td>\n",
              "      <td>98.0</td>\n",
              "      <td>%</td>\n",
              "      <td>0.0</td>\n",
              "      <td>0.0</td>\n",
              "      <td>NaN</td>\n",
              "      <td>NaN</td>\n",
              "      <td>2169-05-06 23:17:00</td>\n",
              "    </tr>\n",
              "    <tr>\n",
              "      <th>3</th>\n",
              "      <td>5295818</td>\n",
              "      <td>40177</td>\n",
              "      <td>198480</td>\n",
              "      <td>236120.0</td>\n",
              "      <td>220045</td>\n",
              "      <td>2169-05-06 23:43:00</td>\n",
              "      <td>2169-05-06 23:43</td>\n",
              "      <td>19152</td>\n",
              "      <td>74.0</td>\n",
              "      <td>74.0</td>\n",
              "      <td>bpm</td>\n",
              "      <td>0.0</td>\n",
              "      <td>0.0</td>\n",
              "      <td>NaN</td>\n",
              "      <td>NaN</td>\n",
              "      <td>2169-05-06 23:17:00</td>\n",
              "    </tr>\n",
              "    <tr>\n",
              "      <th>4</th>\n",
              "      <td>5295819</td>\n",
              "      <td>40177</td>\n",
              "      <td>198480</td>\n",
              "      <td>236120.0</td>\n",
              "      <td>220046</td>\n",
              "      <td>2169-05-06 23:43:00</td>\n",
              "      <td>2169-05-06 23:44</td>\n",
              "      <td>19152</td>\n",
              "      <td>120.0</td>\n",
              "      <td>120.0</td>\n",
              "      <td>bpm</td>\n",
              "      <td>0.0</td>\n",
              "      <td>0.0</td>\n",
              "      <td>NaN</td>\n",
              "      <td>NaN</td>\n",
              "      <td>2169-05-06 23:17:00</td>\n",
              "    </tr>\n",
              "    <tr>\n",
              "      <th>...</th>\n",
              "      <td>...</td>\n",
              "      <td>...</td>\n",
              "      <td>...</td>\n",
              "      <td>...</td>\n",
              "      <td>...</td>\n",
              "      <td>...</td>\n",
              "      <td>...</td>\n",
              "      <td>...</td>\n",
              "      <td>...</td>\n",
              "      <td>...</td>\n",
              "      <td>...</td>\n",
              "      <td>...</td>\n",
              "      <td>...</td>\n",
              "      <td>...</td>\n",
              "      <td>...</td>\n",
              "      <td>...</td>\n",
              "    </tr>\n",
              "    <tr>\n",
              "      <th>56516</th>\n",
              "      <td>274488892</td>\n",
              "      <td>44222</td>\n",
              "      <td>192189</td>\n",
              "      <td>238186.0</td>\n",
              "      <td>225099</td>\n",
              "      <td>2180-07-19 09:36:00</td>\n",
              "      <td>2180-07-19 9:39</td>\n",
              "      <td>15029</td>\n",
              "      <td>Intact</td>\n",
              "      <td>NaN</td>\n",
              "      <td>NaN</td>\n",
              "      <td>0.0</td>\n",
              "      <td>0.0</td>\n",
              "      <td>NaN</td>\n",
              "      <td>NaN</td>\n",
              "      <td>2180-07-19 06:56:00</td>\n",
              "    </tr>\n",
              "    <tr>\n",
              "      <th>56517</th>\n",
              "      <td>274488893</td>\n",
              "      <td>44222</td>\n",
              "      <td>192189</td>\n",
              "      <td>238186.0</td>\n",
              "      <td>225101</td>\n",
              "      <td>2180-07-19 09:36:00</td>\n",
              "      <td>2180-07-19 9:39</td>\n",
              "      <td>15029</td>\n",
              "      <td>No</td>\n",
              "      <td>NaN</td>\n",
              "      <td>NaN</td>\n",
              "      <td>0.0</td>\n",
              "      <td>0.0</td>\n",
              "      <td>NaN</td>\n",
              "      <td>NaN</td>\n",
              "      <td>2180-07-19 06:56:00</td>\n",
              "    </tr>\n",
              "    <tr>\n",
              "      <th>56518</th>\n",
              "      <td>274488894</td>\n",
              "      <td>44222</td>\n",
              "      <td>192189</td>\n",
              "      <td>238186.0</td>\n",
              "      <td>225120</td>\n",
              "      <td>2180-07-19 09:36:00</td>\n",
              "      <td>2180-07-19 9:39</td>\n",
              "      <td>15029</td>\n",
              "      <td>Good</td>\n",
              "      <td>NaN</td>\n",
              "      <td>NaN</td>\n",
              "      <td>0.0</td>\n",
              "      <td>0.0</td>\n",
              "      <td>NaN</td>\n",
              "      <td>NaN</td>\n",
              "      <td>2180-07-19 06:56:00</td>\n",
              "    </tr>\n",
              "    <tr>\n",
              "      <th>56519</th>\n",
              "      <td>274488895</td>\n",
              "      <td>44222</td>\n",
              "      <td>192189</td>\n",
              "      <td>238186.0</td>\n",
              "      <td>225131</td>\n",
              "      <td>2180-07-19 09:36:00</td>\n",
              "      <td>2180-07-19 9:39</td>\n",
              "      <td>15029</td>\n",
              "      <td>Patient</td>\n",
              "      <td>NaN</td>\n",
              "      <td>NaN</td>\n",
              "      <td>0.0</td>\n",
              "      <td>0.0</td>\n",
              "      <td>NaN</td>\n",
              "      <td>NaN</td>\n",
              "      <td>2180-07-19 06:56:00</td>\n",
              "    </tr>\n",
              "    <tr>\n",
              "      <th>56520</th>\n",
              "      <td>274488896</td>\n",
              "      <td>44222</td>\n",
              "      <td>192189</td>\n",
              "      <td>238186.0</td>\n",
              "      <td>227687</td>\n",
              "      <td>2180-07-19 09:36:00</td>\n",
              "      <td>2180-07-19 9:39</td>\n",
              "      <td>15029</td>\n",
              "      <td>Former user - stopped more than 1 year ago</td>\n",
              "      <td>NaN</td>\n",
              "      <td>NaN</td>\n",
              "      <td>0.0</td>\n",
              "      <td>0.0</td>\n",
              "      <td>NaN</td>\n",
              "      <td>NaN</td>\n",
              "      <td>2180-07-19 06:56:00</td>\n",
              "    </tr>\n",
              "  </tbody>\n",
              "</table>\n",
              "<p>7246 rows × 16 columns</p>\n",
              "</div>\n",
              "      <button class=\"colab-df-convert\" onclick=\"convertToInteractive('df-f03ead97-4a0d-4c47-a704-e78995ea9ba6')\"\n",
              "              title=\"Convert this dataframe to an interactive table.\"\n",
              "              style=\"display:none;\">\n",
              "        \n",
              "  <svg xmlns=\"http://www.w3.org/2000/svg\" height=\"24px\"viewBox=\"0 0 24 24\"\n",
              "       width=\"24px\">\n",
              "    <path d=\"M0 0h24v24H0V0z\" fill=\"none\"/>\n",
              "    <path d=\"M18.56 5.44l.94 2.06.94-2.06 2.06-.94-2.06-.94-.94-2.06-.94 2.06-2.06.94zm-11 1L8.5 8.5l.94-2.06 2.06-.94-2.06-.94L8.5 2.5l-.94 2.06-2.06.94zm10 10l.94 2.06.94-2.06 2.06-.94-2.06-.94-.94-2.06-.94 2.06-2.06.94z\"/><path d=\"M17.41 7.96l-1.37-1.37c-.4-.4-.92-.59-1.43-.59-.52 0-1.04.2-1.43.59L10.3 9.45l-7.72 7.72c-.78.78-.78 2.05 0 2.83L4 21.41c.39.39.9.59 1.41.59.51 0 1.02-.2 1.41-.59l7.78-7.78 2.81-2.81c.8-.78.8-2.07 0-2.86zM5.41 20L4 18.59l7.72-7.72 1.47 1.35L5.41 20z\"/>\n",
              "  </svg>\n",
              "      </button>\n",
              "      \n",
              "  <style>\n",
              "    .colab-df-container {\n",
              "      display:flex;\n",
              "      flex-wrap:wrap;\n",
              "      gap: 12px;\n",
              "    }\n",
              "\n",
              "    .colab-df-convert {\n",
              "      background-color: #E8F0FE;\n",
              "      border: none;\n",
              "      border-radius: 50%;\n",
              "      cursor: pointer;\n",
              "      display: none;\n",
              "      fill: #1967D2;\n",
              "      height: 32px;\n",
              "      padding: 0 0 0 0;\n",
              "      width: 32px;\n",
              "    }\n",
              "\n",
              "    .colab-df-convert:hover {\n",
              "      background-color: #E2EBFA;\n",
              "      box-shadow: 0px 1px 2px rgba(60, 64, 67, 0.3), 0px 1px 3px 1px rgba(60, 64, 67, 0.15);\n",
              "      fill: #174EA6;\n",
              "    }\n",
              "\n",
              "    [theme=dark] .colab-df-convert {\n",
              "      background-color: #3B4455;\n",
              "      fill: #D2E3FC;\n",
              "    }\n",
              "\n",
              "    [theme=dark] .colab-df-convert:hover {\n",
              "      background-color: #434B5C;\n",
              "      box-shadow: 0px 1px 3px 1px rgba(0, 0, 0, 0.15);\n",
              "      filter: drop-shadow(0px 1px 2px rgba(0, 0, 0, 0.3));\n",
              "      fill: #FFFFFF;\n",
              "    }\n",
              "  </style>\n",
              "\n",
              "      <script>\n",
              "        const buttonEl =\n",
              "          document.querySelector('#df-f03ead97-4a0d-4c47-a704-e78995ea9ba6 button.colab-df-convert');\n",
              "        buttonEl.style.display =\n",
              "          google.colab.kernel.accessAllowed ? 'block' : 'none';\n",
              "\n",
              "        async function convertToInteractive(key) {\n",
              "          const element = document.querySelector('#df-f03ead97-4a0d-4c47-a704-e78995ea9ba6');\n",
              "          const dataTable =\n",
              "            await google.colab.kernel.invokeFunction('convertToInteractive',\n",
              "                                                     [key], {});\n",
              "          if (!dataTable) return;\n",
              "\n",
              "          const docLinkHtml = 'Like what you see? Visit the ' +\n",
              "            '<a target=\"_blank\" href=https://colab.research.google.com/notebooks/data_table.ipynb>data table notebook</a>'\n",
              "            + ' to learn more about interactive tables.';\n",
              "          element.innerHTML = '';\n",
              "          dataTable['output_type'] = 'display_data';\n",
              "          await google.colab.output.renderOutput(dataTable, element);\n",
              "          const docLink = document.createElement('div');\n",
              "          docLink.innerHTML = docLinkHtml;\n",
              "          element.appendChild(docLink);\n",
              "        }\n",
              "      </script>\n",
              "    </div>\n",
              "  </div>\n",
              "  "
            ]
          },
          "metadata": {},
          "execution_count": 39
        }
      ]
    },
    {
      "cell_type": "code",
      "metadata": {
        "colab": {
          "base_uri": "https://localhost:8080/",
          "height": 255
        },
        "id": "thD3d0_ooxbu",
        "outputId": "58557c61-75dd-4bed-beac-d8848d5f7863"
      },
      "source": [
        "# ICUstay 기간 동안, 측정된 모든 측정된 이벤트를 리스트로 가져오기. 모든 이벤트는 ItemID로 mapping되어 있음.\n",
        "\n",
        "\n",
        "print('Make list for each ICUSTAY_ID')\n",
        "df_char_icu = (df_char_icu.groupby(['ICUSTAY_ID'])).agg({'ITEMID': lambda x: x.tolist()})\n",
        "df_char_icu.head()"
      ],
      "execution_count": 40,
      "outputs": [
        {
          "output_type": "stream",
          "name": "stdout",
          "text": [
            "Make list for each ICUSTAY_ID\n"
          ]
        },
        {
          "output_type": "execute_result",
          "data": {
            "text/plain": [
              "                                                       ITEMID\n",
              "ICUSTAY_ID                                                   \n",
              "201204.0    [220045, 220210, 220277, 220045, 220179, 22018...\n",
              "205589.0    [128, 211, 456, 618, 646, 677, 678, 742, 1125,...\n",
              "206504.0    [69, 762, 916, 917, 919, 920, 924, 925, 926, 9...\n",
              "210164.0    [223761, 220045, 220210, 224562, 224563, 22484...\n",
              "214180.0    [220046, 220047, 223751, 223752, 223761, 22376..."
            ],
            "text/html": [
              "\n",
              "  <div id=\"df-809ba8c9-6648-480b-a20a-6c746d5eb225\">\n",
              "    <div class=\"colab-df-container\">\n",
              "      <div>\n",
              "<style scoped>\n",
              "    .dataframe tbody tr th:only-of-type {\n",
              "        vertical-align: middle;\n",
              "    }\n",
              "\n",
              "    .dataframe tbody tr th {\n",
              "        vertical-align: top;\n",
              "    }\n",
              "\n",
              "    .dataframe thead th {\n",
              "        text-align: right;\n",
              "    }\n",
              "</style>\n",
              "<table border=\"1\" class=\"dataframe\">\n",
              "  <thead>\n",
              "    <tr style=\"text-align: right;\">\n",
              "      <th></th>\n",
              "      <th>ITEMID</th>\n",
              "    </tr>\n",
              "    <tr>\n",
              "      <th>ICUSTAY_ID</th>\n",
              "      <th></th>\n",
              "    </tr>\n",
              "  </thead>\n",
              "  <tbody>\n",
              "    <tr>\n",
              "      <th>201204.0</th>\n",
              "      <td>[220045, 220210, 220277, 220045, 220179, 22018...</td>\n",
              "    </tr>\n",
              "    <tr>\n",
              "      <th>205589.0</th>\n",
              "      <td>[128, 211, 456, 618, 646, 677, 678, 742, 1125,...</td>\n",
              "    </tr>\n",
              "    <tr>\n",
              "      <th>206504.0</th>\n",
              "      <td>[69, 762, 916, 917, 919, 920, 924, 925, 926, 9...</td>\n",
              "    </tr>\n",
              "    <tr>\n",
              "      <th>210164.0</th>\n",
              "      <td>[223761, 220045, 220210, 224562, 224563, 22484...</td>\n",
              "    </tr>\n",
              "    <tr>\n",
              "      <th>214180.0</th>\n",
              "      <td>[220046, 220047, 223751, 223752, 223761, 22376...</td>\n",
              "    </tr>\n",
              "  </tbody>\n",
              "</table>\n",
              "</div>\n",
              "      <button class=\"colab-df-convert\" onclick=\"convertToInteractive('df-809ba8c9-6648-480b-a20a-6c746d5eb225')\"\n",
              "              title=\"Convert this dataframe to an interactive table.\"\n",
              "              style=\"display:none;\">\n",
              "        \n",
              "  <svg xmlns=\"http://www.w3.org/2000/svg\" height=\"24px\"viewBox=\"0 0 24 24\"\n",
              "       width=\"24px\">\n",
              "    <path d=\"M0 0h24v24H0V0z\" fill=\"none\"/>\n",
              "    <path d=\"M18.56 5.44l.94 2.06.94-2.06 2.06-.94-2.06-.94-.94-2.06-.94 2.06-2.06.94zm-11 1L8.5 8.5l.94-2.06 2.06-.94-2.06-.94L8.5 2.5l-.94 2.06-2.06.94zm10 10l.94 2.06.94-2.06 2.06-.94-2.06-.94-.94-2.06-.94 2.06-2.06.94z\"/><path d=\"M17.41 7.96l-1.37-1.37c-.4-.4-.92-.59-1.43-.59-.52 0-1.04.2-1.43.59L10.3 9.45l-7.72 7.72c-.78.78-.78 2.05 0 2.83L4 21.41c.39.39.9.59 1.41.59.51 0 1.02-.2 1.41-.59l7.78-7.78 2.81-2.81c.8-.78.8-2.07 0-2.86zM5.41 20L4 18.59l7.72-7.72 1.47 1.35L5.41 20z\"/>\n",
              "  </svg>\n",
              "      </button>\n",
              "      \n",
              "  <style>\n",
              "    .colab-df-container {\n",
              "      display:flex;\n",
              "      flex-wrap:wrap;\n",
              "      gap: 12px;\n",
              "    }\n",
              "\n",
              "    .colab-df-convert {\n",
              "      background-color: #E8F0FE;\n",
              "      border: none;\n",
              "      border-radius: 50%;\n",
              "      cursor: pointer;\n",
              "      display: none;\n",
              "      fill: #1967D2;\n",
              "      height: 32px;\n",
              "      padding: 0 0 0 0;\n",
              "      width: 32px;\n",
              "    }\n",
              "\n",
              "    .colab-df-convert:hover {\n",
              "      background-color: #E2EBFA;\n",
              "      box-shadow: 0px 1px 2px rgba(60, 64, 67, 0.3), 0px 1px 3px 1px rgba(60, 64, 67, 0.15);\n",
              "      fill: #174EA6;\n",
              "    }\n",
              "\n",
              "    [theme=dark] .colab-df-convert {\n",
              "      background-color: #3B4455;\n",
              "      fill: #D2E3FC;\n",
              "    }\n",
              "\n",
              "    [theme=dark] .colab-df-convert:hover {\n",
              "      background-color: #434B5C;\n",
              "      box-shadow: 0px 1px 3px 1px rgba(0, 0, 0, 0.15);\n",
              "      filter: drop-shadow(0px 1px 2px rgba(0, 0, 0, 0.3));\n",
              "      fill: #FFFFFF;\n",
              "    }\n",
              "  </style>\n",
              "\n",
              "      <script>\n",
              "        const buttonEl =\n",
              "          document.querySelector('#df-809ba8c9-6648-480b-a20a-6c746d5eb225 button.colab-df-convert');\n",
              "        buttonEl.style.display =\n",
              "          google.colab.kernel.accessAllowed ? 'block' : 'none';\n",
              "\n",
              "        async function convertToInteractive(key) {\n",
              "          const element = document.querySelector('#df-809ba8c9-6648-480b-a20a-6c746d5eb225');\n",
              "          const dataTable =\n",
              "            await google.colab.kernel.invokeFunction('convertToInteractive',\n",
              "                                                     [key], {});\n",
              "          if (!dataTable) return;\n",
              "\n",
              "          const docLinkHtml = 'Like what you see? Visit the ' +\n",
              "            '<a target=\"_blank\" href=https://colab.research.google.com/notebooks/data_table.ipynb>data table notebook</a>'\n",
              "            + ' to learn more about interactive tables.';\n",
              "          element.innerHTML = '';\n",
              "          dataTable['output_type'] = 'display_data';\n",
              "          await google.colab.output.renderOutput(dataTable, element);\n",
              "          const docLink = document.createElement('div');\n",
              "          docLink.innerHTML = docLinkHtml;\n",
              "          element.appendChild(docLink);\n",
              "        }\n",
              "      </script>\n",
              "    </div>\n",
              "  </div>\n",
              "  "
            ]
          },
          "metadata": {},
          "execution_count": 40
        }
      ]
    },
    {
      "cell_type": "code",
      "metadata": {
        "id": "wH0Hga8-oxbu"
      },
      "source": [
        "max_len = 100"
      ],
      "execution_count": 41,
      "outputs": []
    },
    {
      "cell_type": "code",
      "metadata": {
        "id": "LT4Iwcosoxbu"
      },
      "source": [
        "# 최대 길이에 맞춰 0 패딩\n",
        "def padding(x):\n",
        "    pad = np.zeros(max_len-len(x))\n",
        "    x.extend(pad)\n",
        "    return x"
      ],
      "execution_count": 42,
      "outputs": []
    },
    {
      "cell_type": "code",
      "metadata": {
        "id": "1OMSQWFVoxbu"
      },
      "source": [
        "df_char_icu['ITEMID'] = df_char_icu['ITEMID'].map(lambda x: x[:max_len] if len(x) > max_len else padding(x))"
      ],
      "execution_count": 43,
      "outputs": []
    },
    {
      "cell_type": "code",
      "metadata": {
        "colab": {
          "base_uri": "https://localhost:8080/"
        },
        "id": "mrfZZbthJWAN",
        "outputId": "76c36d1a-33fc-4028-b9fd-b03cb402a606"
      },
      "source": [
        "df_char_icu['ITEMID']"
      ],
      "execution_count": 44,
      "outputs": [
        {
          "output_type": "execute_result",
          "data": {
            "text/plain": [
              "ICUSTAY_ID\n",
              "201204.0    [220045, 220210, 220277, 220045, 220179, 22018...\n",
              "205589.0    [128, 211, 456, 618, 646, 677, 678, 742, 1125,...\n",
              "206504.0    [69, 762, 916, 917, 919, 920, 924, 925, 926, 9...\n",
              "210164.0    [223761, 220045, 220210, 224562, 224563, 22484...\n",
              "214180.0    [220046, 220047, 223751, 223752, 223761, 22376...\n",
              "214861.0    [27, 31, 77, 80, 82, 83, 84, 85, 86, 87, 88, 1...\n",
              "215460.0    [128, 159, 161, 211, 212, 456, 550, 581, 618, ...\n",
              "217960.0    [69, 762, 916, 917, 919, 920, 924, 925, 926, 9...\n",
              "219013.0    [220045, 220210, 220179, 220180, 220181, 22027...\n",
              "219307.0    [220734, 227471, 220179, 220180, 220181, 22004...\n",
              "227834.0    [781, 786, 787, 788, 791, 811, 813, 814, 815, ...\n",
              "228977.0    [784, 803, 804, 836, 852, 1527, 52, 77, 82, 83...\n",
              "234424.0    [220179, 220180, 220181, 220045, 220046, 22004...\n",
              "236120.0    [220045, 220210, 220277, 220045, 220046, 22004...\n",
              "238186.0    [220210, 220045, 220045, 220210, 223834, 22017...\n",
              "238399.0    [223761, 220046, 220047, 223751, 223752, 22376...\n",
              "241562.0    [52, 211, 618, 646, 742, 52, 77, 113, 128, 159...\n",
              "241992.0    [225664, 220045, 220210, 220277, 220179, 22018...\n",
              "243123.0    [220179, 220180, 220181, 220277, 220045, 22004...\n",
              "249695.0    [113, 207, 236, 238, 284, 27, 39, 40, 50, 52, ...\n",
              "254543.0    [69, 762, 916, 917, 919, 920, 924, 925, 926, 9...\n",
              "254635.0    [226512, 220046, 220047, 223751, 223752, 22376...\n",
              "261743.0    [220045, 220277, 220210, 220046, 220047, 22375...\n",
              "265615.0    [220045, 220050, 220051, 220052, 220210, 22027...\n",
              "277238.0    [220179, 220180, 220181, 220277, 220045, 22021...\n",
              "279183.0    [220045, 220210, 220277, 220045, 220179, 22018...\n",
              "280943.0    [220045, 220210, 220179, 220180, 220181, 22027...\n",
              "283181.0    [220045, 220046, 220047, 220179, 220180, 22018...\n",
              "283875.0    [220045, 220046, 220047, 220179, 220180, 22018...\n",
              "285353.0    [224639, 227465, 227466, 227467, 225078, 22508...\n",
              "285789.0    [128, 211, 212, 456, 467, 470, 550, 637, 646, ...\n",
              "289236.0    [220179, 220180, 220181, 220045, 220210, 22027...\n",
              "290513.0    [226531, 226512, 226707, 226730, 220224, 22023...\n",
              "291067.0    [220046, 220047, 220277, 223751, 223752, 22376...\n",
              "293178.0    [220224, 220235, 223830, 224828, 225698, 22746...\n",
              "293363.0    [220277, 220179, 220180, 220181, 220045, 22004...\n",
              "293429.0    [224639, 220045, 220210, 220277, 220179, 22018...\n",
              "295741.0    [39, 40, 50, 131, 190, 218, 219, 417, 434, 444...\n",
              "296804.0    [52, 677, 678, 1125, 27, 52, 80, 130, 137, 154...\n",
              "Name: ITEMID, dtype: object"
            ]
          },
          "metadata": {},
          "execution_count": 44
        }
      ]
    },
    {
      "cell_type": "code",
      "metadata": {
        "colab": {
          "base_uri": "https://localhost:8080/",
          "height": 282
        },
        "id": "hHgJPeJuoxbu",
        "outputId": "9fdfbeb5-3971-44db-b1b6-6dd2ee902fef"
      },
      "source": [
        "#Each ICU item ID length set to 100 length including zero padding.\n",
        "df_char_icu['ITEMID'].map(len).hist()"
      ],
      "execution_count": 45,
      "outputs": [
        {
          "output_type": "execute_result",
          "data": {
            "text/plain": [
              "<matplotlib.axes._subplots.AxesSubplot at 0x7fe9b9213350>"
            ]
          },
          "metadata": {},
          "execution_count": 45
        },
        {
          "output_type": "display_data",
          "data": {
            "text/plain": [
              "<Figure size 432x288 with 1 Axes>"
            ],
            "image/png": "[encoded data removed]"
          },
          "metadata": {
            "needs_background": "light"
          }
        }
      ]
    },
    {
      "cell_type": "code",
      "metadata": {
        "id": "wFcFUCS4oxbu",
        "colab": {
          "base_uri": "https://localhost:8080/"
        },
        "outputId": "c482d421-071b-416f-c9d6-ce6c20ba9c98"
      },
      "source": [
        "# making last dataframe\n",
        "df_last = pd.merge(df_char_icu, df_icu_add[['ICUSTAY_ID','y','fold']], how='left', on='ICUSTAY_ID')\n",
        "df_last.shape"
      ],
      "execution_count": 46,
      "outputs": [
        {
          "output_type": "execute_result",
          "data": {
            "text/plain": [
              "(39, 4)"
            ]
          },
          "metadata": {},
          "execution_count": 46
        }
      ]
    },
    {
      "cell_type": "code",
      "metadata": {
        "colab": {
          "base_uri": "https://localhost:8080/",
          "height": 206
        },
        "id": "mzuQ8bXuSv4Q",
        "outputId": "6211aa84-2de8-45e6-b0e6-bcdca9ba073f"
      },
      "source": [
        "df_last.head()"
      ],
      "execution_count": 47,
      "outputs": [
        {
          "output_type": "execute_result",
          "data": {
            "text/plain": [
              "   ICUSTAY_ID                                             ITEMID    y  fold\n",
              "0    201204.0  [220045, 220210, 220277, 220045, 220179, 22018...  0.0     0\n",
              "1    205589.0  [128, 211, 456, 618, 646, 677, 678, 742, 1125,...  0.0     1\n",
              "2    206504.0  [69, 762, 916, 917, 919, 920, 924, 925, 926, 9...  0.0     0\n",
              "3    210164.0  [223761, 220045, 220210, 224562, 224563, 22484...  0.0     0\n",
              "4    214180.0  [220046, 220047, 223751, 223752, 223761, 22376...  0.0     0"
            ],
            "text/html": [
              "\n",
              "  <div id=\"df-d4974c4d-5f14-40dc-9213-d02e137be511\">\n",
              "    <div class=\"colab-df-container\">\n",
              "      <div>\n",
              "<style scoped>\n",
              "    .dataframe tbody tr th:only-of-type {\n",
              "        vertical-align: middle;\n",
              "    }\n",
              "\n",
              "    .dataframe tbody tr th {\n",
              "        vertical-align: top;\n",
              "    }\n",
              "\n",
              "    .dataframe thead th {\n",
              "        text-align: right;\n",
              "    }\n",
              "</style>\n",
              "<table border=\"1\" class=\"dataframe\">\n",
              "  <thead>\n",
              "    <tr style=\"text-align: right;\">\n",
              "      <th></th>\n",
              "      <th>ICUSTAY_ID</th>\n",
              "      <th>ITEMID</th>\n",
              "      <th>y</th>\n",
              "      <th>fold</th>\n",
              "    </tr>\n",
              "  </thead>\n",
              "  <tbody>\n",
              "    <tr>\n",
              "      <th>0</th>\n",
              "      <td>201204.0</td>\n",
              "      <td>[220045, 220210, 220277, 220045, 220179, 22018...</td>\n",
              "      <td>0.0</td>\n",
              "      <td>0</td>\n",
              "    </tr>\n",
              "    <tr>\n",
              "      <th>1</th>\n",
              "      <td>205589.0</td>\n",
              "      <td>[128, 211, 456, 618, 646, 677, 678, 742, 1125,...</td>\n",
              "      <td>0.0</td>\n",
              "      <td>1</td>\n",
              "    </tr>\n",
              "    <tr>\n",
              "      <th>2</th>\n",
              "      <td>206504.0</td>\n",
              "      <td>[69, 762, 916, 917, 919, 920, 924, 925, 926, 9...</td>\n",
              "      <td>0.0</td>\n",
              "      <td>0</td>\n",
              "    </tr>\n",
              "    <tr>\n",
              "      <th>3</th>\n",
              "      <td>210164.0</td>\n",
              "      <td>[223761, 220045, 220210, 224562, 224563, 22484...</td>\n",
              "      <td>0.0</td>\n",
              "      <td>0</td>\n",
              "    </tr>\n",
              "    <tr>\n",
              "      <th>4</th>\n",
              "      <td>214180.0</td>\n",
              "      <td>[220046, 220047, 223751, 223752, 223761, 22376...</td>\n",
              "      <td>0.0</td>\n",
              "      <td>0</td>\n",
              "    </tr>\n",
              "  </tbody>\n",
              "</table>\n",
              "</div>\n",
              "      <button class=\"colab-df-convert\" onclick=\"convertToInteractive('df-d4974c4d-5f14-40dc-9213-d02e137be511')\"\n",
              "              title=\"Convert this dataframe to an interactive table.\"\n",
              "              style=\"display:none;\">\n",
              "        \n",
              "  <svg xmlns=\"http://www.w3.org/2000/svg\" height=\"24px\"viewBox=\"0 0 24 24\"\n",
              "       width=\"24px\">\n",
              "    <path d=\"M0 0h24v24H0V0z\" fill=\"none\"/>\n",
              "    <path d=\"M18.56 5.44l.94 2.06.94-2.06 2.06-.94-2.06-.94-.94-2.06-.94 2.06-2.06.94zm-11 1L8.5 8.5l.94-2.06 2.06-.94-2.06-.94L8.5 2.5l-.94 2.06-2.06.94zm10 10l.94 2.06.94-2.06 2.06-.94-2.06-.94-.94-2.06-.94 2.06-2.06.94z\"/><path d=\"M17.41 7.96l-1.37-1.37c-.4-.4-.92-.59-1.43-.59-.52 0-1.04.2-1.43.59L10.3 9.45l-7.72 7.72c-.78.78-.78 2.05 0 2.83L4 21.41c.39.39.9.59 1.41.59.51 0 1.02-.2 1.41-.59l7.78-7.78 2.81-2.81c.8-.78.8-2.07 0-2.86zM5.41 20L4 18.59l7.72-7.72 1.47 1.35L5.41 20z\"/>\n",
              "  </svg>\n",
              "      </button>\n",
              "      \n",
              "  <style>\n",
              "    .colab-df-container {\n",
              "      display:flex;\n",
              "      flex-wrap:wrap;\n",
              "      gap: 12px;\n",
              "    }\n",
              "\n",
              "    .colab-df-convert {\n",
              "      background-color: #E8F0FE;\n",
              "      border: none;\n",
              "      border-radius: 50%;\n",
              "      cursor: pointer;\n",
              "      display: none;\n",
              "      fill: #1967D2;\n",
              "      height: 32px;\n",
              "      padding: 0 0 0 0;\n",
              "      width: 32px;\n",
              "    }\n",
              "\n",
              "    .colab-df-convert:hover {\n",
              "      background-color: #E2EBFA;\n",
              "      box-shadow: 0px 1px 2px rgba(60, 64, 67, 0.3), 0px 1px 3px 1px rgba(60, 64, 67, 0.15);\n",
              "      fill: #174EA6;\n",
              "    }\n",
              "\n",
              "    [theme=dark] .colab-df-convert {\n",
              "      background-color: #3B4455;\n",
              "      fill: #D2E3FC;\n",
              "    }\n",
              "\n",
              "    [theme=dark] .colab-df-convert:hover {\n",
              "      background-color: #434B5C;\n",
              "      box-shadow: 0px 1px 3px 1px rgba(0, 0, 0, 0.15);\n",
              "      filter: drop-shadow(0px 1px 2px rgba(0, 0, 0, 0.3));\n",
              "      fill: #FFFFFF;\n",
              "    }\n",
              "  </style>\n",
              "\n",
              "      <script>\n",
              "        const buttonEl =\n",
              "          document.querySelector('#df-d4974c4d-5f14-40dc-9213-d02e137be511 button.colab-df-convert');\n",
              "        buttonEl.style.display =\n",
              "          google.colab.kernel.accessAllowed ? 'block' : 'none';\n",
              "\n",
              "        async function convertToInteractive(key) {\n",
              "          const element = document.querySelector('#df-d4974c4d-5f14-40dc-9213-d02e137be511');\n",
              "          const dataTable =\n",
              "            await google.colab.kernel.invokeFunction('convertToInteractive',\n",
              "                                                     [key], {});\n",
              "          if (!dataTable) return;\n",
              "\n",
              "          const docLinkHtml = 'Like what you see? Visit the ' +\n",
              "            '<a target=\"_blank\" href=https://colab.research.google.com/notebooks/data_table.ipynb>data table notebook</a>'\n",
              "            + ' to learn more about interactive tables.';\n",
              "          element.innerHTML = '';\n",
              "          dataTable['output_type'] = 'display_data';\n",
              "          await google.colab.output.renderOutput(dataTable, element);\n",
              "          const docLink = document.createElement('div');\n",
              "          docLink.innerHTML = docLinkHtml;\n",
              "          element.appendChild(docLink);\n",
              "        }\n",
              "      </script>\n",
              "    </div>\n",
              "  </div>\n",
              "  "
            ]
          },
          "metadata": {},
          "execution_count": 47
        }
      ]
    },
    {
      "cell_type": "code",
      "metadata": {
        "colab": {
          "base_uri": "https://localhost:8080/"
        },
        "id": "tYY7UAiQS-rw",
        "outputId": "3d1f5ef3-8d45-4940-a0ed-662a11d36807"
      },
      "source": [
        "a = [items for items in df_last['ITEMID']]\n",
        "print(a[0])\n",
        "print(a[5])\n",
        "print(a[7])"
      ],
      "execution_count": 48,
      "outputs": [
        {
          "output_type": "stream",
          "name": "stdout",
          "text": [
            "[220045, 220210, 220277, 220045, 220179, 220180, 220181, 220210, 220277, 223834, 220046, 220047, 223751, 223752, 223769, 223770, 224161, 224162, 226253, 226531, 220274, 223679, 225667, 225668, 226062, 226063, 220045, 220179, 220180, 220181, 220210, 220277, 220045, 220179, 220180, 220181, 220210, 220277, 220045, 220179, 220180, 220181, 220210, 220277, 220734, 227471, 226531, 226512, 226707, 226730, 226113, 227293, 225185, 225187, 224168, 224641, 226113, 227293, 226113, 224564, 225187, 224080, 224082, 224084, 224085, 224086, 224093, 224281, 226381, 226543, 226544, 227378, 220048, 220739, 223753, 223754, 223898, 223900, 223901, 223902, 223903, 223907, 223910, 223911, 223916, 223917, 223918, 223919, 223920, 223934, 223935, 223936, 223938, 223939, 223943, 223944, 223947, 223948, 223949, 223951]\n",
            "[27, 31, 77, 80, 82, 83, 84, 85, 86, 87, 88, 128, 159, 161, 184, 198, 210, 211, 212, 324, 325, 425, 428, 432, 454, 456, 478, 479, 547, 593, 599, 617, 618, 644, 646, 674, 677, 678, 704, 707, 723, 742, 69, 762, 916, 917, 919, 920, 924, 925, 926, 927, 930, 935, 128, 159, 161, 211, 212, 456, 618, 646, 674, 677, 678, 742, 128, 159, 161, 211, 212, 324, 325, 326, 456, 582, 618, 646, 674, 677, 678, 742, 294, 297, 455, 455, 294, 297, 300, 455, 8400, 8401, 8441, 8441, 8400, 8401, 8402, 8441, 0.0, 0.0]\n",
            "[69, 762, 916, 917, 919, 920, 924, 925, 926, 927, 930, 935, 52, 159, 161, 211, 212, 581, 618, 646, 742, 1125, 52, 159, 161, 211, 212, 581, 618, 646, 742, 1125, 52, 159, 161, 211, 212, 581, 604, 618, 646, 742, 1125, 52, 161, 211, 212, 581, 618, 646, 742, 1125, 51, 5813, 5815, 5819, 5820, 51, 5813, 5815, 5819, 5820, 51, 5813, 5815, 5819, 5820, 51, 5813, 5815, 5819, 5820, 8368, 8547, 8549, 8553, 8554, 8368, 8547, 8549, 8553, 8554, 8368, 8547, 8549, 8553, 8554, 8368, 8547, 8549, 8553, 8554, 0.0, 0.0, 0.0, 0.0, 0.0, 0.0, 0.0, 0.0]\n"
          ]
        }
      ]
    },
    {
      "cell_type": "code",
      "metadata": {
        "colab": {
          "base_uri": "https://localhost:8080/"
        },
        "id": "XkXB-PWMSZIS",
        "outputId": "230e8f30-54d1-40a2-a5ed-f20dd28a5855"
      },
      "source": [
        "# unique vocab generation!\n",
        "\n",
        "codes_unique = [item for items in df_last['ITEMID'] for item in items]\n",
        "print(codes_unique)\n",
        "print(len(codes_unique))\n",
        "print(len(set(codes_unique)))"
      ],
      "execution_count": 49,
      "outputs": [
        {
          "output_type": "stream",
          "name": "stdout",
          "text": [
            "[220045, 220210, 220277, 220045, 220179, 220180, 220181, 220210, 220277, 223834, 220046, 220047, 223751, 223752, 223769, 223770, 224161, 224162, 226253, 226531, 220274, 223679, 225667, 225668, 226062, 226063, 220045, 220179, 220180, 220181, 220210, 220277, 220045, 220179, 220180, 220181, 220210, 220277, 220045, 220179, 220180, 220181, 220210, 220277, 220734, 227471, 226531, 226512, 226707, 226730, 226113, 227293, 225185, 225187, 224168, 224641, 226113, 227293, 226113, 224564, 225187, 224080, 224082, 224084, 224085, 224086, 224093, 224281, 226381, 226543, 226544, 227378, 220048, 220739, 223753, 223754, 223898, 223900, 223901, 223902, 223903, 223907, 223910, 223911, 223916, 223917, 223918, 223919, 223920, 223934, 223935, 223936, 223938, 223939, 223943, 223944, 223947, 223948, 223949, 223951, 128, 211, 456, 618, 646, 677, 678, 742, 1125, 1484, 127, 128, 154, 159, 161, 184, 198, 207, 210, 211, 212, 324, 325, 432, 454, 456, 468, 471, 479, 525, 548, 605, 610, 617, 618, 621, 622, 623, 637, 644, 646, 677, 678, 704, 707, 723, 742, 807, 1043, 1046, 1047, 1125, 1337, 1425, 1484, 128, 159, 161, 211, 212, 456, 618, 646, 742, 1125, 1484, 813, 815, 824, 825, 1286, 1530, 1533, 127, 128, 159, 161, 211, 212, 230, 232, 283, 324, 325, 374, 456, 548, 605, 610, 618, 621, 622, 623, 637, 644, 646, 674, 677, 678, 742, 69, 762, 916, 917, 919, 920, 924, 925, 926, 927, 930, 935, 467, 1125, 159, 161, 211, 212, 456, 525, 618, 646, 674, 677, 678, 742, 1046, 1337, 1425, 1622, 1623, 27, 31, 32, 54, 77, 80, 82, 83, 84, 85, 86, 87, 88, 128, 161, 184, 187, 198, 210, 211, 212, 324, 425, 428, 432, 454, 456, 478, 479, 547, 550, 593, 599, 617, 618, 621, 637, 644, 646, 663, 680, 704, 707, 723, 742, 1046, 1087, 1125, 1337, 1703, 128, 159, 161, 211, 212, 456, 467, 550, 618, 646, 742, 807, 1125, 1337, 1703, 455, 5815, 5817, 5819, 223761, 220045, 220210, 224562, 224563, 224846, 220277, 220179, 220180, 220181, 220046, 220047, 223751, 223752, 223769, 223770, 224161, 224162, 226253, 220228, 220545, 220546, 220581, 220587, 220602, 220615, 220621, 220632, 220635, 220644, 220645, 225612, 225624, 225625, 225634, 225639, 225640, 225641, 225642, 225643, 225651, 225677, 225690, 227073, 227442, 227443, 227456, 227457, 227465, 227466, 227467, 220045, 220179, 220180, 220181, 220210, 220277, 223763, 226531, 226512, 220045, 220179, 220180, 220181, 220210, 220277, 224564, 225185, 225187, 226138, 226139, 227349, 227368, 227369, 224168, 224641, 226381, 226543, 226544, 227378, 220048, 223934, 223935, 223943, 223947, 224642, 224650, 224651, 223753, 223780, 223781, 223782, 223783, 223784, 223791, 223795, 223985, 223986, 223987, 223988, 220046, 220047, 223751, 223752, 223761, 223769, 223770, 224161, 224162, 226253, 220045, 220210, 220277, 220179, 220180, 220181, 220045, 220179, 220180, 220181, 220277, 223834, 226531, 224168, 224641, 226137, 226138, 227367, 227368, 226381, 226543, 226544, 227378, 224642, 227240, 220048, 224650, 224651, 220048, 220739, 223753, 223754, 223780, 223781, 223782, 223783, 223784, 223791, 223792, 223794, 223795, 223898, 223900, 223901, 223902, 223903, 223904, 223905, 223907, 223910, 223911, 223916, 223985, 223986, 223987, 223988, 223989, 223990, 223991, 223992, 223999, 224003, 224004, 224005, 224015, 224080, 224082, 224084, 224085, 224086, 224093, 224409, 224650, 224651, 224730, 224731, 224733, 224756, 225231, 225234, 226104, 226105, 226105, 226105, 226732, 227121, 227288, 227341, 227342, 227343, 27, 31, 77, 80, 82, 83, 84, 85, 86, 87, 88, 128, 159, 161, 184, 198, 210, 211, 212, 324, 325, 425, 428, 432, 454, 456, 478, 479, 547, 593, 599, 617, 618, 644, 646, 674, 677, 678, 704, 707, 723, 742, 69, 762, 916, 917, 919, 920, 924, 925, 926, 927, 930, 935, 128, 159, 161, 211, 212, 456, 618, 646, 674, 677, 678, 742, 128, 159, 161, 211, 212, 324, 325, 326, 456, 582, 618, 646, 674, 677, 678, 742, 294, 297, 455, 455, 294, 297, 300, 455, 8400, 8401, 8441, 8441, 8400, 8401, 8402, 8441, 0.0, 0.0, 128, 159, 161, 211, 212, 456, 550, 581, 618, 646, 742, 1125, 1484, 128, 159, 161, 211, 212, 456, 550, 581, 618, 646, 674, 677, 678, 742, 1125, 1484, 783, 582, 128, 159, 161, 211, 212, 456, 550, 581, 618, 646, 674, 677, 678, 742, 1125, 1484, 128, 159, 161, 211, 212, 456, 550, 581, 618, 646, 674, 677, 678, 742, 1125, 1484, 455, 5815, 5817, 5819, 5820, 455, 5815, 5817, 5819, 5820, 455, 5815, 5817, 5819, 5820, 455, 5815, 5817, 5819, 5820, 8441, 8549, 8551, 8553, 8554, 8441, 8549, 8551, 8553, 8554, 8441, 8549, 8551, 8553, 8554, 8441, 8549, 69, 762, 916, 917, 919, 920, 924, 925, 926, 927, 930, 935, 52, 159, 161, 211, 212, 581, 618, 646, 742, 1125, 52, 159, 161, 211, 212, 581, 618, 646, 742, 1125, 52, 159, 161, 211, 212, 581, 604, 618, 646, 742, 1125, 52, 161, 211, 212, 581, 618, 646, 742, 1125, 51, 5813, 5815, 5819, 5820, 51, 5813, 5815, 5819, 5820, 51, 5813, 5815, 5819, 5820, 51, 5813, 5815, 5819, 5820, 8368, 8547, 8549, 8553, 8554, 8368, 8547, 8549, 8553, 8554, 8368, 8547, 8549, 8553, 8554, 8368, 8547, 8549, 8553, 8554, 0.0, 0.0, 0.0, 0.0, 0.0, 0.0, 0.0, 0.0, 220045, 220210, 220179, 220180, 220181, 220277, 220046, 220047, 223751, 223752, 223769, 223770, 224161, 224162, 226253, 220045, 220210, 220277, 223761, 226512, 220045, 220179, 220180, 220181, 220210, 220277, 220602, 220615, 220621, 220635, 220645, 225624, 225625, 225677, 225684, 227073, 227442, 227443, 220045, 220179, 220180, 220181, 220210, 220277, 220045, 220179, 220180, 220181, 220210, 220277, 224168, 224641, 227349, 225185, 225187, 227367, 226138, 227368, 226137, 227367, 225067, 225074, 225076, 225078, 225082, 225085, 225087, 225092, 225094, 225103, 225106, 225110, 225113, 225118, 225122, 225124, 225126, 225175, 226180, 227688, 225067, 225074, 225076, 225078, 225082, 225085, 225087, 225092, 225094, 225103, 225106, 225110, 225113, 225118, 225122, 225124, 225126, 225175, 226180, 227688, 220734, 227471, 220179, 220180, 220181, 220046, 220047, 223751, 223752, 223769, 223770, 224161, 224162, 226253, 226707, 226730, 220045, 220210, 226531, 220277, 226512, 223834, 220045, 220210, 220277, 223761, 220045, 220179, 220180, 220181, 220210, 220277, 225067, 225074, 225076, 225078, 225092, 225094, 225103, 225118, 225122, 225124, 225126, 226179, 226180, 227688, 224168, 224641, 226137, 227367, 226138, 227368, 225184, 225185, 225187, 226381, 226543, 226544, 227378, 225059, 225059, 225072, 225097, 225099, 225101, 225120, 223753, 223780, 223781, 223782, 223783, 224072, 224073, 224075, 224076, 224077, 224079, 227375, 227240, 223758, 224640, 227088, 223758, 224640, 225234, 225231, 220739, 223898, 223900, 223901, 223902, 223904, 223905, 223907, 223911, 223916, 223917, 223918, 223919, 223920, 781, 786, 787, 788, 791, 811, 813, 814, 815, 821, 824, 825, 827, 828, 829, 833, 837, 861, 1127, 1162, 1286, 1522, 1523, 1525, 1529, 1530, 1532, 1533, 1534, 1535, 1536, 1542, 818, 1531, 128, 211, 212, 456, 467, 470, 550, 618, 646, 674, 677, 678, 763, 1337, 1484, 1622, 1623, 69, 762, 916, 917, 919, 920, 924, 925, 926, 927, 930, 935, 27, 77, 80, 82, 83, 84, 85, 86, 87, 88, 127, 154, 184, 187, 198, 425, 428, 432, 454, 478, 479, 548, 593, 599, 605, 610, 617, 621, 622, 623, 637, 644, 663, 707, 723, 1043, 1047, 784, 803, 804, 836, 852, 1527, 52, 77, 82, 83, 84, 85, 86, 87, 88, 128, 159, 161, 187, 211, 212, 230, 232, 238, 244, 283, 324, 325, 550, 581, 604, 618, 637, 644, 646, 663, 742, 1125, 1703, 506, 619, 686, 52, 128, 211, 456, 550, 581, 618, 646, 674, 677, 678, 742, 1125, 1703, 52, 128, 159, 161, 211, 212, 456, 550, 581, 618, 646, 674, 677, 678, 742, 783, 1125, 1703, 776, 777, 778, 779, 780, 811, 1126, 1529, 52, 128, 211, 456, 550, 581, 618, 646, 674, 677, 678, 742, 1125, 1703, 52, 128, 211, 456, 220179, 220180, 220181, 220045, 220046, 220047, 220210, 220277, 223751, 223752, 223769, 223770, 224161, 224162, 220045, 220179, 220180, 220181, 220210, 220277, 223761, 220045, 220179, 220180, 220181, 220210, 220277, 226707, 226730, 220045, 220210, 220277, 225664, 220179, 220180, 220181, 220045, 220179, 220180, 220181, 220210, 220277, 224168, 224641, 225188, 225189, 225074, 225076, 225078, 225087, 225092, 225094, 225103, 225118, 225124, 226180, 225188, 225074, 225076, 225078, 225087, 225092, 225094, 225103, 225118, 225124, 226180, 226381, 226543, 227378, 220048, 224650, 224651, 220739, 223753, 223754, 223898, 223900, 223901, 223902, 223903, 223905, 223910, 223911, 223916, 224756, 226104, 226105, 223934, 223935, 223936, 223943, 223947, 223948, 223985, 223986, 223987, 223988, 223989, 223990, 220045, 220210, 220277, 220045, 220046, 220047, 220179, 220180, 220181, 220210, 220277, 223751, 223752, 223761, 223769, 223770, 224161, 224162, 226253, 220228, 220545, 220546, 220587, 220602, 220615, 220621, 220635, 220644, 220645, 225612, 225624, 225625, 225634, 225651, 225677, 225690, 227073, 227429, 227442, 227443, 227445, 227456, 227457, 227465, 227466, 227467, 220045, 220179, 220180, 220181, 220210, 220277, 223834, 220045, 220179, 220180, 220181, 220210, 220277, 220045, 220179, 220180, 220181, 220210, 220277, 224168, 224641, 225184, 225185, 225187, 225313, 226137, 226138, 227349, 227367, 227368, 226381, 226543, 226544, 227378, 220048, 224642, 224650, 227240, 220048, 220739, 223753, 223754, 223780, 223781, 223782, 223783, 223784, 223792, 223794, 223795, 223898, 223900, 223901, 223902, 220210, 220045, 220045, 220210, 223834, 220179, 220180, 220181, 220277, 220045, 220179, 220180, 220181, 220210, 220277, 223761, 220046, 220047, 223751, 223752, 223769, 223770, 224161, 224162, 226253, 226512, 226531, 226707, 226730, 220045, 220179, 220180, 220181, 220210, 220277, 225664, 220045, 220179, 220180, 220181, 220210, 220277, 226138, 227368, 224168, 224641, 226137, 227367, 224168, 224641, 225185, 225187, 227349, 225092, 225094, 225103, 225106, 225110, 225113, 225118, 225122, 225124, 225126, 225133, 227688, 226381, 226543, 226544, 227378, 224640, 220048, 220048, 220739, 223753, 223754, 223898, 223900, 223901, 223902, 223903, 223904, 223905, 223910, 223911, 223916, 224756, 225231, 226104, 226105, 226732, 223753, 223780, 223781, 223795, 223796, 227375, 220048, 224080, 224082, 224082, 223761, 220046, 220047, 223751, 223752, 223769, 223770, 224161, 224162, 226253, 220045, 220210, 220277, 220045, 220179, 220180, 220181, 220210, 220045, 220210, 220277, 220045, 220210, 220277, 220045, 220277, 220179, 220180, 220181, 220210, 220045, 220210, 220045, 220210, 220277, 220179, 220180, 220181, 220045, 220210, 220277, 223761, 220045, 220179, 220180, 220181, 220210, 220277, 223834, 220045, 220179, 220180, 220181, 220210, 220277, 220224, 220235, 223830, 224828, 225668, 225698, 220045, 220210, 220277, 220179, 220180, 220181, 220045, 220179, 220180, 220181, 220210, 220277, 220045, 220179, 220180, 220181, 220210, 220277, 226512, 226531, 220045, 220179, 220180, 220181, 220210, 220277, 220045, 220179, 220180, 220181, 220210, 220277, 224168, 224641, 226137, 226138, 227367, 227368, 227688, 52, 211, 618, 646, 742, 52, 77, 113, 128, 159, 161, 211, 212, 411, 412, 493, 496, 498, 499, 550, 617, 618, 621, 646, 663, 707, 742, 52, 159, 161, 211, 212, 618, 646, 742, 52, 113, 128, 159, 161, 211, 212, 550, 618, 646, 742, 27, 31, 32, 52, 54, 77, 80, 113, 128, 159, 161, 184, 187, 198, 210, 211, 212, 232, 238, 283, 284, 324, 411, 412, 425, 428, 432, 454, 467, 470, 478, 479, 493, 496, 498, 499, 547, 550, 593, 599, 617, 618, 621, 646, 663, 674, 677, 678, 704, 707, 723, 742, 51, 51, 225664, 220045, 220210, 220277, 220179, 220180, 220181, 220046, 220047, 223751, 223752, 223769, 223770, 224161, 224162, 226253, 223761, 226512, 220045, 220179, 220180, 220181, 220210, 220277, 225664, 224168, 224641, 227349, 226137, 226137, 227367, 225067, 225074, 225076, 225078, 225087, 225092, 225094, 225103, 225113, 226180, 227688, 225067, 225074, 225076, 225078, 225087, 225092, 225094, 225103, 225113, 225118, 225122, 225124, 225126, 226180, 227688, 225067, 225074, 225076, 225078, 225087, 225092, 225094, 225103, 225113, 225118, 225122, 225124, 225126, 226180, 227688, 225067, 225074, 225076, 225078, 225087, 225092, 225094, 225103, 225113, 225118, 225122, 225124, 225126, 226180, 227688, 226381, 226543, 226544, 227378, 227240, 223753, 223781, 223795, 224642, 220739, 223753, 223754, 223898, 220179, 220180, 220181, 220277, 220045, 220046, 220047, 220210, 220277, 223751, 223752, 223761, 223769, 223770, 224161, 224162, 226253, 220045, 220210, 220045, 220179, 220180, 220181, 220210, 220277, 226512, 220545, 224168, 224641, 225074, 225076, 225078, 225087, 225092, 225094, 225103, 225106, 225110, 225118, 225122, 226180, 225074, 225076, 225078, 225087, 225092, 225094, 225103, 225106, 225110, 225118, 225122, 226180, 225074, 225076, 225078, 225087, 225092, 225094, 225103, 225106, 225110, 225118, 225122, 226180, 226137, 227367, 225067, 225074, 225076, 225078, 225087, 225092, 225094, 225103, 225106, 225110, 225118, 225122, 226180, 226381, 226543, 226544, 227378, 224015, 220048, 220739, 223753, 223754, 223780, 223781, 223782, 223783, 223784, 223791, 223792, 223794, 223795, 223796, 223898, 113, 207, 236, 238, 284, 27, 39, 40, 50, 52, 77, 80, 127, 128, 130, 131, 136, 137, 154, 159, 161, 184, 190, 197, 198, 202, 208, 211, 212, 218, 219, 338, 344, 356, 362, 374, 417, 423, 425, 426, 428, 432, 434, 444, 450, 454, 456, 478, 479, 506, 535, 548, 550, 590, 593, 596, 599, 605, 614, 615, 616, 617, 618, 619, 621, 622, 623, 631, 637, 643, 644, 646, 648, 655, 674, 676, 677, 678, 682, 683, 707, 720, 722, 723, 732, 763, 1125, 1337, 1484, 1517, 1622, 1623, 6206, 6207, 6208, 235, 51, 157, 200, 203, 69, 762, 916, 917, 919, 920, 924, 925, 926, 927, 930, 935, 27, 31, 32, 54, 77, 80, 82, 83, 84, 85, 86, 87, 88, 128, 139, 154, 159, 161, 165, 166, 167, 168, 169, 170, 171, 184, 210, 211, 212, 324, 425, 428, 432, 454, 456, 466, 467, 477, 478, 479, 547, 550, 582, 593, 599, 617, 618, 621, 637, 642, 644, 646, 663, 674, 677, 678, 680, 704, 707, 742, 1046, 1087, 1089, 1125, 1337, 1425, 1484, 1622, 1623, 1703, 77, 128, 159, 161, 187, 211, 212, 456, 550, 618, 637, 646, 663, 742, 1125, 1337, 1484, 1703, 226512, 220046, 220047, 223751, 223752, 223769, 223770, 224161, 224162, 220045, 220210, 220210, 220277, 223761, 220179, 220180, 220181, 226531, 220045, 220179, 220180, 220181, 220210, 220277, 220045, 220179, 220180, 220181, 220210, 220277, 220045, 220046, 220047, 220179, 220180, 220181, 220210, 220277, 223751, 223752, 223761, 223769, 223770, 224161, 224162, 226253, 226138, 227368, 224168, 224641, 224168, 224641, 226138, 227368, 226381, 226543, 226544, 227378, 225231, 227240, 220048, 223934, 223943, 224642, 224040, 224041, 224848, 227472, 224993, 225004, 225013, 227473, 224994, 225005, 227474, 223753, 223781, 223795, 223758, 223760, 224640, 227088, 220048, 220048, 220048, 220739, 223753, 223754, 223780, 223781, 223782, 223783, 223791, 223794, 223795, 223898, 223900, 223901, 223902, 223903, 220045, 220277, 220210, 220046, 220047, 223751, 223752, 223769, 223770, 224161, 224162, 226253, 220045, 220179, 220180, 220181, 220210, 220277, 223761, 220045, 220179, 220180, 220181, 220210, 220277, 220228, 220545, 220546, 220602, 220615, 220621, 220635, 220645, 220734, 225624, 225625, 225638, 225639, 225640, 225641, 225642, 225643, 225677, 227073, 227442, 227443, 227457, 227465, 227466, 227467, 227471, 220045, 220179, 220180, 220181, 220210, 220277, 220045, 220179, 220180, 220181, 220210, 220277, 224168, 224641, 226137, 227367, 226109, 227350, 226381, 226543, 227378, 227240, 220048, 224642, 224650, 226381, 226543, 227378, 223753, 223780, 223781, 223782, 223782, 223783, 223784, 223791, 223794, 223795, 226381, 226543, 227375, 227378, 220739, 223753, 223754, 223898, 223900, 223901, 223902, 220045, 220050, 220051, 220052, 220210, 220277, 223761, 220046, 220047, 220056, 220058, 223769, 223770, 224161, 224162, 226253, 220045, 220050, 220051, 220052, 220210, 220277, 223875, 224701, 220339, 223835, 224686, 224687, 224689, 224697, 220045, 220050, 220051, 220052, 220210, 220277, 220050, 220051, 220052, 220210, 220045, 220050, 220051, 220052, 220210, 220277, 220050, 220051, 220052, 220210, 224366, 224411, 220045, 220050, 220051, 220052, 220210, 220277, 223835, 224366, 224411, 227688, 224168, 224641, 225184, 225185, 225187, 225188, 225210, 226107, 226136, 226138, 227292, 227366, 227368, 224168, 224641, 225185, 225187, 225188, 226381, 226543, 226544, 227378, 225059, 225811, 220048, 224642, 224650, 227239, 220048, 223781, 223794, 223795, 223800, 223848, 223985, 223986, 223987, 223988, 220179, 220180, 220181, 220277, 220045, 220210, 220045, 220046, 220047, 220210, 220277, 223751, 223752, 223761, 223769, 223770, 224161, 224162, 226253, 226531, 226512, 224168, 224641, 226136, 226137, 227366, 227367, 224564, 224923, 225067, 225074, 225076, 225078, 225087, 225092, 225094, 225103, 225106, 225110, 225175, 226180, 227688, 226543, 226544, 227378, 226381, 226543, 226544, 227378, 226381, 226543, 226544, 227378, 226381, 226543, 226544, 227378, 223753, 223780, 223781, 223782, 223783, 223794, 223795, 227375, 220048, 224642, 224650, 226732, 227240, 220739, 223753, 223754, 223898, 223900, 223901, 223902, 223903, 223910, 223911, 223916, 223934, 223935, 223943, 223947, 224756, 226104, 226105, 223985, 223986, 223987, 223988, 223989, 223990, 224640, 227088, 225234, 225237, 224032, 224037, 220045, 220210, 220277, 220045, 220179, 220180, 220181, 220210, 220277, 226512, 226531, 226707, 226730, 220045, 220046, 220047, 220056, 220058, 220277, 223751, 223752, 223761, 220224, 220235, 223830, 224828, 225668, 225698, 224639, 223834, 223835, 220045, 220179, 220180, 220181, 220210, 220277, 220045, 220179, 220180, 220181, 220210, 220277, 220292, 220293, 220339, 223835, 223873, 223874, 223875, 223876, 224686, 224687, 224690, 224695, 224697, 224701, 226531, 220224, 220227, 220235, 223830, 224828, 225698, 220045, 220179, 220180, 220181, 220210, 220277, 224168, 224641, 226139, 227369, 225067, 225175, 227688, 225067, 225175, 227688, 224168, 224641, 226381, 226543, 226544, 227378, 224650, 223758, 224640, 220048, 224642, 227088, 227239, 227240, 223753, 223795, 220739, 223753, 223754, 223898, 220045, 220210, 220179, 220180, 220181, 220277, 220045, 220046, 220047, 220179, 220180, 220181, 220210, 220277, 223751, 223752, 223761, 223769, 223770, 224161, 224162, 226531, 220045, 220179, 220180, 220181, 220210, 220277, 224168, 224641, 228305, 226137, 227367, 228099, 226137, 226138, 227367, 227368, 228099, 228100, 226381, 226543, 226544, 227378, 223783, 223784, 223791, 223792, 223794, 223795, 223796, 224080, 224082, 224084, 224086, 224093, 224409, 227341, 227342, 227343, 227344, 227345, 227346, 228306, 220048, 224642, 224650, 227240, 220739, 223898, 223900, 223901, 223902, 223904, 223905, 223911, 223916, 223917, 223918, 223919, 223920, 224756, 226104, 223934, 223935, 223936, 223943, 223947, 223948, 223976, 223979, 223982, 223983, 224767, 224769, 224771, 224773, 223985, 223986, 223987, 220045, 220046, 220047, 220179, 220180, 220181, 220210, 220277, 223751, 223752, 223769, 223770, 224161, 224162, 226253, 224639, 220224, 220235, 223830, 224828, 225668, 225698, 226531, 220045, 220181, 220210, 220277, 223835, 220228, 220545, 220546, 220587, 220602, 220615, 220621, 220632, 220635, 220644, 220645, 225612, 225624, 225625, 225634, 225639, 225640, 225641, 225642, 225643, 225677, 225690, 227073, 227429, 227442, 227443, 227457, 227465, 227466, 227467, 220179, 220180, 220045, 220179, 220180, 220181, 220210, 220277, 220045, 220179, 220180, 220181, 220210, 220277, 223761, 224168, 224641, 225280, 220048, 224650, 224651, 226381, 226543, 226544, 227240, 227378, 224080, 224082, 224084, 224085, 224086, 223985, 223986, 223987, 223988, 223989, 223990, 226381, 226543, 226544, 227378, 226381, 220045, 220046, 220047, 220179, 220180, 220181, 220210, 220277, 223751, 223752, 223761, 223769, 223770, 224161, 224162, 226253, 226512, 223834, 227287, 224562, 224563, 224846, 224895, 224916, 224951, 224896, 224917, 224952, 220045, 220179, 220180, 220181, 220210, 220277, 223834, 224168, 224641, 226137, 226138, 227367, 227368, 227349, 224564, 225185, 225187, 224923, 224924, 225192, 226543, 226544, 227378, 226543, 226544, 227378, 226543, 226544, 227378, 220048, 224642, 224650, 225231, 225234, 227240, 226543, 226544, 227378, 223753, 223780, 223781, 223782, 223783, 223784, 223791, 223792, 223792, 223794, 223795, 224409, 227375, 226732, 220739, 223898, 223900, 223901, 223902, 223907, 223911, 223916, 223917, 223918, 223919, 223920, 224733, 224756, 226104, 227121, 227288, 227988, 223934, 223935, 224639, 227465, 227466, 227467, 225078, 225086, 225092, 225103, 225118, 225122, 225126, 227688, 228236, 226381, 226543, 226544, 227378, 225072, 225097, 225099, 225811, 226381, 226543, 226544, 226381, 226543, 226544, 227378, 0.0, 0.0, 0.0, 0.0, 0.0, 0.0, 0.0, 0.0, 0.0, 0.0, 0.0, 0.0, 0.0, 0.0, 0.0, 0.0, 0.0, 0.0, 0.0, 0.0, 0.0, 0.0, 0.0, 0.0, 0.0, 0.0, 0.0, 0.0, 0.0, 0.0, 0.0, 0.0, 0.0, 0.0, 0.0, 0.0, 0.0, 0.0, 0.0, 0.0, 0.0, 0.0, 0.0, 0.0, 0.0, 0.0, 0.0, 0.0, 0.0, 0.0, 0.0, 0.0, 0.0, 0.0, 0.0, 0.0, 0.0, 0.0, 0.0, 0.0, 0.0, 0.0, 0.0, 0.0, 0.0, 0.0, 0.0, 0.0, 0.0, 0.0, 0.0, 0.0, 128, 211, 212, 456, 467, 470, 550, 637, 646, 674, 677, 678, 742, 1125, 1484, 1622, 1623, 467, 470, 31, 32, 54, 128, 210, 211, 212, 456, 467, 470, 547, 550, 646, 680, 704, 742, 1125, 1484, 128, 211, 456, 467, 470, 550, 646, 742, 1125, 1484, 128, 211, 456, 467, 470, 550, 646, 742, 1125, 1484, 128, 184, 198, 211, 212, 236, 238, 284, 432, 454, 456, 467, 470, 479, 550, 582, 617, 646, 707, 723, 742, 1125, 1484, 1622, 1623, 128, 211, 456, 467, 470, 550, 646, 742, 1125, 1484, 52, 128, 211, 456, 550, 646, 742, 1125, 220179, 220180, 220181, 220045, 220210, 220277, 220045, 220179, 220180, 220181, 220210, 220277, 223761, 220046, 220047, 223751, 223752, 223769, 223770, 224161, 224162, 226253, 220228, 220545, 220546, 220602, 220615, 220621, 220635, 220645, 220734, 225624, 225625, 225677, 227073, 227442, 227443, 227457, 227471, 223834, 220045, 220179, 220180, 220181, 220210, 220277, 226531, 226512, 226707, 226730, 220045, 220179, 220180, 220181, 220210, 220277, 226137, 226139, 227367, 227369, 224168, 224641, 226381, 226543, 226544, 227378, 220048, 220739, 223753, 223754, 223898, 223901, 223903, 223910, 223911, 223916, 223917, 223918, 223919, 223920, 223934, 223943, 223985, 223986, 223987, 223988, 223989, 223990, 223999, 224001, 224003, 224004, 224015, 224016, 224080, 224082, 224084, 224085, 224086, 224093, 226531, 226512, 226707, 226730, 220224, 220235, 223830, 224828, 225698, 226537, 226540, 227464, 220224, 220235, 223830, 224828, 225698, 226537, 226540, 227464, 220224, 220235, 223830, 224828, 225667, 225668, 225698, 226534, 226536, 226537, 226540, 227464, 220228, 220545, 220546, 225639, 225640, 225641, 225642, 225643, 227457, 227465, 227466, 227467, 227468, 220224, 220235, 223830, 224828, 225667, 225668, 225698, 226534, 226536, 226537, 226540, 227464, 226179, 227688, 226381, 226543, 226544, 227378, 224640, 227088, 225059, 225059, 225137, 225811, 225811, 0.0, 0.0, 0.0, 0.0, 0.0, 0.0, 0.0, 0.0, 0.0, 0.0, 0.0, 0.0, 0.0, 0.0, 0.0, 0.0, 0.0, 0.0, 0.0, 0.0, 0.0, 0.0, 0.0, 0.0, 0.0, 0.0, 0.0, 0.0, 0.0, 0.0, 220046, 220047, 220277, 223751, 223752, 223761, 223769, 223770, 223835, 224161, 224162, 226253, 220210, 220045, 220179, 220180, 220181, 220045, 220210, 220277, 220179, 220180, 220181, 220045, 220179, 220180, 220181, 220210, 220277, 225070, 225086, 225091, 225092, 225103, 225105, 225112, 225117, 225122, 225129, 225133, 226179, 226180, 227688, 228236, 224168, 224641, 225188, 226138, 227368, 228100, 225184, 225188, 226169, 227130, 224168, 224641, 226381, 226543, 226544, 227378, 225059, 225072, 225090, 225097, 225099, 225101, 225131, 225131, 225137, 225811, 225811, 223759, 224640, 220048, 223781, 223782, 223783, 223783, 223784, 223791, 223792, 223794, 223795, 223796, 224082, 224084, 224086, 224409, 224642, 224650, 226732, 227240, 228096, 228298, 228299, 228306, 220048, 220739, 223900, 223901, 220224, 220235, 223830, 224828, 225698, 227465, 227466, 227467, 220045, 220210, 220179, 220180, 220181, 220277, 220045, 220179, 220180, 220181, 220210, 220277, 220292, 220293, 220339, 223835, 223873, 223874, 223875, 223876, 224685, 224686, 224687, 224689, 224695, 224697, 224701, 224738, 225664, 220046, 220047, 223751, 223752, 223769, 223770, 224161, 224162, 224562, 224846, 223761, 220224, 220235, 223830, 224828, 225668, 225698, 227688, 224168, 224641, 224564, 226381, 226543, 226544, 227378, 220048, 224650, 225059, 225059, 225059, 225059, 225811, 220048, 223848, 223849, 224650, 224692, 224735, 224865, 225978, 226732, 227240, 224032, 224037, 224038, 224226, 224259, 224561, 224632, 224847, 227780, 224642, 0.0, 0.0, 0.0, 0.0, 0.0, 0.0, 0.0, 0.0, 0.0, 0.0, 0.0, 220277, 220179, 220180, 220181, 220045, 220046, 220047, 220072, 220073, 220210, 223751, 223752, 223769, 223770, 224161, 224162, 226253, 220045, 220074, 220210, 223761, 226531, 226512, 226707, 226730, 223834, 220045, 220074, 220179, 220180, 220181, 220210, 220277, 226531, 220045, 220074, 220179, 220180, 220181, 220210, 220277, 227688, 227688, 227688, 227688, 224168, 224641, 226113, 227293, 226137, 227367, 225087, 225092, 225094, 225103, 225106, 225110, 225113, 225118, 225122, 225124, 225126, 226137, 226179, 227367, 227688, 225087, 225092, 225094, 225103, 225106, 225110, 225113, 225118, 225122, 225124, 225126, 226179, 227688, 226136, 227366, 225087, 225092, 225094, 225103, 225106, 225110, 225113, 225118, 225122, 225124, 225126, 226179, 227688, 225087, 225092, 225094, 225103, 225106, 225110, 224639, 220045, 220210, 220277, 220179, 220180, 220181, 220050, 220051, 220052, 220060, 220061, 220046, 220047, 220056, 220058, 220063, 220066, 223751, 223752, 223769, 223770, 224161, 224162, 226253, 220045, 220050, 220051, 220052, 220179, 220180, 220181, 220210, 220277, 223761, 226531, 226512, 226707, 226730, 223834, 220228, 220545, 220546, 220602, 220615, 220621, 220635, 220645, 225624, 225625, 225628, 225634, 225639, 225640, 225641, 225642, 225643, 225677, 227073, 227429, 227442, 227443, 227445, 227457, 227465, 227466, 227467, 220045, 220050, 220051, 220052, 220059, 220060, 220061, 220179, 220180, 220181, 220210, 220277, 220045, 220050, 220051, 220052, 220059, 220060, 220061, 220179, 220180, 220181, 220210, 223834, 225664, 220277, 225358, 225771, 226114, 226117, 226137, 226138, 227351, 39, 40, 50, 131, 190, 218, 219, 417, 434, 444, 450, 506, 535, 543, 614, 615, 619, 631, 682, 683, 720, 722, 732, 6206, 6207, 6208, 31, 32, 54, 77, 82, 83, 84, 85, 86, 87, 88, 127, 128, 137, 159, 161, 184, 187, 197, 198, 210, 211, 212, 324, 325, 326, 423, 426, 432, 454, 456, 479, 547, 548, 550, 580, 581, 582, 590, 596, 605, 610, 618, 621, 622, 623, 637, 641, 643, 644, 646, 655, 663, 674, 677, 678, 680, 704, 723, 733, 742, 763, 1043, 1047, 1125, 1337, 1484, 1517, 1622, 1623, 7915, 72, 128, 159, 52, 677, 678, 1125, 27, 52, 80, 130, 137, 154, 161, 184, 197, 198, 207, 208, 211, 212, 423, 425, 426, 428, 432, 454, 467, 478, 479, 525, 590, 593, 596, 599, 617, 618, 646, 648, 655, 660, 707, 723, 742, 1046, 1087, 1125, 1337, 31, 32, 52, 54, 77, 82, 83, 84, 85, 86, 87, 88, 127, 161, 210, 211, 212, 230, 232, 283, 324, 325, 411, 525, 547, 548, 605, 610, 618, 621, 622, 623, 637, 643, 644, 646, 663, 674, 677, 678, 704, 742, 1043, 1046, 1047, 1087, 1125, 1337, 52, 161, 211, 212, 525, 618, 646]\n",
            "3900\n",
            "589\n"
          ]
        }
      ]
    },
    {
      "cell_type": "code",
      "metadata": {
        "colab": {
          "base_uri": "https://localhost:8080/"
        },
        "id": "rmz7XEbLoxbu",
        "outputId": "84ceddca-3296-425e-dc6e-f2bf0125f737"
      },
      "source": [
        "# 모든 itemid를 순서대로 0 ~ len(unique_codes) key로, value는 실제 codes.\n",
        "\n",
        "codes_unique = [item for items in df_last['ITEMID'] for item in items]\n",
        "vocab = dict(zip(set(codes_unique), range(1,len(set(codes_unique))+1))) # 0 for pad\n",
        "print(\"vocab\", vocab)\n",
        "print('vocab size is .. ', len(vocab))\n",
        "\n",
        "\n",
        "# 생성된 보캡에 매칭되는 값으로 바꿔서 데이터 프레임 생성.\n",
        "\n",
        "item_index = pd.Series([list(pd.Series(codes).map(vocab)) for codes in df_last['ITEMID']])\n",
        "df_last['item_index'] = item_index"
      ],
      "execution_count": 50,
      "outputs": [
        {
          "output_type": "stream",
          "name": "stdout",
          "text": [
            "vocab {0.0: 1, 225280: 2, 227341: 3, 227342: 4, 227343: 5, 227344: 6, 227345: 7, 227346: 8, 227349: 9, 227350: 10, 227351: 11, 27: 12, 31: 13, 32: 14, 225313: 15, 227366: 16, 227367: 17, 227368: 18, 227369: 19, 39: 20, 40: 21, 227375: 22, 227378: 23, 51: 24, 52: 25, 50: 26, 54: 27, 6206: 28, 6207: 29, 6208: 30, 69: 31, 72: 32, 77: 33, 225358: 34, 80: 35, 82: 36, 83: 37, 84: 38, 85: 39, 86: 40, 87: 41, 88: 42, 227429: 43, 113: 44, 227442: 45, 227443: 46, 227445: 47, 127: 48, 128: 49, 227456: 50, 227457: 51, 130: 52, 131: 53, 136: 54, 227465: 55, 227466: 56, 227467: 57, 137: 58, 139: 59, 227464: 60, 227471: 61, 227472: 62, 227473: 63, 227474: 64, 227468: 65, 154: 66, 157: 67, 159: 68, 161: 69, 165: 70, 166: 71, 167: 72, 168: 73, 169: 74, 170: 75, 171: 76, 8368: 77, 184: 78, 187: 79, 190: 80, 197: 81, 198: 82, 200: 83, 202: 84, 203: 85, 207: 86, 8400: 87, 8401: 88, 210: 89, 211: 90, 212: 91, 8402: 92, 208: 93, 218: 94, 219: 95, 230: 96, 232: 97, 235: 98, 236: 99, 238: 100, 244: 101, 8441: 102, 283: 103, 284: 104, 294: 105, 297: 106, 300: 107, 324: 108, 325: 109, 326: 110, 225612: 111, 338: 112, 225624: 113, 225625: 114, 344: 115, 225628: 116, 225634: 117, 8547: 118, 356: 119, 8549: 120, 225638: 121, 225639: 122, 225640: 123, 225641: 124, 225642: 125, 225643: 126, 8551: 127, 8553: 128, 8554: 129, 227688: 130, 362: 131, 225651: 132, 374: 133, 225664: 134, 225667: 135, 225668: 136, 225677: 137, 225684: 138, 225690: 139, 411: 140, 412: 141, 417: 142, 225698: 143, 423: 144, 425: 145, 426: 146, 428: 147, 432: 148, 434: 149, 444: 150, 223679: 151, 450: 152, 227780: 153, 454: 154, 455: 155, 456: 156, 466: 157, 467: 158, 468: 159, 470: 160, 471: 161, 477: 162, 478: 163, 479: 164, 225771: 165, 493: 166, 496: 167, 498: 168, 499: 169, 506: 170, 223751: 171, 223752: 172, 223753: 173, 223754: 174, 525: 175, 223758: 176, 223759: 177, 223760: 178, 223761: 179, 223763: 180, 225811: 181, 535: 182, 223769: 183, 223770: 184, 543: 185, 547: 186, 548: 187, 223780: 188, 550: 189, 223781: 190, 223782: 191, 223783: 192, 223784: 193, 223791: 194, 223792: 195, 223794: 196, 223795: 197, 223796: 198, 223800: 199, 580: 200, 581: 201, 582: 202, 590: 203, 593: 204, 596: 205, 223830: 206, 599: 207, 223834: 208, 223835: 209, 604: 210, 605: 211, 610: 212, 614: 213, 615: 214, 616: 215, 617: 216, 618: 217, 619: 218, 223848: 219, 621: 220, 622: 221, 623: 222, 223849: 223, 631: 224, 637: 225, 223873: 226, 642: 227, 643: 228, 644: 229, 223875: 230, 646: 231, 223874: 232, 648: 233, 223876: 234, 641: 235, 655: 236, 227988: 237, 660: 238, 663: 239, 223898: 240, 223900: 241, 223901: 242, 223902: 243, 223903: 244, 223904: 245, 223905: 246, 674: 247, 223907: 248, 676: 249, 677: 250, 223910: 251, 223911: 252, 678: 253, 680: 254, 682: 255, 683: 256, 223916: 257, 223917: 258, 223918: 259, 223919: 260, 223920: 261, 686: 262, 225978: 263, 223934: 264, 223935: 265, 223936: 266, 704: 267, 223938: 268, 223939: 269, 707: 270, 223943: 271, 223944: 272, 223947: 273, 223948: 274, 223949: 275, 223951: 276, 720: 277, 722: 278, 723: 279, 732: 280, 733: 281, 742: 282, 223976: 283, 223979: 284, 223982: 285, 223983: 286, 223985: 287, 223986: 288, 223987: 289, 223988: 290, 223989: 291, 223990: 292, 223991: 293, 223992: 294, 762: 295, 763: 296, 223999: 297, 228096: 298, 224001: 299, 224003: 300, 224004: 301, 224005: 302, 228099: 303, 228100: 304, 776: 305, 777: 306, 778: 307, 779: 308, 780: 309, 781: 310, 226062: 311, 226063: 312, 224015: 313, 783: 314, 786: 315, 787: 316, 788: 317, 784: 318, 224016: 319, 791: 320, 224032: 321, 803: 322, 804: 323, 224037: 324, 224038: 325, 807: 326, 224040: 327, 224041: 328, 811: 329, 813: 330, 814: 331, 815: 332, 818: 333, 821: 334, 824: 335, 825: 336, 226104: 337, 226105: 338, 827: 339, 828: 340, 829: 341, 226109: 342, 226107: 343, 226113: 344, 833: 345, 226114: 346, 836: 347, 837: 348, 226117: 349, 224072: 350, 224073: 351, 224075: 352, 224076: 353, 224077: 354, 224079: 355, 224080: 356, 224082: 357, 224084: 358, 224085: 359, 224086: 360, 852: 361, 226136: 362, 226137: 363, 226138: 364, 226139: 365, 224093: 366, 861: 367, 226169: 368, 226179: 369, 226180: 370, 228236: 371, 220045: 372, 220046: 373, 220047: 374, 220048: 375, 220050: 376, 220051: 377, 916: 378, 917: 379, 220052: 380, 919: 381, 920: 382, 220056: 383, 220058: 384, 220059: 385, 924: 386, 925: 387, 926: 388, 927: 389, 220060: 390, 224161: 391, 224162: 392, 930: 393, 220061: 394, 220063: 395, 220066: 396, 935: 397, 224168: 398, 220072: 399, 220073: 400, 220074: 401, 228298: 402, 228299: 403, 226253: 404, 228305: 405, 228306: 406, 224226: 407, 224259: 408, 220179: 409, 220180: 410, 220181: 411, 1043: 412, 1046: 413, 1047: 414, 224281: 415, 220210: 416, 1087: 417, 220224: 418, 1089: 419, 220227: 420, 220228: 421, 220235: 422, 226381: 423, 1125: 424, 1126: 425, 1127: 426, 224366: 427, 220274: 428, 220277: 429, 220292: 430, 220293: 431, 1162: 432, 224409: 433, 224411: 434, 220339: 435, 226512: 436, 226531: 437, 226534: 438, 226536: 439, 226537: 440, 226540: 441, 226543: 442, 226544: 443, 1286: 444, 224561: 445, 224562: 446, 224563: 447, 224564: 448, 1337: 449, 224632: 450, 224639: 451, 224640: 452, 224641: 453, 220545: 454, 220546: 455, 224642: 456, 224650: 457, 224651: 458, 1425: 459, 226707: 460, 220581: 461, 226730: 462, 220587: 463, 226732: 464, 224685: 465, 224686: 466, 224687: 467, 224689: 468, 224690: 469, 224692: 470, 224695: 471, 224697: 472, 220602: 473, 224701: 474, 220615: 475, 1484: 476, 220621: 477, 220632: 478, 224730: 479, 220635: 480, 224731: 481, 224733: 482, 224735: 483, 224738: 484, 220644: 485, 220645: 486, 1517: 487, 1522: 488, 1523: 489, 224756: 490, 1525: 491, 1527: 492, 1529: 493, 1530: 494, 1531: 495, 1532: 496, 1533: 497, 1534: 498, 1535: 499, 1536: 500, 224767: 501, 224769: 502, 224771: 503, 224773: 504, 1542: 505, 224828: 506, 220734: 507, 220739: 508, 224846: 509, 224847: 510, 224848: 511, 1622: 512, 1623: 513, 224865: 514, 224895: 515, 224896: 516, 224916: 517, 224917: 518, 224923: 519, 224924: 520, 1703: 521, 5813: 522, 5815: 523, 224951: 524, 5817: 525, 224952: 526, 5819: 527, 5820: 528, 224993: 529, 224994: 530, 7915: 531, 225004: 532, 225005: 533, 225013: 534, 227073: 535, 227088: 536, 225059: 537, 225067: 538, 225070: 539, 225072: 540, 227121: 541, 225074: 542, 225076: 543, 225078: 544, 225082: 545, 227130: 546, 225085: 547, 225086: 548, 225087: 549, 225090: 550, 225091: 551, 225092: 552, 225094: 553, 225097: 554, 225099: 555, 225101: 556, 225103: 557, 225105: 558, 225106: 559, 225110: 560, 225112: 561, 225113: 562, 225117: 563, 225118: 564, 225120: 565, 225122: 566, 225124: 567, 225126: 568, 225129: 569, 225131: 570, 225133: 571, 225137: 572, 225175: 573, 225184: 574, 225185: 575, 225187: 576, 225188: 577, 225189: 578, 227239: 579, 227240: 580, 225192: 581, 225210: 582, 225231: 583, 225234: 584, 225237: 585, 227287: 586, 227288: 587, 227292: 588, 227293: 589}\n",
            "vocab size is ..  589\n"
          ]
        }
      ]
    },
    {
      "cell_type": "code",
      "metadata": {
        "id": "DrkEnBGagYeD",
        "colab": {
          "base_uri": "https://localhost:8080/",
          "height": 1000
        },
        "outputId": "fec91444-679b-4b65-a830-999deb070060"
      },
      "source": [
        "df_last"
      ],
      "execution_count": 51,
      "outputs": [
        {
          "output_type": "execute_result",
          "data": {
            "text/plain": [
              "    ICUSTAY_ID                                             ITEMID    y  fold  \\\n",
              "0     201204.0  [220045, 220210, 220277, 220045, 220179, 22018...  0.0     0   \n",
              "1     205589.0  [128, 211, 456, 618, 646, 677, 678, 742, 1125,...  0.0     1   \n",
              "2     206504.0  [69, 762, 916, 917, 919, 920, 924, 925, 926, 9...  0.0     0   \n",
              "3     210164.0  [223761, 220045, 220210, 224562, 224563, 22484...  0.0     0   \n",
              "4     214180.0  [220046, 220047, 223751, 223752, 223761, 22376...  0.0     0   \n",
              "5     214861.0  [27, 31, 77, 80, 82, 83, 84, 85, 86, 87, 88, 1...  0.0     0   \n",
              "6     215460.0  [128, 159, 161, 211, 212, 456, 550, 581, 618, ...  0.0     0   \n",
              "7     217960.0  [69, 762, 916, 917, 919, 920, 924, 925, 926, 9...  0.0     0   \n",
              "8     219013.0  [220045, 220210, 220179, 220180, 220181, 22027...  0.0     0   \n",
              "9     219307.0  [220734, 227471, 220179, 220180, 220181, 22004...  0.0     0   \n",
              "10    227834.0  [781, 786, 787, 788, 791, 811, 813, 814, 815, ...  1.0     0   \n",
              "11    228977.0  [784, 803, 804, 836, 852, 1527, 52, 77, 82, 83...  1.0     0   \n",
              "12    234424.0  [220179, 220180, 220181, 220045, 220046, 22004...  0.0     0   \n",
              "13    236120.0  [220045, 220210, 220277, 220045, 220046, 22004...  0.0     0   \n",
              "14    238186.0  [220210, 220045, 220045, 220210, 223834, 22017...  0.0     0   \n",
              "15    238399.0  [223761, 220046, 220047, 223751, 223752, 22376...  0.0     1   \n",
              "16    241562.0  [52, 211, 618, 646, 742, 52, 77, 113, 128, 159...  0.0     0   \n",
              "17    241992.0  [225664, 220045, 220210, 220277, 220179, 22018...  0.0     0   \n",
              "18    243123.0  [220179, 220180, 220181, 220277, 220045, 22004...  0.0     0   \n",
              "19    249695.0  [113, 207, 236, 238, 284, 27, 39, 40, 50, 52, ...  0.0     0   \n",
              "20    254543.0  [69, 762, 916, 917, 919, 920, 924, 925, 926, 9...  0.0     0   \n",
              "21    254635.0  [226512, 220046, 220047, 223751, 223752, 22376...  0.0     0   \n",
              "22    261743.0  [220045, 220277, 220210, 220046, 220047, 22375...  0.0     0   \n",
              "23    265615.0  [220045, 220050, 220051, 220052, 220210, 22027...  0.0     0   \n",
              "24    277238.0  [220179, 220180, 220181, 220277, 220045, 22021...  0.0     1   \n",
              "25    279183.0  [220045, 220210, 220277, 220045, 220179, 22018...  0.0     0   \n",
              "26    280943.0  [220045, 220210, 220179, 220180, 220181, 22027...  0.0     0   \n",
              "27    283181.0  [220045, 220046, 220047, 220179, 220180, 22018...  1.0     0   \n",
              "28    283875.0  [220045, 220046, 220047, 220179, 220180, 22018...  0.0     0   \n",
              "29    285353.0  [224639, 227465, 227466, 227467, 225078, 22508...  0.0     0   \n",
              "30    285789.0  [128, 211, 212, 456, 467, 470, 550, 637, 646, ...  0.0     1   \n",
              "31    289236.0  [220179, 220180, 220181, 220045, 220210, 22027...  0.0     0   \n",
              "32    290513.0  [226531, 226512, 226707, 226730, 220224, 22023...  0.0     0   \n",
              "33    291067.0  [220046, 220047, 220277, 223751, 223752, 22376...  0.0     0   \n",
              "34    293178.0  [220224, 220235, 223830, 224828, 225698, 22746...  0.0     1   \n",
              "35    293363.0  [220277, 220179, 220180, 220181, 220045, 22004...  0.0     0   \n",
              "36    293429.0  [224639, 220045, 220210, 220277, 220179, 22018...  1.0     1   \n",
              "37    295741.0  [39, 40, 50, 131, 190, 218, 219, 417, 434, 444...  0.0     0   \n",
              "38    296804.0  [52, 677, 678, 1125, 27, 52, 80, 130, 137, 154...  0.0     0   \n",
              "\n",
              "                                           item_index  \n",
              "0   [372, 416, 429, 372, 409, 410, 411, 416, 429, ...  \n",
              "1   [49, 90, 156, 217, 231, 250, 253, 282, 424, 47...  \n",
              "2   [31, 295, 378, 379, 381, 382, 386, 387, 388, 3...  \n",
              "3   [179, 372, 416, 446, 447, 509, 429, 409, 410, ...  \n",
              "4   [373, 374, 171, 172, 179, 183, 184, 391, 392, ...  \n",
              "5   [12, 13, 33, 35, 36, 37, 38, 39, 40, 41, 42, 4...  \n",
              "6   [49, 68, 69, 90, 91, 156, 189, 201, 217, 231, ...  \n",
              "7   [31, 295, 378, 379, 381, 382, 386, 387, 388, 3...  \n",
              "8   [372, 416, 409, 410, 411, 429, 373, 374, 171, ...  \n",
              "9   [507, 61, 409, 410, 411, 373, 374, 171, 172, 1...  \n",
              "10  [310, 315, 316, 317, 320, 329, 330, 331, 332, ...  \n",
              "11  [318, 322, 323, 347, 361, 492, 25, 33, 36, 37,...  \n",
              "12  [409, 410, 411, 372, 373, 374, 416, 429, 171, ...  \n",
              "13  [372, 416, 429, 372, 373, 374, 409, 410, 411, ...  \n",
              "14  [416, 372, 372, 416, 208, 409, 410, 411, 429, ...  \n",
              "15  [179, 373, 374, 171, 172, 183, 184, 391, 392, ...  \n",
              "16  [25, 90, 217, 231, 282, 25, 33, 44, 49, 68, 69...  \n",
              "17  [134, 372, 416, 429, 409, 410, 411, 373, 374, ...  \n",
              "18  [409, 410, 411, 429, 372, 373, 374, 416, 429, ...  \n",
              "19  [44, 86, 99, 100, 104, 12, 20, 21, 26, 25, 33,...  \n",
              "20  [31, 295, 378, 379, 381, 382, 386, 387, 388, 3...  \n",
              "21  [436, 373, 374, 171, 172, 183, 184, 391, 392, ...  \n",
              "22  [372, 429, 416, 373, 374, 171, 172, 183, 184, ...  \n",
              "23  [372, 376, 377, 380, 416, 429, 179, 373, 374, ...  \n",
              "24  [409, 410, 411, 429, 372, 416, 372, 373, 374, ...  \n",
              "25  [372, 416, 429, 372, 409, 410, 411, 416, 429, ...  \n",
              "26  [372, 416, 409, 410, 411, 429, 372, 373, 374, ...  \n",
              "27  [372, 373, 374, 409, 410, 411, 416, 429, 171, ...  \n",
              "28  [372, 373, 374, 409, 410, 411, 416, 429, 171, ...  \n",
              "29  [451, 55, 56, 57, 544, 548, 552, 557, 564, 566...  \n",
              "30  [49, 90, 91, 156, 158, 160, 189, 225, 231, 247...  \n",
              "31  [409, 410, 411, 372, 416, 429, 372, 409, 410, ...  \n",
              "32  [437, 436, 460, 462, 418, 422, 206, 506, 143, ...  \n",
              "33  [373, 374, 429, 171, 172, 179, 183, 184, 209, ...  \n",
              "34  [418, 422, 206, 506, 143, 55, 56, 57, 372, 416...  \n",
              "35  [429, 409, 410, 411, 372, 373, 374, 399, 400, ...  \n",
              "36  [451, 372, 416, 429, 409, 410, 411, 376, 377, ...  \n",
              "37  [20, 21, 26, 53, 80, 94, 95, 142, 149, 150, 15...  \n",
              "38  [25, 250, 253, 424, 12, 25, 35, 52, 58, 66, 69...  "
            ],
            "text/html": [
              "\n",
              "  <div id=\"df-c1222585-7903-48ff-b9f2-41f81c5da565\">\n",
              "    <div class=\"colab-df-container\">\n",
              "      <div>\n",
              "<style scoped>\n",
              "    .dataframe tbody tr th:only-of-type {\n",
              "        vertical-align: middle;\n",
              "    }\n",
              "\n",
              "    .dataframe tbody tr th {\n",
              "        vertical-align: top;\n",
              "    }\n",
              "\n",
              "    .dataframe thead th {\n",
              "        text-align: right;\n",
              "    }\n",
              "</style>\n",
              "<table border=\"1\" class=\"dataframe\">\n",
              "  <thead>\n",
              "    <tr style=\"text-align: right;\">\n",
              "      <th></th>\n",
              "      <th>ICUSTAY_ID</th>\n",
              "      <th>ITEMID</th>\n",
              "      <th>y</th>\n",
              "      <th>fold</th>\n",
              "      <th>item_index</th>\n",
              "    </tr>\n",
              "  </thead>\n",
              "  <tbody>\n",
              "    <tr>\n",
              "      <th>0</th>\n",
              "      <td>201204.0</td>\n",
              "      <td>[220045, 220210, 220277, 220045, 220179, 22018...</td>\n",
              "      <td>0.0</td>\n",
              "      <td>0</td>\n",
              "      <td>[372, 416, 429, 372, 409, 410, 411, 416, 429, ...</td>\n",
              "    </tr>\n",
              "    <tr>\n",
              "      <th>1</th>\n",
              "      <td>205589.0</td>\n",
              "      <td>[128, 211, 456, 618, 646, 677, 678, 742, 1125,...</td>\n",
              "      <td>0.0</td>\n",
              "      <td>1</td>\n",
              "      <td>[49, 90, 156, 217, 231, 250, 253, 282, 424, 47...</td>\n",
              "    </tr>\n",
              "    <tr>\n",
              "      <th>2</th>\n",
              "      <td>206504.0</td>\n",
              "      <td>[69, 762, 916, 917, 919, 920, 924, 925, 926, 9...</td>\n",
              "      <td>0.0</td>\n",
              "      <td>0</td>\n",
              "      <td>[31, 295, 378, 379, 381, 382, 386, 387, 388, 3...</td>\n",
              "    </tr>\n",
              "    <tr>\n",
              "      <th>3</th>\n",
              "      <td>210164.0</td>\n",
              "      <td>[223761, 220045, 220210, 224562, 224563, 22484...</td>\n",
              "      <td>0.0</td>\n",
              "      <td>0</td>\n",
              "      <td>[179, 372, 416, 446, 447, 509, 429, 409, 410, ...</td>\n",
              "    </tr>\n",
              "    <tr>\n",
              "      <th>4</th>\n",
              "      <td>214180.0</td>\n",
              "      <td>[220046, 220047, 223751, 223752, 223761, 22376...</td>\n",
              "      <td>0.0</td>\n",
              "      <td>0</td>\n",
              "      <td>[373, 374, 171, 172, 179, 183, 184, 391, 392, ...</td>\n",
              "    </tr>\n",
              "    <tr>\n",
              "      <th>5</th>\n",
              "      <td>214861.0</td>\n",
              "      <td>[27, 31, 77, 80, 82, 83, 84, 85, 86, 87, 88, 1...</td>\n",
              "      <td>0.0</td>\n",
              "      <td>0</td>\n",
              "      <td>[12, 13, 33, 35, 36, 37, 38, 39, 40, 41, 42, 4...</td>\n",
              "    </tr>\n",
              "    <tr>\n",
              "      <th>6</th>\n",
              "      <td>215460.0</td>\n",
              "      <td>[128, 159, 161, 211, 212, 456, 550, 581, 618, ...</td>\n",
              "      <td>0.0</td>\n",
              "      <td>0</td>\n",
              "      <td>[49, 68, 69, 90, 91, 156, 189, 201, 217, 231, ...</td>\n",
              "    </tr>\n",
              "    <tr>\n",
              "      <th>7</th>\n",
              "      <td>217960.0</td>\n",
              "      <td>[69, 762, 916, 917, 919, 920, 924, 925, 926, 9...</td>\n",
              "      <td>0.0</td>\n",
              "      <td>0</td>\n",
              "      <td>[31, 295, 378, 379, 381, 382, 386, 387, 388, 3...</td>\n",
              "    </tr>\n",
              "    <tr>\n",
              "      <th>8</th>\n",
              "      <td>219013.0</td>\n",
              "      <td>[220045, 220210, 220179, 220180, 220181, 22027...</td>\n",
              "      <td>0.0</td>\n",
              "      <td>0</td>\n",
              "      <td>[372, 416, 409, 410, 411, 429, 373, 374, 171, ...</td>\n",
              "    </tr>\n",
              "    <tr>\n",
              "      <th>9</th>\n",
              "      <td>219307.0</td>\n",
              "      <td>[220734, 227471, 220179, 220180, 220181, 22004...</td>\n",
              "      <td>0.0</td>\n",
              "      <td>0</td>\n",
              "      <td>[507, 61, 409, 410, 411, 373, 374, 171, 172, 1...</td>\n",
              "    </tr>\n",
              "    <tr>\n",
              "      <th>10</th>\n",
              "      <td>227834.0</td>\n",
              "      <td>[781, 786, 787, 788, 791, 811, 813, 814, 815, ...</td>\n",
              "      <td>1.0</td>\n",
              "      <td>0</td>\n",
              "      <td>[310, 315, 316, 317, 320, 329, 330, 331, 332, ...</td>\n",
              "    </tr>\n",
              "    <tr>\n",
              "      <th>11</th>\n",
              "      <td>228977.0</td>\n",
              "      <td>[784, 803, 804, 836, 852, 1527, 52, 77, 82, 83...</td>\n",
              "      <td>1.0</td>\n",
              "      <td>0</td>\n",
              "      <td>[318, 322, 323, 347, 361, 492, 25, 33, 36, 37,...</td>\n",
              "    </tr>\n",
              "    <tr>\n",
              "      <th>12</th>\n",
              "      <td>234424.0</td>\n",
              "      <td>[220179, 220180, 220181, 220045, 220046, 22004...</td>\n",
              "      <td>0.0</td>\n",
              "      <td>0</td>\n",
              "      <td>[409, 410, 411, 372, 373, 374, 416, 429, 171, ...</td>\n",
              "    </tr>\n",
              "    <tr>\n",
              "      <th>13</th>\n",
              "      <td>236120.0</td>\n",
              "      <td>[220045, 220210, 220277, 220045, 220046, 22004...</td>\n",
              "      <td>0.0</td>\n",
              "      <td>0</td>\n",
              "      <td>[372, 416, 429, 372, 373, 374, 409, 410, 411, ...</td>\n",
              "    </tr>\n",
              "    <tr>\n",
              "      <th>14</th>\n",
              "      <td>238186.0</td>\n",
              "      <td>[220210, 220045, 220045, 220210, 223834, 22017...</td>\n",
              "      <td>0.0</td>\n",
              "      <td>0</td>\n",
              "      <td>[416, 372, 372, 416, 208, 409, 410, 411, 429, ...</td>\n",
              "    </tr>\n",
              "    <tr>\n",
              "      <th>15</th>\n",
              "      <td>238399.0</td>\n",
              "      <td>[223761, 220046, 220047, 223751, 223752, 22376...</td>\n",
              "      <td>0.0</td>\n",
              "      <td>1</td>\n",
              "      <td>[179, 373, 374, 171, 172, 183, 184, 391, 392, ...</td>\n",
              "    </tr>\n",
              "    <tr>\n",
              "      <th>16</th>\n",
              "      <td>241562.0</td>\n",
              "      <td>[52, 211, 618, 646, 742, 52, 77, 113, 128, 159...</td>\n",
              "      <td>0.0</td>\n",
              "      <td>0</td>\n",
              "      <td>[25, 90, 217, 231, 282, 25, 33, 44, 49, 68, 69...</td>\n",
              "    </tr>\n",
              "    <tr>\n",
              "      <th>17</th>\n",
              "      <td>241992.0</td>\n",
              "      <td>[225664, 220045, 220210, 220277, 220179, 22018...</td>\n",
              "      <td>0.0</td>\n",
              "      <td>0</td>\n",
              "      <td>[134, 372, 416, 429, 409, 410, 411, 373, 374, ...</td>\n",
              "    </tr>\n",
              "    <tr>\n",
              "      <th>18</th>\n",
              "      <td>243123.0</td>\n",
              "      <td>[220179, 220180, 220181, 220277, 220045, 22004...</td>\n",
              "      <td>0.0</td>\n",
              "      <td>0</td>\n",
              "      <td>[409, 410, 411, 429, 372, 373, 374, 416, 429, ...</td>\n",
              "    </tr>\n",
              "    <tr>\n",
              "      <th>19</th>\n",
              "      <td>249695.0</td>\n",
              "      <td>[113, 207, 236, 238, 284, 27, 39, 40, 50, 52, ...</td>\n",
              "      <td>0.0</td>\n",
              "      <td>0</td>\n",
              "      <td>[44, 86, 99, 100, 104, 12, 20, 21, 26, 25, 33,...</td>\n",
              "    </tr>\n",
              "    <tr>\n",
              "      <th>20</th>\n",
              "      <td>254543.0</td>\n",
              "      <td>[69, 762, 916, 917, 919, 920, 924, 925, 926, 9...</td>\n",
              "      <td>0.0</td>\n",
              "      <td>0</td>\n",
              "      <td>[31, 295, 378, 379, 381, 382, 386, 387, 388, 3...</td>\n",
              "    </tr>\n",
              "    <tr>\n",
              "      <th>21</th>\n",
              "      <td>254635.0</td>\n",
              "      <td>[226512, 220046, 220047, 223751, 223752, 22376...</td>\n",
              "      <td>0.0</td>\n",
              "      <td>0</td>\n",
              "      <td>[436, 373, 374, 171, 172, 183, 184, 391, 392, ...</td>\n",
              "    </tr>\n",
              "    <tr>\n",
              "      <th>22</th>\n",
              "      <td>261743.0</td>\n",
              "      <td>[220045, 220277, 220210, 220046, 220047, 22375...</td>\n",
              "      <td>0.0</td>\n",
              "      <td>0</td>\n",
              "      <td>[372, 429, 416, 373, 374, 171, 172, 183, 184, ...</td>\n",
              "    </tr>\n",
              "    <tr>\n",
              "      <th>23</th>\n",
              "      <td>265615.0</td>\n",
              "      <td>[220045, 220050, 220051, 220052, 220210, 22027...</td>\n",
              "      <td>0.0</td>\n",
              "      <td>0</td>\n",
              "      <td>[372, 376, 377, 380, 416, 429, 179, 373, 374, ...</td>\n",
              "    </tr>\n",
              "    <tr>\n",
              "      <th>24</th>\n",
              "      <td>277238.0</td>\n",
              "      <td>[220179, 220180, 220181, 220277, 220045, 22021...</td>\n",
              "      <td>0.0</td>\n",
              "      <td>1</td>\n",
              "      <td>[409, 410, 411, 429, 372, 416, 372, 373, 374, ...</td>\n",
              "    </tr>\n",
              "    <tr>\n",
              "      <th>25</th>\n",
              "      <td>279183.0</td>\n",
              "      <td>[220045, 220210, 220277, 220045, 220179, 22018...</td>\n",
              "      <td>0.0</td>\n",
              "      <td>0</td>\n",
              "      <td>[372, 416, 429, 372, 409, 410, 411, 416, 429, ...</td>\n",
              "    </tr>\n",
              "    <tr>\n",
              "      <th>26</th>\n",
              "      <td>280943.0</td>\n",
              "      <td>[220045, 220210, 220179, 220180, 220181, 22027...</td>\n",
              "      <td>0.0</td>\n",
              "      <td>0</td>\n",
              "      <td>[372, 416, 409, 410, 411, 429, 372, 373, 374, ...</td>\n",
              "    </tr>\n",
              "    <tr>\n",
              "      <th>27</th>\n",
              "      <td>283181.0</td>\n",
              "      <td>[220045, 220046, 220047, 220179, 220180, 22018...</td>\n",
              "      <td>1.0</td>\n",
              "      <td>0</td>\n",
              "      <td>[372, 373, 374, 409, 410, 411, 416, 429, 171, ...</td>\n",
              "    </tr>\n",
              "    <tr>\n",
              "      <th>28</th>\n",
              "      <td>283875.0</td>\n",
              "      <td>[220045, 220046, 220047, 220179, 220180, 22018...</td>\n",
              "      <td>0.0</td>\n",
              "      <td>0</td>\n",
              "      <td>[372, 373, 374, 409, 410, 411, 416, 429, 171, ...</td>\n",
              "    </tr>\n",
              "    <tr>\n",
              "      <th>29</th>\n",
              "      <td>285353.0</td>\n",
              "      <td>[224639, 227465, 227466, 227467, 225078, 22508...</td>\n",
              "      <td>0.0</td>\n",
              "      <td>0</td>\n",
              "      <td>[451, 55, 56, 57, 544, 548, 552, 557, 564, 566...</td>\n",
              "    </tr>\n",
              "    <tr>\n",
              "      <th>30</th>\n",
              "      <td>285789.0</td>\n",
              "      <td>[128, 211, 212, 456, 467, 470, 550, 637, 646, ...</td>\n",
              "      <td>0.0</td>\n",
              "      <td>1</td>\n",
              "      <td>[49, 90, 91, 156, 158, 160, 189, 225, 231, 247...</td>\n",
              "    </tr>\n",
              "    <tr>\n",
              "      <th>31</th>\n",
              "      <td>289236.0</td>\n",
              "      <td>[220179, 220180, 220181, 220045, 220210, 22027...</td>\n",
              "      <td>0.0</td>\n",
              "      <td>0</td>\n",
              "      <td>[409, 410, 411, 372, 416, 429, 372, 409, 410, ...</td>\n",
              "    </tr>\n",
              "    <tr>\n",
              "      <th>32</th>\n",
              "      <td>290513.0</td>\n",
              "      <td>[226531, 226512, 226707, 226730, 220224, 22023...</td>\n",
              "      <td>0.0</td>\n",
              "      <td>0</td>\n",
              "      <td>[437, 436, 460, 462, 418, 422, 206, 506, 143, ...</td>\n",
              "    </tr>\n",
              "    <tr>\n",
              "      <th>33</th>\n",
              "      <td>291067.0</td>\n",
              "      <td>[220046, 220047, 220277, 223751, 223752, 22376...</td>\n",
              "      <td>0.0</td>\n",
              "      <td>0</td>\n",
              "      <td>[373, 374, 429, 171, 172, 179, 183, 184, 209, ...</td>\n",
              "    </tr>\n",
              "    <tr>\n",
              "      <th>34</th>\n",
              "      <td>293178.0</td>\n",
              "      <td>[220224, 220235, 223830, 224828, 225698, 22746...</td>\n",
              "      <td>0.0</td>\n",
              "      <td>1</td>\n",
              "      <td>[418, 422, 206, 506, 143, 55, 56, 57, 372, 416...</td>\n",
              "    </tr>\n",
              "    <tr>\n",
              "      <th>35</th>\n",
              "      <td>293363.0</td>\n",
              "      <td>[220277, 220179, 220180, 220181, 220045, 22004...</td>\n",
              "      <td>0.0</td>\n",
              "      <td>0</td>\n",
              "      <td>[429, 409, 410, 411, 372, 373, 374, 399, 400, ...</td>\n",
              "    </tr>\n",
              "    <tr>\n",
              "      <th>36</th>\n",
              "      <td>293429.0</td>\n",
              "      <td>[224639, 220045, 220210, 220277, 220179, 22018...</td>\n",
              "      <td>1.0</td>\n",
              "      <td>1</td>\n",
              "      <td>[451, 372, 416, 429, 409, 410, 411, 376, 377, ...</td>\n",
              "    </tr>\n",
              "    <tr>\n",
              "      <th>37</th>\n",
              "      <td>295741.0</td>\n",
              "      <td>[39, 40, 50, 131, 190, 218, 219, 417, 434, 444...</td>\n",
              "      <td>0.0</td>\n",
              "      <td>0</td>\n",
              "      <td>[20, 21, 26, 53, 80, 94, 95, 142, 149, 150, 15...</td>\n",
              "    </tr>\n",
              "    <tr>\n",
              "      <th>38</th>\n",
              "      <td>296804.0</td>\n",
              "      <td>[52, 677, 678, 1125, 27, 52, 80, 130, 137, 154...</td>\n",
              "      <td>0.0</td>\n",
              "      <td>0</td>\n",
              "      <td>[25, 250, 253, 424, 12, 25, 35, 52, 58, 66, 69...</td>\n",
              "    </tr>\n",
              "  </tbody>\n",
              "</table>\n",
              "</div>\n",
              "      <button class=\"colab-df-convert\" onclick=\"convertToInteractive('df-c1222585-7903-48ff-b9f2-41f81c5da565')\"\n",
              "              title=\"Convert this dataframe to an interactive table.\"\n",
              "              style=\"display:none;\">\n",
              "        \n",
              "  <svg xmlns=\"http://www.w3.org/2000/svg\" height=\"24px\"viewBox=\"0 0 24 24\"\n",
              "       width=\"24px\">\n",
              "    <path d=\"M0 0h24v24H0V0z\" fill=\"none\"/>\n",
              "    <path d=\"M18.56 5.44l.94 2.06.94-2.06 2.06-.94-2.06-.94-.94-2.06-.94 2.06-2.06.94zm-11 1L8.5 8.5l.94-2.06 2.06-.94-2.06-.94L8.5 2.5l-.94 2.06-2.06.94zm10 10l.94 2.06.94-2.06 2.06-.94-2.06-.94-.94-2.06-.94 2.06-2.06.94z\"/><path d=\"M17.41 7.96l-1.37-1.37c-.4-.4-.92-.59-1.43-.59-.52 0-1.04.2-1.43.59L10.3 9.45l-7.72 7.72c-.78.78-.78 2.05 0 2.83L4 21.41c.39.39.9.59 1.41.59.51 0 1.02-.2 1.41-.59l7.78-7.78 2.81-2.81c.8-.78.8-2.07 0-2.86zM5.41 20L4 18.59l7.72-7.72 1.47 1.35L5.41 20z\"/>\n",
              "  </svg>\n",
              "      </button>\n",
              "      \n",
              "  <style>\n",
              "    .colab-df-container {\n",
              "      display:flex;\n",
              "      flex-wrap:wrap;\n",
              "      gap: 12px;\n",
              "    }\n",
              "\n",
              "    .colab-df-convert {\n",
              "      background-color: #E8F0FE;\n",
              "      border: none;\n",
              "      border-radius: 50%;\n",
              "      cursor: pointer;\n",
              "      display: none;\n",
              "      fill: #1967D2;\n",
              "      height: 32px;\n",
              "      padding: 0 0 0 0;\n",
              "      width: 32px;\n",
              "    }\n",
              "\n",
              "    .colab-df-convert:hover {\n",
              "      background-color: #E2EBFA;\n",
              "      box-shadow: 0px 1px 2px rgba(60, 64, 67, 0.3), 0px 1px 3px 1px rgba(60, 64, 67, 0.15);\n",
              "      fill: #174EA6;\n",
              "    }\n",
              "\n",
              "    [theme=dark] .colab-df-convert {\n",
              "      background-color: #3B4455;\n",
              "      fill: #D2E3FC;\n",
              "    }\n",
              "\n",
              "    [theme=dark] .colab-df-convert:hover {\n",
              "      background-color: #434B5C;\n",
              "      box-shadow: 0px 1px 3px 1px rgba(0, 0, 0, 0.15);\n",
              "      filter: drop-shadow(0px 1px 2px rgba(0, 0, 0, 0.3));\n",
              "      fill: #FFFFFF;\n",
              "    }\n",
              "  </style>\n",
              "\n",
              "      <script>\n",
              "        const buttonEl =\n",
              "          document.querySelector('#df-c1222585-7903-48ff-b9f2-41f81c5da565 button.colab-df-convert');\n",
              "        buttonEl.style.display =\n",
              "          google.colab.kernel.accessAllowed ? 'block' : 'none';\n",
              "\n",
              "        async function convertToInteractive(key) {\n",
              "          const element = document.querySelector('#df-c1222585-7903-48ff-b9f2-41f81c5da565');\n",
              "          const dataTable =\n",
              "            await google.colab.kernel.invokeFunction('convertToInteractive',\n",
              "                                                     [key], {});\n",
              "          if (!dataTable) return;\n",
              "\n",
              "          const docLinkHtml = 'Like what you see? Visit the ' +\n",
              "            '<a target=\"_blank\" href=https://colab.research.google.com/notebooks/data_table.ipynb>data table notebook</a>'\n",
              "            + ' to learn more about interactive tables.';\n",
              "          element.innerHTML = '';\n",
              "          dataTable['output_type'] = 'display_data';\n",
              "          await google.colab.output.renderOutput(dataTable, element);\n",
              "          const docLink = document.createElement('div');\n",
              "          docLink.innerHTML = docLinkHtml;\n",
              "          element.appendChild(docLink);\n",
              "        }\n",
              "      </script>\n",
              "    </div>\n",
              "  </div>\n",
              "  "
            ]
          },
          "metadata": {},
          "execution_count": 51
        }
      ]
    },
    {
      "cell_type": "code",
      "metadata": {
        "colab": {
          "base_uri": "https://localhost:8080/"
        },
        "id": "T-CFi9kioxbv",
        "outputId": "63140155-b523-48aa-c539-1daa05595539"
      },
      "source": [
        "#Train & Test set split.\n",
        "\n",
        "print('Split by fold ... fold = 0 -> train   fold = 1 -> test')\n",
        "X_train = np.array(df_last[df_last['fold']==0]['item_index'].to_list()).astype('int16')\n",
        "X_test = np.array(df_last[df_last['fold']==1]['item_index'].to_list()).astype('int16')\n",
        "y_train = np.array(df_last[df_last['fold']==0]['y']).astype('int16')\n",
        "y_test = np.array(df_last[df_last['fold']==1]['y']).astype('int16')"
      ],
      "execution_count": 52,
      "outputs": [
        {
          "output_type": "stream",
          "name": "stdout",
          "text": [
            "Split by fold ... fold = 0 -> train   fold = 1 -> test\n"
          ]
        }
      ]
    },
    {
      "cell_type": "code",
      "metadata": {
        "colab": {
          "base_uri": "https://localhost:8080/"
        },
        "id": "rNID79HLoxbv",
        "outputId": "fc363434-ce19-4e41-c083-7c394f0219e3"
      },
      "source": [
        "print('X_train total numbers : ',len(X_train) )\n",
        "print('X_test total numbers : ',len(X_test) )\n",
        "print('y_train total numbers : ',len(y_train), '  Dead (y_label) == 1   : ',sum(y_train ==1), '  Survive (y_label) == 0  : ', sum(y_train ==0))\n",
        "print('y_test total numbers : ',len(y_test), '  Dead (y_label) == 1  : ', sum(y_test ==1), '  Survive (y_label) == 0  : ', sum(y_test ==0))"
      ],
      "execution_count": 53,
      "outputs": [
        {
          "output_type": "stream",
          "name": "stdout",
          "text": [
            "X_train total numbers :  33\n",
            "X_test total numbers :  6\n",
            "y_train total numbers :  33   Dead (y_label) == 1   :  3   Survive (y_label) == 0  :  30\n",
            "y_test total numbers :  6   Dead (y_label) == 1  :  1   Survive (y_label) == 0  :  5\n"
          ]
        }
      ]
    },
    {
      "cell_type": "code",
      "metadata": {
        "colab": {
          "base_uri": "https://localhost:8080/"
        },
        "id": "hFI-ANbwt3_0",
        "outputId": "5ed9c431-5cb1-47f1-950c-8072421fe108"
      },
      "source": [
        "y_train"
      ],
      "execution_count": 54,
      "outputs": [
        {
          "output_type": "execute_result",
          "data": {
            "text/plain": [
              "array([0, 0, 0, 0, 0, 0, 0, 0, 0, 1, 1, 0, 0, 0, 0, 0, 0, 0, 0, 0, 0, 0,\n",
              "       0, 0, 1, 0, 0, 0, 0, 0, 0, 0, 0], dtype=int16)"
            ]
          },
          "metadata": {},
          "execution_count": 54
        }
      ]
    },
    {
      "cell_type": "code",
      "metadata": {
        "colab": {
          "base_uri": "https://localhost:8080/"
        },
        "id": "GXvP-tTeoxbv",
        "outputId": "4f2129dc-b49c-47fa-8a1d-f1760980b342"
      },
      "source": [
        "print('Save numpy input files !')\n",
        "np.save('X_train_demo.npy', X_train)\n",
        "np.save('X_test_demo.npy', X_test)\n",
        "np.save('y_train_demo.npy', y_train)\n",
        "np.save('y_test_demo.npy', y_test)"
      ],
      "execution_count": 55,
      "outputs": [
        {
          "output_type": "stream",
          "name": "stdout",
          "text": [
            "Save numpy input files !\n"
          ]
        }
      ]
    },
    {
      "cell_type": "markdown",
      "source": [
        "# Preproess Finish! 😀\n",
        "# Now we can train RNN model.\n",
        "# We will load pre-processed data from original dataset."
      ],
      "metadata": {
        "id": "VaqnnX5rIF0z"
      }
    },
    {
      "cell_type": "markdown",
      "metadata": {
        "id": "zNURZUnZoxbv"
      },
      "source": [
        "# Model pipline"
      ]
    },
    {
      "cell_type": "code",
      "metadata": {
        "id": "PhfKLmpyoxbv"
      },
      "source": [
        "del df_icu, df_add, df_char"
      ],
      "execution_count": 56,
      "outputs": []
    },
    {
      "cell_type": "code",
      "metadata": {
        "colab": {
          "base_uri": "https://localhost:8080/"
        },
        "id": "VIVJkm6qo4Zo",
        "outputId": "c9cb98a0-f298-4b72-de46-f7efc034017a"
      },
      "source": [
        "# Full dataset preprocessed numpy download\n",
        "!wget https://www.dropbox.com/s/6cbfqgq1ya9hxy9/X_train.npy\n",
        "!wget https://www.dropbox.com/s/66uky8qzebgh6ws/X_test.npy\n",
        "!wget https://www.dropbox.com/s/lndvvajkf1ysawn/y_test.npy\n",
        "!wget https://www.dropbox.com/s/xf5sc3ivt6qnv3h/y_train.npy"
      ],
      "execution_count": 57,
      "outputs": [
        {
          "output_type": "stream",
          "name": "stdout",
          "text": [
            "--2022-08-12 19:31:39--  https://www.dropbox.com/s/6cbfqgq1ya9hxy9/X_train.npy\n",
            "Resolving www.dropbox.com (www.dropbox.com)... 162.125.1.18, 2620:100:6016:18::a27d:112\n",
            "Connecting to www.dropbox.com (www.dropbox.com)|162.125.1.18|:443... connected.\n",
            "HTTP request sent, awaiting response... 301 Moved Permanently\n",
            "Location: /s/raw/6cbfqgq1ya9hxy9/X_train.npy [following]\n",
            "--2022-08-12 19:31:39--  https://www.dropbox.com/s/raw/6cbfqgq1ya9hxy9/X_train.npy\n",
            "Reusing existing connection to www.dropbox.com:443.\n",
            "HTTP request sent, awaiting response... 302 Found\n",
            "Location: https://uc1d1f914473c3797cbcd5a1fe51.dl.dropboxusercontent.com/cd/0/inline/Bq7IjqEOuck2NRAgz-qAkwdqjHtKRg90XyODzI4qzt4wmj8Gli_jBOhtxY9AZz_yT-fP25B67gYCInX0xSrwnZi-g_5vFERmaS20pYqGDlAhVwbzbgiCsDAbKC5g72etQxG966fJyHOKFs3GMId5Lm8q9766-IEqQ64Hw5IUjUfsZw/file# [following]\n",
            "--2022-08-12 19:31:39--  https://uc1d1f914473c3797cbcd5a1fe51.dl.dropboxusercontent.com/cd/0/inline/Bq7IjqEOuck2NRAgz-qAkwdqjHtKRg90XyODzI4qzt4wmj8Gli_jBOhtxY9AZz_yT-fP25B67gYCInX0xSrwnZi-g_5vFERmaS20pYqGDlAhVwbzbgiCsDAbKC5g72etQxG966fJyHOKFs3GMId5Lm8q9766-IEqQ64Hw5IUjUfsZw/file\n",
            "Resolving uc1d1f914473c3797cbcd5a1fe51.dl.dropboxusercontent.com (uc1d1f914473c3797cbcd5a1fe51.dl.dropboxusercontent.com)... 162.125.1.15, 2620:100:6016:15::a27d:10f\n",
            "Connecting to uc1d1f914473c3797cbcd5a1fe51.dl.dropboxusercontent.com (uc1d1f914473c3797cbcd5a1fe51.dl.dropboxusercontent.com)|162.125.1.15|:443... connected.\n",
            "HTTP request sent, awaiting response... 302 Found\n",
            "Location: /cd/0/inline2/Bq4FB94m6cLavlQJsYyRsH6uOL2wAq1IcpzFUX7iBGcd8uevZjgZU87XBdut-9CmG4jL7gJZ0NFNsTYsuVfok-4r8PV7HpVo80m7vb6TjgLXkdNQAB3EbwuBbtDmrW7h5qkIHdoQaEzyQr5f2SpsdXnFRJ3GIifO6XyaGKbBaxPRJ7rUgIfGvsg4GmSItmw-eR2q5yu3vVf6fyx5GKq-4CLuMdWA1H3m1m4a2sgnaBbzwQarhQbcIewJVI2sGZMWjW831F-bLw55K7mWp-fgVYzHngbpRPFb6WzxPsIGwAnhCOqOW5puJYjravNfrzxP-HIF0aEOt3zQkJpIWDFyTqLZcWmstII0Z1L5lyVg-f7y5zeaQKGfIXrN-2cwW_RJ-lTIXVf8fD8WxIFPvg0i4RCYB_NQK0EqMGR9SSK8MFTDpw/file [following]\n",
            "--2022-08-12 19:31:40--  https://uc1d1f914473c3797cbcd5a1fe51.dl.dropboxusercontent.com/cd/0/inline2/Bq4FB94m6cLavlQJsYyRsH6uOL2wAq1IcpzFUX7iBGcd8uevZjgZU87XBdut-9CmG4jL7gJZ0NFNsTYsuVfok-4r8PV7HpVo80m7vb6TjgLXkdNQAB3EbwuBbtDmrW7h5qkIHdoQaEzyQr5f2SpsdXnFRJ3GIifO6XyaGKbBaxPRJ7rUgIfGvsg4GmSItmw-eR2q5yu3vVf6fyx5GKq-4CLuMdWA1H3m1m4a2sgnaBbzwQarhQbcIewJVI2sGZMWjW831F-bLw55K7mWp-fgVYzHngbpRPFb6WzxPsIGwAnhCOqOW5puJYjravNfrzxP-HIF0aEOt3zQkJpIWDFyTqLZcWmstII0Z1L5lyVg-f7y5zeaQKGfIXrN-2cwW_RJ-lTIXVf8fD8WxIFPvg0i4RCYB_NQK0EqMGR9SSK8MFTDpw/file\n",
            "Reusing existing connection to uc1d1f914473c3797cbcd5a1fe51.dl.dropboxusercontent.com:443.\n",
            "HTTP request sent, awaiting response... 200 OK\n",
            "Length: 2391328 (2.3M) [application/octet-stream]\n",
            "Saving to: ‘X_train.npy’\n",
            "\n",
            "X_train.npy         100%[===================>]   2.28M  --.-KB/s    in 0.06s   \n",
            "\n",
            "2022-08-12 19:31:40 (41.5 MB/s) - ‘X_train.npy’ saved [2391328/2391328]\n",
            "\n",
            "--2022-08-12 19:31:40--  https://www.dropbox.com/s/66uky8qzebgh6ws/X_test.npy\n",
            "Resolving www.dropbox.com (www.dropbox.com)... 162.125.1.18, 2620:100:6016:18::a27d:112\n",
            "Connecting to www.dropbox.com (www.dropbox.com)|162.125.1.18|:443... connected.\n",
            "HTTP request sent, awaiting response... 301 Moved Permanently\n",
            "Location: /s/raw/66uky8qzebgh6ws/X_test.npy [following]\n",
            "--2022-08-12 19:31:40--  https://www.dropbox.com/s/raw/66uky8qzebgh6ws/X_test.npy\n",
            "Reusing existing connection to www.dropbox.com:443.\n",
            "HTTP request sent, awaiting response... 302 Found\n",
            "Location: https://uc4faf48868122e3bc62252d0617.dl.dropboxusercontent.com/cd/0/inline/Bq6P9K3mzeVFQOx5bSH1Na_Ts-q0chW7bR566JwWF_2YEFTOaytTlbrFtNYvyNTacyQ-FsAw_46A2xEssXlKs9CheQkHYUJ9YD-97_Oe1fn1S2krQzFzgu-WaCnjrKl11hj_mRgT0vkBwb4Pixu9O4lyp9ogkfIba-B1Icn6CcP1ZA/file# [following]\n",
            "--2022-08-12 19:31:41--  https://uc4faf48868122e3bc62252d0617.dl.dropboxusercontent.com/cd/0/inline/Bq6P9K3mzeVFQOx5bSH1Na_Ts-q0chW7bR566JwWF_2YEFTOaytTlbrFtNYvyNTacyQ-FsAw_46A2xEssXlKs9CheQkHYUJ9YD-97_Oe1fn1S2krQzFzgu-WaCnjrKl11hj_mRgT0vkBwb4Pixu9O4lyp9ogkfIba-B1Icn6CcP1ZA/file\n",
            "Resolving uc4faf48868122e3bc62252d0617.dl.dropboxusercontent.com (uc4faf48868122e3bc62252d0617.dl.dropboxusercontent.com)... 162.125.1.15, 2620:100:6016:15::a27d:10f\n",
            "Connecting to uc4faf48868122e3bc62252d0617.dl.dropboxusercontent.com (uc4faf48868122e3bc62252d0617.dl.dropboxusercontent.com)|162.125.1.15|:443... connected.\n",
            "HTTP request sent, awaiting response... 302 Found\n",
            "Location: /cd/0/inline2/Bq6IebrefQVwFcQIWmPqnFxB_CaInLBcXA1xDKG-0aCZhFNheY3EJVonoPi4GEkm-7LpKUOwX9PoyX-ksaOqXmDxVCahyYRTMHwH4LEH83BtJoX8RT3xik98dJNuQRwSCfH5uztomVYpxVoIh9Lg9THGa6CEIJQ_YUDbKMBIrlqbCoKiZ8Qe70Fy2RD1MNZzVzt_9RbTMwIP9P3exsFB4pkpmEYIWuN4Wv3dqV_m1j9EoMbFeRUC8RxI4-BBPlFnJE2z1uUYDJjESWv2Umgkp768H6_zhO5r0t0OzAjRlSxw5BTF-L2ccCGXoHSD4dLBL_fBBgA0LN9S3cl8aORQgQ1iV8AZSveghoHGD86NndbcijO-nGMR33A55MlICm2aUcX86i0xXsi0MqEq6xzIKiDAnVABCWNs27AffvZe_foChw/file [following]\n",
            "--2022-08-12 19:31:41--  https://uc4faf48868122e3bc62252d0617.dl.dropboxusercontent.com/cd/0/inline2/Bq6IebrefQVwFcQIWmPqnFxB_CaInLBcXA1xDKG-0aCZhFNheY3EJVonoPi4GEkm-7LpKUOwX9PoyX-ksaOqXmDxVCahyYRTMHwH4LEH83BtJoX8RT3xik98dJNuQRwSCfH5uztomVYpxVoIh9Lg9THGa6CEIJQ_YUDbKMBIrlqbCoKiZ8Qe70Fy2RD1MNZzVzt_9RbTMwIP9P3exsFB4pkpmEYIWuN4Wv3dqV_m1j9EoMbFeRUC8RxI4-BBPlFnJE2z1uUYDJjESWv2Umgkp768H6_zhO5r0t0OzAjRlSxw5BTF-L2ccCGXoHSD4dLBL_fBBgA0LN9S3cl8aORQgQ1iV8AZSveghoHGD86NndbcijO-nGMR33A55MlICm2aUcX86i0xXsi0MqEq6xzIKiDAnVABCWNs27AffvZe_foChw/file\n",
            "Reusing existing connection to uc4faf48868122e3bc62252d0617.dl.dropboxusercontent.com:443.\n",
            "HTTP request sent, awaiting response... 200 OK\n",
            "Length: 653728 (638K) [application/octet-stream]\n",
            "Saving to: ‘X_test.npy’\n",
            "\n",
            "X_test.npy          100%[===================>] 638.41K  --.-KB/s    in 0.04s   \n",
            "\n",
            "2022-08-12 19:31:41 (15.5 MB/s) - ‘X_test.npy’ saved [653728/653728]\n",
            "\n",
            "--2022-08-12 19:31:42--  https://www.dropbox.com/s/lndvvajkf1ysawn/y_test.npy\n",
            "Resolving www.dropbox.com (www.dropbox.com)... 162.125.1.18, 2620:100:6016:18::a27d:112\n",
            "Connecting to www.dropbox.com (www.dropbox.com)|162.125.1.18|:443... connected.\n",
            "HTTP request sent, awaiting response... 301 Moved Permanently\n",
            "Location: /s/raw/lndvvajkf1ysawn/y_test.npy [following]\n",
            "--2022-08-12 19:31:42--  https://www.dropbox.com/s/raw/lndvvajkf1ysawn/y_test.npy\n",
            "Reusing existing connection to www.dropbox.com:443.\n",
            "HTTP request sent, awaiting response... 302 Found\n",
            "Location: https://uc20b82aeaaaaa7534074033a804.dl.dropboxusercontent.com/cd/0/inline/Bq5C9vhz25bIhmJIk-xiUWXJth71urMa_B9VbSZ-zvG04nC-rZEYGGyI8KU2UXNupmZKptclDOUC_Sq0-h2y2IPffx2aD0O4qGd2lT4DPt7oIeYE--x864K7ljo1Y6RczW3YE_nPYDjR1rVOApLO20_zxCP6YrX3Vi6NQghelaWZ0Q/file# [following]\n",
            "--2022-08-12 19:31:42--  https://uc20b82aeaaaaa7534074033a804.dl.dropboxusercontent.com/cd/0/inline/Bq5C9vhz25bIhmJIk-xiUWXJth71urMa_B9VbSZ-zvG04nC-rZEYGGyI8KU2UXNupmZKptclDOUC_Sq0-h2y2IPffx2aD0O4qGd2lT4DPt7oIeYE--x864K7ljo1Y6RczW3YE_nPYDjR1rVOApLO20_zxCP6YrX3Vi6NQghelaWZ0Q/file\n",
            "Resolving uc20b82aeaaaaa7534074033a804.dl.dropboxusercontent.com (uc20b82aeaaaaa7534074033a804.dl.dropboxusercontent.com)... 162.125.1.15, 2620:100:6016:15::a27d:10f\n",
            "Connecting to uc20b82aeaaaaa7534074033a804.dl.dropboxusercontent.com (uc20b82aeaaaaa7534074033a804.dl.dropboxusercontent.com)|162.125.1.15|:443... connected.\n",
            "HTTP request sent, awaiting response... 200 OK\n",
            "Length: 6664 (6.5K) [text/plain]\n",
            "Saving to: ‘y_test.npy’\n",
            "\n",
            "y_test.npy          100%[===================>]   6.51K  --.-KB/s    in 0s      \n",
            "\n",
            "2022-08-12 19:31:43 (783 MB/s) - ‘y_test.npy’ saved [6664/6664]\n",
            "\n",
            "--2022-08-12 19:31:43--  https://www.dropbox.com/s/xf5sc3ivt6qnv3h/y_train.npy\n",
            "Resolving www.dropbox.com (www.dropbox.com)... 162.125.1.18, 2620:100:6016:18::a27d:112\n",
            "Connecting to www.dropbox.com (www.dropbox.com)|162.125.1.18|:443... connected.\n",
            "HTTP request sent, awaiting response... 301 Moved Permanently\n",
            "Location: /s/raw/xf5sc3ivt6qnv3h/y_train.npy [following]\n",
            "--2022-08-12 19:31:43--  https://www.dropbox.com/s/raw/xf5sc3ivt6qnv3h/y_train.npy\n",
            "Reusing existing connection to www.dropbox.com:443.\n",
            "HTTP request sent, awaiting response... 302 Found\n",
            "Location: https://ucedf3fe5dde894e454ccd4a1bb1.dl.dropboxusercontent.com/cd/0/inline/Bq6bIpDHpoDdEDwgGFcUCRmNF2eeXC3erjTU15AvnXLAsTiIz1aGecGwmY0rI4bUxKowaIGBsH00Xy_p-Br7MFyYfYWwRoKrqk2OCZsuBexyXdGfa95k5ifLgPLHR8MtpDZzZecomYbwovu15etf1askSD6cCF_8313bBmft5qKuZQ/file# [following]\n",
            "--2022-08-12 19:31:43--  https://ucedf3fe5dde894e454ccd4a1bb1.dl.dropboxusercontent.com/cd/0/inline/Bq6bIpDHpoDdEDwgGFcUCRmNF2eeXC3erjTU15AvnXLAsTiIz1aGecGwmY0rI4bUxKowaIGBsH00Xy_p-Br7MFyYfYWwRoKrqk2OCZsuBexyXdGfa95k5ifLgPLHR8MtpDZzZecomYbwovu15etf1askSD6cCF_8313bBmft5qKuZQ/file\n",
            "Resolving ucedf3fe5dde894e454ccd4a1bb1.dl.dropboxusercontent.com (ucedf3fe5dde894e454ccd4a1bb1.dl.dropboxusercontent.com)... 162.125.1.15, 2620:100:6016:15::a27d:10f\n",
            "Connecting to ucedf3fe5dde894e454ccd4a1bb1.dl.dropboxusercontent.com (ucedf3fe5dde894e454ccd4a1bb1.dl.dropboxusercontent.com)|162.125.1.15|:443... connected.\n",
            "HTTP request sent, awaiting response... 200 OK\n",
            "Length: 24040 (23K) [text/plain]\n",
            "Saving to: ‘y_train.npy’\n",
            "\n",
            "y_train.npy         100%[===================>]  23.48K  --.-KB/s    in 0.007s  \n",
            "\n",
            "2022-08-12 19:31:44 (3.16 MB/s) - ‘y_train.npy’ saved [24040/24040]\n",
            "\n"
          ]
        }
      ]
    },
    {
      "cell_type": "code",
      "metadata": {
        "id": "dRcJ3QF-oxbv"
      },
      "source": [
        "X_train = np.load('./X_train.npy')\n",
        "y_train = np.load('./y_train.npy')\n",
        "X_test = np.load('./X_test.npy')\n",
        "y_test = np.load('./y_test.npy')"
      ],
      "execution_count": 58,
      "outputs": []
    },
    {
      "cell_type": "code",
      "metadata": {
        "colab": {
          "base_uri": "https://localhost:8080/"
        },
        "id": "rJNuP4K7oxbv",
        "outputId": "24492644-7d11-4291-a422-3eaac9beeb38"
      },
      "source": [
        "X_train"
      ],
      "execution_count": 59,
      "outputs": [
        {
          "output_type": "execute_result",
          "data": {
            "text/plain": [
              "array([[1763, 1893, 1971, ...,  806,  807,  813],\n",
              "       [1151, 1845, 2163, ..., 1088, 1089, 1090],\n",
              "       [ 477,  507,  529, ...,  828, 2201,   38],\n",
              "       ...,\n",
              "       [ 113,  115,  164, ...,  510,  511,  512],\n",
              "       [2211, 2212, 2213, ..., 1004, 1005, 1014],\n",
              "       [ 473,  503,  504, ...,  390,  603,  604]], dtype=int16)"
            ]
          },
          "metadata": {},
          "execution_count": 59
        }
      ]
    },
    {
      "cell_type": "code",
      "metadata": {
        "colab": {
          "base_uri": "https://localhost:8080/"
        },
        "id": "nPvrLKuAoxbw",
        "outputId": "ae12bd26-e2b3-467e-c3a5-c42b2ba2908d"
      },
      "source": [
        "y_train"
      ],
      "execution_count": 60,
      "outputs": [
        {
          "output_type": "execute_result",
          "data": {
            "text/plain": [
              "array([0, 0, 0, ..., 0, 0, 0], dtype=int16)"
            ]
          },
          "metadata": {},
          "execution_count": 60
        }
      ]
    },
    {
      "cell_type": "code",
      "metadata": {
        "colab": {
          "base_uri": "https://localhost:8080/"
        },
        "id": "v-K1A3Vgoxbw",
        "outputId": "de6d8288-84e2-4496-cdcc-9f1d9b577d86"
      },
      "source": [
        "print('X_train total numbers : ',len(X_train) )\n",
        "print('X_test total numbers : ',len(X_test) )\n",
        "print('y_train total numbers : ',len(y_train), '  Dead (y_label) == 1   : ',sum(y_train ==1), '  Survive (y_label) == 0  : ', sum(y_train ==0))\n",
        "print('y_test total numbers : ',len(y_test), '  Dead (y_label) == 1  : ', sum(y_test ==1), '  Survive (y_label) == 0  : ', sum(y_test ==0))"
      ],
      "execution_count": 61,
      "outputs": [
        {
          "output_type": "stream",
          "name": "stdout",
          "text": [
            "X_train total numbers :  11956\n",
            "X_test total numbers :  3268\n",
            "y_train total numbers :  11956   Dead (y_label) == 1   :  507   Survive (y_label) == 0  :  11449\n",
            "y_test total numbers :  3268   Dead (y_label) == 1  :  138   Survive (y_label) == 0  :  3130\n"
          ]
        }
      ]
    },
    {
      "cell_type": "markdown",
      "metadata": {
        "id": "iveen5D-oxbw"
      },
      "source": [
        "# Data split for evaluation set\n",
        "\n",
        "### k-fold stratified split; we can consider class imbalance.\n"
      ]
    },
    {
      "cell_type": "code",
      "metadata": {
        "id": "CpjcAJ__oxbw"
      },
      "source": [
        "from sklearn.model_selection import StratifiedShuffleSplit"
      ],
      "execution_count": 62,
      "outputs": []
    },
    {
      "cell_type": "code",
      "metadata": {
        "colab": {
          "base_uri": "https://localhost:8080/"
        },
        "id": "HcLGbSR3oxbw",
        "outputId": "9e24a7ab-f1d4-402d-bc9b-74c62ab41bd6"
      },
      "source": [
        "sss = StratifiedShuffleSplit(n_splits=5, random_state=2020)\n",
        "for train_index, valid_index in sss.split(X_train, y_train):\n",
        "    print(\"TRAIN:\", train_index, \"valid:\", valid_index)\n",
        "    X_train, X_valid = X_train[train_index], X_train[valid_index]\n",
        "    y_train, y_valid = y_train[train_index], y_train[valid_index]\n",
        "    break"
      ],
      "execution_count": 63,
      "outputs": [
        {
          "output_type": "stream",
          "name": "stdout",
          "text": [
            "TRAIN: [3174 8232 7380 ... 2864 7503 3422] valid: [10957 10503  3503 ...  1200 11460  5508]\n"
          ]
        }
      ]
    },
    {
      "cell_type": "code",
      "metadata": {
        "id": "f02omfCfoxbw"
      },
      "source": [
        "data = {'X_train' : X_train, \n",
        "           'y_train' : y_train,\n",
        "           'X_valid' : X_valid,\n",
        "           'y_valid' : y_valid,\n",
        "           'X_test' : X_test,\n",
        "           'y_test' : y_test\n",
        "          }"
      ],
      "execution_count": 64,
      "outputs": []
    },
    {
      "cell_type": "code",
      "metadata": {
        "colab": {
          "base_uri": "https://localhost:8080/"
        },
        "id": "AnY8jwMAoxbx",
        "outputId": "dfd19c6f-ec68-4ce8-c54e-b963c8433eeb"
      },
      "source": [
        "print('X_train.shape ', X_train.shape)\n",
        "print('y_train.shape ', y_train.shape)\n",
        "print('X_valid.shape ', X_valid.shape)\n",
        "print('y_valid.shape, ', y_valid.shape)\n",
        "print('X_test.shape ', X_test.shape)\n",
        "print('y_test.shape ', y_test.shape)"
      ],
      "execution_count": 65,
      "outputs": [
        {
          "output_type": "stream",
          "name": "stdout",
          "text": [
            "X_train.shape  (10760, 100)\n",
            "y_train.shape  (10760,)\n",
            "X_valid.shape  (1196, 100)\n",
            "y_valid.shape,  (1196,)\n",
            "X_test.shape  (3268, 100)\n",
            "y_test.shape  (3268,)\n"
          ]
        }
      ]
    },
    {
      "cell_type": "markdown",
      "metadata": {
        "id": "XjbpR-deoxbx"
      },
      "source": [
        "# Config"
      ]
    },
    {
      "cell_type": "code",
      "metadata": {
        "id": "RKbO2LUsoxbx"
      },
      "source": [
        "import easydict"
      ],
      "execution_count": 66,
      "outputs": []
    },
    {
      "cell_type": "code",
      "metadata": {
        "id": "NgypHJ5Koxbx"
      },
      "source": [
        "config= easydict.EasyDict({'rnn_model':'LSTM',\n",
        "                            'n_epoch': 10,\n",
        "                            'batch_size': 32,\n",
        "                            'lr':1e-4,\n",
        "                           'save_dir':'./',\n",
        "                           'vocab_size':2288, # original dataset vocab size.\n",
        "                           'embed_dim' : 128,\n",
        "                           'hidden_dim' : 256,\n",
        "                           'n_layers' : 1,\n",
        "                           'dropout' : 0.3\n",
        "        })"
      ],
      "execution_count": 67,
      "outputs": []
    },
    {
      "cell_type": "code",
      "metadata": {
        "id": "-rhPK0LMoxbx"
      },
      "source": [
        "import torch\n",
        "import torch.nn as nn\n",
        "from torch.utils.data import DataLoader, Dataset\n",
        "from sklearn.metrics import roc_auc_score, average_precision_score\n",
        "import tqdm"
      ],
      "execution_count": 68,
      "outputs": []
    },
    {
      "cell_type": "markdown",
      "metadata": {
        "id": "ZbW6q7nroxbx"
      },
      "source": [
        "# Dataset"
      ]
    },
    {
      "cell_type": "code",
      "metadata": {
        "id": "Do-3ZKg4oxbx"
      },
      "source": [
        "class EHRDataset(Dataset):\n",
        "    def __init__(self, data, data_type):\n",
        "        \n",
        "        if data_type =='train':\n",
        "            self.X = data['X_train']\n",
        "            self.y = data['y_train']\n",
        "            \n",
        "        elif data_type =='valid':\n",
        "            self.X = data['X_valid']\n",
        "            self.y = data['y_valid']\n",
        "            \n",
        "        elif data_type =='test':\n",
        "            self.X = data['X_test']\n",
        "            self.y = data['y_test']\n",
        "                      \n",
        "        assert len(self.X) ==len(self.y), \"length should be same between input and label\"\n",
        "        \n",
        "        self.X = torch.LongTensor(self.X)\n",
        "        self.y = torch.Tensor(self.y)\n",
        "        \n",
        "    def __len__(self):\n",
        "        return len(self.y)\n",
        "\n",
        "    def __getitem__(self, index):\n",
        "        X = self.X[index]\n",
        "        y = self.y[index]\n",
        "        \n",
        "        return {\n",
        "                'X': X,\n",
        "                'y_target': y\n",
        "                }"
      ],
      "execution_count": 69,
      "outputs": []
    },
    {
      "cell_type": "markdown",
      "metadata": {
        "id": "ffE2lNVmoxby"
      },
      "source": [
        "# Model"
      ]
    },
    {
      "cell_type": "code",
      "metadata": {
        "id": "rgiqkFNyoxby"
      },
      "source": [
        "class RNNModel(nn.Module):\n",
        "    def __init__(self, config):\n",
        "        super(RNNModel, self).__init__()\n",
        "\n",
        "        #zero-padding is ignored if padding_idx is set to 0.\n",
        "        self.embedding = nn.Embedding(num_embeddings=config.vocab_size, embedding_dim=config.embed_dim, padding_idx=0)\n",
        "        \n",
        "        self.RNN = nn.LSTM(input_size=config.embed_dim, \n",
        "                          hidden_size=config.hidden_dim, \n",
        "                          num_layers=config.n_layers,\n",
        "                          dropout=config.dropout,\n",
        "                          bidirectional=False,\n",
        "                          batch_first=True)\n",
        "        # sigmoid + bce loss => predicting death or survival        \n",
        "        self.linear = nn.Linear(config.hidden_dim, 1)\n",
        "        self.sigmoid = nn.Sigmoid()\n",
        "        \n",
        "    def forward(self, x):\n",
        "        # 32 samples (batch), 100 sequence length (32, 100)\n",
        "        x = self.embedding(x) # (32, 100, 128)\n",
        "        hidden, _ = self.RNN(x) \n",
        "        output = hidden[:, -1, :] #get final hidden layer following the sequence.\n",
        "        output = self.linear(output)\n",
        "        output = self.sigmoid(output) #(32, 1)\n",
        "        output = output.squeeze(dim=1) #(32)          \n",
        "        return output # out.shape (batch, 1)\n",
        "        "
      ],
      "execution_count": 70,
      "outputs": []
    },
    {
      "cell_type": "code",
      "metadata": {
        "id": "t61pXwcLoxby"
      },
      "source": [
        "def count_parameters(model):\n",
        "    return sum(p.numel() for p in model.parameters() if p.requires_grad)"
      ],
      "execution_count": 71,
      "outputs": []
    },
    {
      "cell_type": "code",
      "metadata": {
        "id": "w_5ep1b8oxby"
      },
      "source": [
        "#Device\n",
        "device = torch.device('cuda:0' if torch.cuda.is_available() else 'cpu')"
      ],
      "execution_count": 72,
      "outputs": []
    },
    {
      "cell_type": "code",
      "metadata": {
        "colab": {
          "base_uri": "https://localhost:8080/"
        },
        "id": "t8UVXg8rNZRc",
        "outputId": "60d24d0b-bd7b-4152-f8b7-7d4e1f71ad8f"
      },
      "source": [
        "device"
      ],
      "execution_count": 73,
      "outputs": [
        {
          "output_type": "execute_result",
          "data": {
            "text/plain": [
              "device(type='cuda', index=0)"
            ]
          },
          "metadata": {},
          "execution_count": 73
        }
      ]
    },
    {
      "cell_type": "code",
      "metadata": {
        "colab": {
          "base_uri": "https://localhost:8080/"
        },
        "id": "6ijennsOoxby",
        "outputId": "3d2bc38c-5ee3-474b-fb15-5daca29fdc94"
      },
      "source": [
        "#Dataset\n",
        "train_loader = DataLoader(EHRDataset(data, data_type = 'train'), batch_size=config.batch_size, num_workers = 8, shuffle=True)\n",
        "eval_loader = DataLoader(EHRDataset(data, data_type = 'valid'), batch_size=config.batch_size, num_workers = 8, shuffle=True)\n",
        "test_loader = DataLoader(EHRDataset(data, data_type = 'test'), batch_size=config.batch_size, num_workers = 8, shuffle=False)\n",
        "\n",
        "print('test dataloader total data number ', len(test_loader)*config.batch_size)\n",
        "print('valid dataloader total data number ', len(eval_loader)*config.batch_size)\n",
        "print('train dataloader total data number ', len(train_loader)*config.batch_size)"
      ],
      "execution_count": 74,
      "outputs": [
        {
          "output_type": "stream",
          "name": "stdout",
          "text": [
            "test dataloader total data number  3296\n",
            "valid dataloader total data number  1216\n",
            "train dataloader total data number  10784\n"
          ]
        }
      ]
    },
    {
      "cell_type": "code",
      "metadata": {
        "colab": {
          "base_uri": "https://localhost:8080/"
        },
        "id": "H9qQEd0Hoxbz",
        "outputId": "5a3db200-98ef-424a-ac47-da07392f18ba"
      },
      "source": [
        "#Save & Load path\n",
        "filename = f'Model_{config.rnn_model}_batch_{config.batch_size}_lr_{config.lr}'\n",
        "\n",
        "output_path = os.path.join(config.save_dir, filename)\n",
        "best_eval_path = output_path + '_best_auprc.pt'\n",
        "\n",
        "print('Model will be saved in {}'.format(output_path))\n",
        "\n",
        "#Model\n",
        "model = RNNModel(config).to(device)\n",
        "num_params = count_parameters(model)\n",
        "print('Number of parameters: {}'.format(num_params))\n",
        "\n",
        "#Loss\n",
        "criterion = nn.BCELoss() # binary classification -> binray cross entropy\n",
        "\n",
        "#Optimizer\n",
        "optimizer = torch.optim.Adam(model.parameters(), lr=config.lr)   # Adam optimizer\n"
      ],
      "execution_count": 75,
      "outputs": [
        {
          "output_type": "stream",
          "name": "stdout",
          "text": [
            "Model will be saved in ./Model_LSTM_batch_32_lr_0.0001\n",
            "Number of parameters: 688385\n"
          ]
        }
      ]
    },
    {
      "cell_type": "code",
      "metadata": {
        "colab": {
          "base_uri": "https://localhost:8080/"
        },
        "id": "tG_L_5Zwoxbz",
        "outputId": "c3576817-1033-4942-f710-a2ecfe1d99a5"
      },
      "source": [
        "#trainer\n",
        "best_eval_auprc = 0\n",
        "best_eval_auroc = 0\n",
        "train_auprc_log = []\n",
        "eval_auprc_log = []\n",
        "\n",
        "for n_epoch in range(1, config.n_epoch):  # total epoch with for loop\n",
        "    print(f'Train Epoch {n_epoch} start !')\n",
        "    preds_train = []\n",
        "    targets_train = []\n",
        "    avg_train_loss = 0.\n",
        "\n",
        "    model.train()  # model with train mode\n",
        "    \n",
        "    for iter, batch in enumerate(train_loader):\n",
        "        X= batch['X'].to(device)\n",
        "        y_target = batch['y_target'].to(device)  # to device\n",
        "        optimizer.zero_grad()  # optimzer reset\n",
        "\n",
        "        y_pred = model(X) # model foward \n",
        " \n",
        "        loss = criterion(y_pred, y_target)  # Binary cross entropy loss\n",
        "        loss.backward()  # backward for gradient computation\n",
        "        optimizer.step() # gradient decent step\n",
        "\n",
        "        avg_train_loss += loss.item() / len(train_loader)  # store loss term \n",
        "\n",
        "        probs_train = y_pred.detach().cpu().numpy() # detach predicted value from computation graph\n",
        "        preds_train += list(probs_train.flatten()) #  (B, 1) -> (B)\n",
        "        targets_train += list(y_target.detach().cpu().numpy().flatten()) # (B, 1) -> (B)         \n",
        "\n",
        "    auroc_train = roc_auc_score(targets_train, preds_train) # sklearn auroc matrix \n",
        "    auprc_train = average_precision_score(targets_train, preds_train, average='micro') # sklearn auprc matrix       \n",
        "    \n",
        "    print('[Train]  loss: {:.3f},  auroc: {:.3f},   auprc: {:.3f}'.format(avg_train_loss, auroc_train, auprc_train))\n",
        "    train_auprc_log.append(auprc_train)\n",
        "    \n",
        "    # evaludtion \n",
        "    model.eval()  # model eval mode \n",
        "\n",
        "    preds_eval = []\n",
        "    targets_eval = []\n",
        "    avg_eval_loss = 0.\n",
        "\n",
        "    with torch.no_grad(): # No need to compute gradient \n",
        "        for iter, batch in enumerate(eval_loader):\n",
        "            X= batch['X'].to(device)\n",
        "            y_target = batch['y_target'].to(device) # to device\n",
        "\n",
        "            y_pred = model(X)     # inference only \n",
        "            loss = criterion(y_pred, y_target)     # evaluation loss for logging\n",
        "\n",
        "            avg_eval_loss += loss.item() / len(eval_loader)\n",
        "\n",
        "            probs_eval = y_pred.detach().cpu().numpy()\n",
        "            preds_eval += list(probs_eval.flatten())\n",
        "            targets_eval += list(y_target.detach().cpu().numpy().flatten())         \n",
        "\n",
        "        auroc_eval = roc_auc_score(targets_eval, preds_eval)\n",
        "        auprc_eval = average_precision_score(targets_eval, preds_eval, average='micro')      \n",
        "    \n",
        "    print('[Valid]  loss: {:.3f},  auroc: {:.3f},   auprc: {:.3f}'.format(avg_eval_loss, auroc_eval, auprc_eval))\n",
        "    eval_auprc_log.append(auprc_eval)\n",
        "    \n",
        "    if best_eval_auprc < auprc_eval:\n",
        "        best_eval_loss = auprc_eval\n",
        "        best_eval_auroc = auroc_eval\n",
        "        best_eval_auprc = auprc_eval\n",
        "\n",
        "        torch.save({'model_state_dict': model.state_dict(),\n",
        "                    'optimizer_state_dict': optimizer.state_dict(),\n",
        "                    'loss': best_eval_loss,\n",
        "                    'auroc': best_eval_auroc,\n",
        "                    'auprc': best_eval_auprc,\n",
        "                    'epochs': n_epoch}, best_eval_path)\n",
        "\n",
        "        print('Model parameter saved at epoch {}'.format(n_epoch))\n",
        "        \n",
        "print('Training End!')\n",
        "print('Best eval auprc ', best_eval_auprc)\n",
        "print('Best eval auroc', best_eval_auroc)"
      ],
      "execution_count": 76,
      "outputs": [
        {
          "output_type": "stream",
          "name": "stdout",
          "text": [
            "Train Epoch 1 start !\n",
            "[Train]  loss: 0.257,  auroc: 0.534,   auprc: 0.047\n",
            "[Valid]  loss: 0.176,  auroc: 0.606,   auprc: 0.072\n",
            "Model parameter saved at epoch 1\n",
            "Train Epoch 2 start !\n",
            "[Train]  loss: 0.174,  auroc: 0.575,   auprc: 0.056\n",
            "[Valid]  loss: 0.175,  auroc: 0.625,   auprc: 0.086\n",
            "Model parameter saved at epoch 2\n",
            "Train Epoch 3 start !\n",
            "[Train]  loss: 0.171,  auroc: 0.635,   auprc: 0.078\n",
            "[Valid]  loss: 0.168,  auroc: 0.629,   auprc: 0.114\n",
            "Model parameter saved at epoch 3\n",
            "Train Epoch 4 start !\n",
            "[Train]  loss: 0.168,  auroc: 0.670,   auprc: 0.101\n",
            "[Valid]  loss: 0.168,  auroc: 0.630,   auprc: 0.107\n",
            "Train Epoch 5 start !\n",
            "[Train]  loss: 0.161,  auroc: 0.713,   auprc: 0.138\n",
            "[Valid]  loss: 0.178,  auroc: 0.594,   auprc: 0.111\n",
            "Train Epoch 6 start !\n",
            "[Train]  loss: 0.157,  auroc: 0.741,   auprc: 0.174\n",
            "[Valid]  loss: 0.171,  auroc: 0.642,   auprc: 0.124\n",
            "Model parameter saved at epoch 6\n",
            "Train Epoch 7 start !\n",
            "[Train]  loss: 0.154,  auroc: 0.755,   auprc: 0.187\n",
            "[Valid]  loss: 0.174,  auroc: 0.647,   auprc: 0.122\n",
            "Train Epoch 8 start !\n",
            "[Train]  loss: 0.149,  auroc: 0.781,   auprc: 0.231\n",
            "[Valid]  loss: 0.166,  auroc: 0.675,   auprc: 0.137\n",
            "Model parameter saved at epoch 8\n",
            "Train Epoch 9 start !\n",
            "[Train]  loss: 0.146,  auroc: 0.797,   auprc: 0.262\n",
            "[Valid]  loss: 0.165,  auroc: 0.688,   auprc: 0.142\n",
            "Model parameter saved at epoch 9\n",
            "Training End!\n",
            "Best eval auprc  0.14227182546752268\n",
            "Best eval auroc 0.6882438564945628\n"
          ]
        }
      ]
    },
    {
      "cell_type": "markdown",
      "metadata": {
        "id": "5ktuq9ggoxb0"
      },
      "source": [
        "# test"
      ]
    },
    {
      "cell_type": "code",
      "metadata": {
        "id": "9c0QnkBUoxb0",
        "outputId": "9c4739e3-3339-4c87-e5bb-b545d0439f5e",
        "colab": {
          "base_uri": "https://localhost:8080/"
        }
      },
      "source": [
        "print('test!')\n",
        "state_dict = torch.load(best_eval_path)['model_state_dict']\n",
        "model.load_state_dict(state_dict, strict = False)\n",
        "\n",
        "model.eval()\n",
        "\n",
        "preds_test = []\n",
        "targets_test = []\n",
        "avg_test_loss = 0.\n",
        "\n",
        "with torch.no_grad():\n",
        "    for iter, batch in enumerate(test_loader):\n",
        "        X= batch['X'].to(device)\n",
        "        y_target = batch['y_target'].to(device) # to device\n",
        "\n",
        "        y_pred = model(X) \n",
        "        loss = criterion(y_pred, y_target)\n",
        "\n",
        "        avg_test_loss += loss.item() / len(test_loader)\n",
        "\n",
        "        probs_test = y_pred.detach().cpu().numpy()\n",
        "        preds_test += list(probs_test.flatten())\n",
        "        targets_test += list(y_target.detach().cpu().numpy().flatten())         \n",
        "\n",
        "    auroc_test = roc_auc_score(targets_test, preds_test)\n",
        "    auprc_test = average_precision_score(targets_test, preds_test, average='micro')      \n",
        "\n",
        "print('[Test]  loss: {:.3f},     auroc: {:.3f},     auprc:   {:.3f}'.format(avg_test_loss, auroc_test, auprc_test))"
      ],
      "execution_count": 77,
      "outputs": [
        {
          "output_type": "stream",
          "name": "stdout",
          "text": [
            "test!\n",
            "[Test]  loss: 0.161,     auroc: 0.716,     auprc:   0.130\n"
          ]
        }
      ]
    },
    {
      "cell_type": "markdown",
      "metadata": {
        "id": "raSxZSoioxb1"
      },
      "source": [
        "# Visualize"
      ]
    },
    {
      "cell_type": "code",
      "metadata": {
        "id": "b61kJ6Xpoxb1"
      },
      "source": [
        "import matplotlib.pyplot as plt"
      ],
      "execution_count": 78,
      "outputs": []
    },
    {
      "cell_type": "code",
      "metadata": {
        "id": "cGFUOhk3oxb1"
      },
      "source": [
        "x = np.arange(1,config.n_epoch)\n",
        "y1 = train_auprc_log\n",
        "y2 = eval_auprc_log"
      ],
      "execution_count": 79,
      "outputs": []
    },
    {
      "cell_type": "code",
      "metadata": {
        "id": "aOpSnuDOoxb1",
        "outputId": "bcfe4c3f-f77c-4c90-9079-0cba271a37f5",
        "colab": {
          "base_uri": "https://localhost:8080/",
          "height": 295
        }
      },
      "source": [
        "# 도화지 생성\n",
        "fig = plt.figure()\n",
        "# 정확도 그래프 그리기\n",
        "plt.plot(x, train_auprc_log, label='train_auprc', color='darkred')\n",
        "# 축 이름\n",
        "plt.xlabel('epochs')\n",
        "plt.ylabel('AUPRC(%)')\n",
        "plt.title('train_auprc')\n",
        "plt.grid(linestyle='--', color='lavender')\n",
        "# 그래프 표시\n",
        "plt.show()"
      ],
      "execution_count": 80,
      "outputs": [
        {
          "output_type": "display_data",
          "data": {
            "text/plain": [
              "<Figure size 432x288 with 1 Axes>"
            ],
            "image/png": "[encoded data removed]"
          },
          "metadata": {
            "needs_background": "light"
          }
        }
      ]
    },
    {
      "cell_type": "code",
      "metadata": {
        "id": "DItBryLroxb1",
        "outputId": "0c5a6036-ef7c-44a1-c2df-01c5fa50af6d",
        "colab": {
          "base_uri": "https://localhost:8080/",
          "height": 295
        }
      },
      "source": [
        "plt.plot(x, eval_auprc_log, label='eval_auprc', color='darkred')\n",
        "# 축 이름\n",
        "plt.xlabel('epochs')\n",
        "plt.ylabel('AUPRC(%)')\n",
        "plt.title('eval_auprc')\n",
        "plt.grid(linestyle='--', color='lavender')\n",
        "# 그래프 표시\n",
        "plt.show()"
      ],
      "execution_count": 81,
      "outputs": [
        {
          "output_type": "display_data",
          "data": {
            "text/plain": [
              "<Figure size 432x288 with 1 Axes>"
            ],
            "image/png": "[encoded data removed]"
          },
          "metadata": {
            "needs_background": "light"
          }
        }
      ]
    },
    {
      "cell_type": "code",
      "metadata": {
        "id": "VWjGIFLYoxb3"
      },
      "source": [
        ""
      ],
      "execution_count": 81,
      "outputs": []
    }
  ]
}